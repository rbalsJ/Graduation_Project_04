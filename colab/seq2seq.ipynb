{
  "cells": [
    {
      "cell_type": "markdown",
      "id": "f4b3dae5",
      "metadata": {
        "id": "f4b3dae5"
      },
      "source": [
        "## 라이브러리 및 패키지 설치, 임포트"
      ]
    },
    {
      "cell_type": "code",
      "execution_count": 32,
      "id": "0b4da911",
      "metadata": {
        "colab": {
          "base_uri": "https://localhost:8080/"
        },
        "id": "0b4da911",
        "outputId": "9cbdeae5-628c-49aa-e2e7-06aa7c0577c6"
      },
      "outputs": [
        {
          "output_type": "stream",
          "name": "stdout",
          "text": [
            "Collecting hangul_utils\n",
            "  Using cached hangul_utils-0.4.5-py3-none-any.whl (20 kB)\n",
            "Requirement already satisfied: tqdm in /usr/local/lib/python3.10/dist-packages (from hangul_utils) (4.66.1)\n",
            "Requirement already satisfied: six in /usr/local/lib/python3.10/dist-packages (from hangul_utils) (1.16.0)\n",
            "INFO: pip is looking at multiple versions of hangul-utils to determine which version is compatible with other requirements. This could take a while.\n",
            "  Using cached hangul_utils-0.4.4-py3-none-any.whl (20 kB)\n",
            "  Using cached hangul_utils-0.4.3-py3-none-any.whl (20 kB)\n",
            "  Using cached hangul_utils-0.4.2-py3-none-any.whl (20 kB)\n",
            "  Using cached hangul_utils-0.4.1-py3-none-any.whl (20 kB)\n",
            "  Using cached hangul_utils-0.4-py3-none-any.whl (20 kB)\n",
            "  Using cached hangul-utils-0.3.0.tar.gz (4.3 kB)\n",
            "  \u001b[1;31merror\u001b[0m: \u001b[1msubprocess-exited-with-error\u001b[0m\n",
            "  \n",
            "  \u001b[31m×\u001b[0m \u001b[32mpython setup.py egg_info\u001b[0m did not run successfully.\n",
            "  \u001b[31m│\u001b[0m exit code: \u001b[1;36m1\u001b[0m\n",
            "  \u001b[31m╰─>\u001b[0m See above for output.\n",
            "  \n",
            "  \u001b[1;35mnote\u001b[0m: This error originates from a subprocess, and is likely not a problem with pip.\n",
            "  Preparing metadata (setup.py) ... \u001b[?25l\u001b[?25herror\n",
            "\u001b[1;31merror\u001b[0m: \u001b[1mmetadata-generation-failed\u001b[0m\n",
            "\n",
            "\u001b[31m×\u001b[0m Encountered error while generating package metadata.\n",
            "\u001b[31m╰─>\u001b[0m See above for output.\n",
            "\n",
            "\u001b[1;35mnote\u001b[0m: This is an issue with the package mentioned above, not pip.\n",
            "\u001b[1;36mhint\u001b[0m: See above for details.\n",
            "Requirement already satisfied: jamo in /usr/local/lib/python3.10/dist-packages (0.4.1)\n"
          ]
        }
      ],
      "source": [
        "!pip install hangul_utils\n",
        "!pip install jamo\n",
        "\n",
        "import numpy as np\n",
        "import pickle\n",
        "import re\n",
        "import tensorflow as tf\n",
        "import matplotlib.pyplot as plt\n",
        "from jamo import h2j, j2hcj\n",
        "from keras.callbacks import EarlyStopping, ModelCheckpoint\n",
        "from keras.layers import Activation, BatchNormalization, Dense, Dropout, Embedding, LSTM, Masking, RepeatVector, TimeDistributed\n",
        "from keras.models import Sequential, load_model\n",
        "from sklearn.model_selection import train_test_split\n"
      ]
    },
    {
      "cell_type": "markdown",
      "id": "8ae42f6e",
      "metadata": {
        "id": "8ae42f6e"
      },
      "source": [
        "## 데이터 로딩 및 전처리"
      ]
    },
    {
      "cell_type": "code",
      "execution_count": 33,
      "id": "75181ae9",
      "metadata": {
        "id": "75181ae9"
      },
      "outputs": [],
      "source": [
        "### 데이터 로딩 ###\n",
        "\n",
        "\n",
        "pickle_file_path = \"/content/eng_database.pkl\"\n",
        "with open(pickle_file_path,'rb') as f:\n",
        "    data = pickle.load(f)\n",
        "\n",
        "for idx, val in enumerate(data):\n",
        "    data[idx]['origin_lang'] = re.sub('[^a-zA-Z]', '', val['origin_lang'])\n",
        ""
      ]
    },
    {
      "cell_type": "code",
      "execution_count": 34,
      "id": "0445bf08",
      "metadata": {
        "colab": {
          "base_uri": "https://localhost:8080/"
        },
        "id": "0445bf08",
        "outputId": "d742813a-ba70-4cb4-e9d3-ebfe5ab54266"
      },
      "outputs": [
        {
          "output_type": "stream",
          "name": "stdout",
          "text": [
            "Test result\n",
            "0 src: ['gargoyles'], trg: ['ㄱ', 'ㅏ', 'ㄱ', 'ㅗ', 'ㅇ', 'ㅣ', 'ㄹ', 'ㅅ', 'ㅡ']\n",
            "1 src: ['gargle'], trg: ['ㄱ', 'ㅏ', 'ㄱ', 'ㅡ', 'ㄹ']\n",
            "2 src: ['gahnite'], trg: ['ㄱ', 'ㅏ', 'ㄴ', 'ㅏ', 'ㅇ', 'ㅣ', 'ㅌ', 'ㅡ']\n",
            "3 src: ['ganaxolone'], trg: ['ㄱ', 'ㅏ', 'ㄴ', 'ㅏ', 'ㄱ', 'ㅅ', 'ㅗ', 'ㄹ', 'ㄹ', 'ㅗ', 'ㄴ']\n",
            "4 src: ['garnetting'], trg: ['ㄱ', 'ㅏ', 'ㄴ', 'ㅔ', 'ㅌ', 'ㅣ', 'ㅇ']\n",
            "5 src: ['garnett'], trg: ['ㄱ', 'ㅏ', 'ㄴ', 'ㅔ', 'ㅅ']\n",
            "6 src: ['ganoin'], trg: ['ㄱ', 'ㅏ', 'ㄴ', 'ㅗ', 'ㅇ', 'ㅣ', 'ㄴ']\n",
            "7 src: ['garni'], trg: ['ㄱ', 'ㅏ', 'ㄴ', 'ㅣ']\n",
            "8 src: ['garnish'], trg: ['ㄱ', 'ㅏ', 'ㄴ', 'ㅣ', 'ㅅ', 'ㅣ']\n",
            "9 src: ['garnierite'], trg: ['ㄱ', 'ㅏ', 'ㄴ', 'ㅣ', 'ㅇ', 'ㅓ', 'ㄹ', 'ㅏ', 'ㅇ', 'ㅣ', 'ㅌ', 'ㅡ']\n"
          ]
        }
      ],
      "source": [
        "### 데이터 전처리 ###\n",
        "\n",
        "\n",
        "src = []\n",
        "trg = []\n",
        "for idx, val in enumerate(data):\n",
        "    src.append([val['origin_lang']])\n",
        "    # 단어의 초성, 중성, 종성 분해\n",
        "    trg.append([_ for _ in j2hcj(h2j(val['pronun_list']))])\n",
        "\n",
        "print(f\"Test result\")\n",
        "for idx, val in enumerate(src[:10]):\n",
        "  print(f\"{idx} src: {val}, trg: {trg[idx]}\")\n"
      ]
    },
    {
      "cell_type": "code",
      "execution_count": 35,
      "id": "da841495",
      "metadata": {
        "colab": {
          "base_uri": "https://localhost:8080/"
        },
        "id": "da841495",
        "outputId": "63b4a73d-4d9b-464b-abd2-4b615693c511"
      },
      "outputs": [
        {
          "output_type": "stream",
          "name": "stdout",
          "text": [
            "Test result\n",
            "english_letter_list_length: 54\n",
            "korean_letter_list_length: 53\n"
          ]
        }
      ],
      "source": [
        "### 문자-인덱스 매핑 생성 ###\n",
        "\n",
        "\n",
        "# English Data\n",
        "space = [' ']\n",
        "pad = ['<pad>']\n",
        "big = [chr(i) for i in range(ord('A'), ord('Z')+1)]\n",
        "small = [chr(i) for i in range(ord('a'), ord('z')+1)]\n",
        "english_letter_list = pad + big + small + space\n",
        "idx2english = dict(enumerate(english_letter_list, 0))\n",
        "english2idx = {v:k  for k,v in idx2english.items()}\n",
        "\n",
        "# Korean Data\n",
        "consonants = [chr(letter) for letter in range(ord('ㄱ'), ord('ㅎ')+1)]\n",
        "vowel = [chr(letter) for letter in range(ord('ㅏ'), ord('ㅣ')+1)]\n",
        "korean_letter_list = pad + consonants + vowel + space\n",
        "idx2korean = dict(enumerate(korean_letter_list, 0))\n",
        "korean2idx = {v: k for k, v in idx2korean.items()}\n",
        "\n",
        "print(f\"Test result\")\n",
        "print(f\"english_letter_list_length: {len(english_letter_list)}\")\n",
        "print(f\"korean_letter_list_length: {len(korean_letter_list)}\")\n"
      ]
    },
    {
      "cell_type": "code",
      "execution_count": 36,
      "id": "9b4326a1",
      "metadata": {
        "id": "9b4326a1"
      },
      "outputs": [],
      "source": [
        "### 인코딩 및 패딩 처리 ###\n",
        "\n",
        "\n",
        "# 영어, 한글 문자를 해당 인덱스 값으로 변환\n",
        "src2idx = [[english2idx[char] for word in wordlist for char in word] for wordlist in src]\n",
        "trg2idx = [[korean2idx[char] for word in wordlist for char in word] for wordlist in trg]\n",
        "\n",
        "# 각 리스트의 최대 길이 계산\n",
        "max_len_src = max(len(src2idx_list) for src2idx_list in src2idx)\n",
        "max_len_trg = max(len(trg2idx_list) for trg2idx_list in trg2idx)\n",
        "max_len = max(max_len_src, max_len_trg)\n",
        "\n",
        "# 주어진 리스트를 최대 길이로 패딩하여 모든 시퀀스를 동일한 길이로 설정\n",
        "def padding(st_list, max_length, is_trg):\n",
        "  for tmp_list in st_list:\n",
        "    while len(tmp_list) < max_length:\n",
        "      tmp_list.append(0) # 패딩 값으로 0 추가\n",
        "\n",
        "padding(src2idx, max_len_src, False)\n",
        "padding(trg2idx, max_len_trg, True)"
      ]
    },
    {
      "cell_type": "markdown",
      "source": [
        "## 모델 학습"
      ],
      "metadata": {
        "id": "r5t7e95QlC_7"
      },
      "id": "r5t7e95QlC_7"
    },
    {
      "cell_type": "code",
      "source": [
        "### 데이터 준비 및 인코딩 ###\n",
        "\n",
        "\n",
        "# 텐서플로우용 데이터 준비\n",
        "src2idx_tensorflow = src2idx\n",
        "trg2idx_tensorflow = trg2idx\n",
        "\n",
        "# One-hot Encoding\n",
        "X = src2idx_tensorflow\n",
        "y = trg2idx_tensorflow\n",
        "X = np.array(X)\n",
        "y = np.array(y)\n",
        "from keras.utils import np_utils\n",
        "num_classes = len(korean_letter_list)\n",
        "y = np_utils.to_categorical(y, num_classes=num_classes).reshape(y.shape[0], y.shape[1], num_classes)\n",
        "\n",
        "print(y.shape)\n",
        "print(X.shape)"
      ],
      "metadata": {
        "colab": {
          "base_uri": "https://localhost:8080/"
        },
        "id": "77O-ZagZnjkE",
        "outputId": "018cc5c7-3fcc-4a0f-f6f3-e60101f3ef3d"
      },
      "id": "77O-ZagZnjkE",
      "execution_count": 37,
      "outputs": [
        {
          "output_type": "stream",
          "name": "stdout",
          "text": [
            "(61238, 50, 53)\n",
            "(61238, 50)\n"
          ]
        }
      ]
    },
    {
      "cell_type": "code",
      "source": [
        "### 데이터 분할 및 모델 설정 ###\n",
        "\n",
        "\n",
        "# train & test & validation set 나누기\n",
        "X_train, X_test, y_train, y_test = train_test_split(X, y, test_size=0.3)\n",
        "X_train, X_val, y_train, y_val = train_test_split(X_train, y_train, test_size=0.3)\n",
        "\n",
        "# 모델 및 데이터셋 Parameters 설정\n",
        "HIDDEN_SIZE = 200\n",
        "BATCH_SIZE = 100\n",
        "LAYERS = 2\n",
        "MAX_EPOCHS = 100\n",
        "EMBEDDING_OUTPUT_SIZE = 200\n",
        "stop_monitor = 'val_accuracy'\n",
        "stop_delta = 0.005\n",
        "stop_epochs = 20\n"
      ],
      "metadata": {
        "id": "EFMwnn7LnpY_"
      },
      "id": "EFMwnn7LnpY_",
      "execution_count": 38,
      "outputs": []
    },
    {
      "cell_type": "code",
      "source": [
        "### Seq2Seq 모델 구축 및 학습 ###\n",
        "\n",
        "\n",
        "print(f\"Build Model...\")\n",
        "model = Sequential()\n",
        "\n",
        "# 임베딩 레이어\n",
        "model.add(Embedding(input_dim=len(english_letter_list)+1, output_dim=EMBEDDING_OUTPUT_SIZE, input_length=X.shape[1], mask_zero=True))\n",
        "model.add(BatchNormalization())\n",
        "\n",
        "# 첫 번째 LSTM 레이어\n",
        "model.add(LSTM(HIDDEN_SIZE, return_sequences=True, input_shape=(X.shape[1], )))\n",
        "model.add(Dropout(0.2))\n",
        "model.add(BatchNormalization())\n",
        "\n",
        "# 두 번째 LSTM 레이어\n",
        "model.add(LSTM(HIDDEN_SIZE))\n",
        "model.add(Dropout(0.2))\n",
        "model.add(BatchNormalization())\n",
        "\n",
        "# 출력 길이 조절\n",
        "model.add(RepeatVector(y.shape[1]))\n",
        "\n",
        "# 추가 LSTM 레이어들\n",
        "for _ in range(LAYERS):\n",
        "    model.add(LSTM(HIDDEN_SIZE, return_sequences=True))\n",
        "    model.add(Dropout(0.2))\n",
        "    model.add(BatchNormalization())\n",
        "\n",
        "# TimeDistributed를 사용하여 각 시간 단계에 대해 Dense 레이어 적용\n",
        "model.add(TimeDistributed(Dense(len(korean_letter_list))))\n",
        "model.add(Activation('softmax'))\n",
        "\n",
        "# 모델 컴파일\n",
        "model.compile(loss='categorical_crossentropy', optimizer='adam', metrics=['accuracy'])\n",
        "model.summary()\n",
        "print('Done')\n",
        "\n",
        "# 조기 종료 설정\n",
        "callbacks_list = [EarlyStopping(monitor=stop_monitor, min_delta=stop_delta, patience=stop_epochs, verbose=1, mode='auto')]\n",
        "\n",
        "# 모델 학습\n",
        "hist = model.fit(X_train, y_train, validation_data=(X_val, y_val), batch_size=BATCH_SIZE, epochs=MAX_EPOCHS, verbose=1, callbacks=callbacks_list)\n",
        "\n",
        "# 모델 저장\n",
        "model.save('our_sam_model.h5')\n",
        "print(f\"Model saved.\")\n",
        "\n"
      ],
      "metadata": {
        "colab": {
          "base_uri": "https://localhost:8080/"
        },
        "id": "Byq2wyulnt5J",
        "outputId": "93251510-3299-4eac-c788-00b7f9a54c10"
      },
      "id": "Byq2wyulnt5J",
      "execution_count": 39,
      "outputs": [
        {
          "output_type": "stream",
          "name": "stdout",
          "text": [
            "Build Model...\n",
            "Model: \"sequential_2\"\n",
            "_________________________________________________________________\n",
            " Layer (type)                Output Shape              Param #   \n",
            "=================================================================\n",
            " embedding_2 (Embedding)     (None, 50, 200)           11000     \n",
            "                                                                 \n",
            " batch_normalization_6 (Batc  (None, 50, 200)          800       \n",
            " hNormalization)                                                 \n",
            "                                                                 \n",
            " lstm_5 (LSTM)               (None, 50, 200)           320800    \n",
            "                                                                 \n",
            " dropout_4 (Dropout)         (None, 50, 200)           0         \n",
            "                                                                 \n",
            " batch_normalization_7 (Batc  (None, 50, 200)          800       \n",
            " hNormalization)                                                 \n",
            "                                                                 \n",
            " lstm_6 (LSTM)               (None, 200)               320800    \n",
            "                                                                 \n",
            " dropout_5 (Dropout)         (None, 200)               0         \n",
            "                                                                 \n",
            " batch_normalization_8 (Batc  (None, 200)              800       \n",
            " hNormalization)                                                 \n",
            "                                                                 \n",
            " repeat_vector_1 (RepeatVect  (None, 50, 200)          0         \n",
            " or)                                                             \n",
            "                                                                 \n",
            " lstm_7 (LSTM)               (None, 50, 200)           320800    \n",
            "                                                                 \n",
            " dropout_6 (Dropout)         (None, 50, 200)           0         \n",
            "                                                                 \n",
            " batch_normalization_9 (Batc  (None, 50, 200)          800       \n",
            " hNormalization)                                                 \n",
            "                                                                 \n",
            " lstm_8 (LSTM)               (None, 50, 200)           320800    \n",
            "                                                                 \n",
            " dropout_7 (Dropout)         (None, 50, 200)           0         \n",
            "                                                                 \n",
            " batch_normalization_10 (Bat  (None, 50, 200)          800       \n",
            " chNormalization)                                                \n",
            "                                                                 \n",
            " time_distributed_1 (TimeDis  (None, 50, 53)           10653     \n",
            " tributed)                                                       \n",
            "                                                                 \n",
            " activation_1 (Activation)   (None, 50, 53)            0         \n",
            "                                                                 \n",
            "=================================================================\n",
            "Total params: 1,308,853\n",
            "Trainable params: 1,306,853\n",
            "Non-trainable params: 2,000\n",
            "_________________________________________________________________\n",
            "Done\n",
            "Epoch 1/100\n",
            "301/301 [==============================] - 34s 59ms/step - loss: 1.0779 - accuracy: 0.7454 - val_loss: 0.8646 - val_accuracy: 0.7852\n",
            "Epoch 2/100\n",
            "301/301 [==============================] - 12s 39ms/step - loss: 0.6976 - accuracy: 0.7992 - val_loss: 0.6522 - val_accuracy: 0.8078\n",
            "Epoch 3/100\n",
            "301/301 [==============================] - 11s 38ms/step - loss: 0.6260 - accuracy: 0.8127 - val_loss: 0.5627 - val_accuracy: 0.8275\n",
            "Epoch 4/100\n",
            "301/301 [==============================] - 11s 37ms/step - loss: 0.5650 - accuracy: 0.8267 - val_loss: 0.4991 - val_accuracy: 0.8450\n",
            "Epoch 5/100\n",
            "301/301 [==============================] - 11s 38ms/step - loss: 0.5126 - accuracy: 0.8408 - val_loss: 0.4404 - val_accuracy: 0.8607\n",
            "Epoch 6/100\n",
            "301/301 [==============================] - 11s 38ms/step - loss: 0.4729 - accuracy: 0.8516 - val_loss: 0.4237 - val_accuracy: 0.8676\n",
            "Epoch 7/100\n",
            "301/301 [==============================] - 11s 38ms/step - loss: 0.4402 - accuracy: 0.8613 - val_loss: 0.3707 - val_accuracy: 0.8822\n",
            "Epoch 8/100\n",
            "301/301 [==============================] - 11s 36ms/step - loss: 0.4131 - accuracy: 0.8689 - val_loss: 0.3671 - val_accuracy: 0.8818\n",
            "Epoch 9/100\n",
            "301/301 [==============================] - 12s 38ms/step - loss: 0.3933 - accuracy: 0.8747 - val_loss: 0.3276 - val_accuracy: 0.8949\n",
            "Epoch 10/100\n",
            "301/301 [==============================] - 12s 39ms/step - loss: 0.3732 - accuracy: 0.8808 - val_loss: 0.3126 - val_accuracy: 0.9003\n",
            "Epoch 11/100\n",
            "301/301 [==============================] - 12s 38ms/step - loss: 0.3570 - accuracy: 0.8858 - val_loss: 0.3041 - val_accuracy: 0.9031\n",
            "Epoch 12/100\n",
            "301/301 [==============================] - 11s 36ms/step - loss: 0.3460 - accuracy: 0.8889 - val_loss: 0.2981 - val_accuracy: 0.9048\n",
            "Epoch 13/100\n",
            "301/301 [==============================] - 11s 38ms/step - loss: 0.3310 - accuracy: 0.8935 - val_loss: 0.2798 - val_accuracy: 0.9114\n",
            "Epoch 14/100\n",
            "301/301 [==============================] - 11s 37ms/step - loss: 0.3204 - accuracy: 0.8970 - val_loss: 0.2791 - val_accuracy: 0.9129\n",
            "Epoch 15/100\n",
            "301/301 [==============================] - 11s 37ms/step - loss: 0.3086 - accuracy: 0.9006 - val_loss: 0.2779 - val_accuracy: 0.9120\n",
            "Epoch 16/100\n",
            "301/301 [==============================] - 11s 37ms/step - loss: 0.2973 - accuracy: 0.9041 - val_loss: 0.2667 - val_accuracy: 0.9154\n",
            "Epoch 17/100\n",
            "301/301 [==============================] - 11s 37ms/step - loss: 0.4244 - accuracy: 0.8697 - val_loss: 0.3302 - val_accuracy: 0.8967\n",
            "Epoch 18/100\n",
            "301/301 [==============================] - 11s 37ms/step - loss: 0.3499 - accuracy: 0.8888 - val_loss: 0.2775 - val_accuracy: 0.9124\n",
            "Epoch 19/100\n",
            "301/301 [==============================] - 12s 39ms/step - loss: 0.3167 - accuracy: 0.8985 - val_loss: 0.2686 - val_accuracy: 0.9153\n",
            "Epoch 20/100\n",
            "301/301 [==============================] - 11s 35ms/step - loss: 0.3114 - accuracy: 0.9003 - val_loss: 0.2567 - val_accuracy: 0.9195\n",
            "Epoch 21/100\n",
            "301/301 [==============================] - 11s 35ms/step - loss: 0.2906 - accuracy: 0.9066 - val_loss: 0.2603 - val_accuracy: 0.9184\n",
            "Epoch 22/100\n",
            "301/301 [==============================] - 11s 37ms/step - loss: 0.2820 - accuracy: 0.9091 - val_loss: 0.2514 - val_accuracy: 0.9200\n",
            "Epoch 23/100\n",
            "301/301 [==============================] - 16s 53ms/step - loss: 0.2741 - accuracy: 0.9117 - val_loss: 0.2374 - val_accuracy: 0.9263\n",
            "Epoch 24/100\n",
            "301/301 [==============================] - 13s 43ms/step - loss: 0.2683 - accuracy: 0.9138 - val_loss: 0.2464 - val_accuracy: 0.9229\n",
            "Epoch 25/100\n",
            "301/301 [==============================] - 11s 37ms/step - loss: 0.2691 - accuracy: 0.9136 - val_loss: 0.2400 - val_accuracy: 0.9254\n",
            "Epoch 26/100\n",
            "301/301 [==============================] - 11s 38ms/step - loss: 0.2609 - accuracy: 0.9160 - val_loss: 0.2311 - val_accuracy: 0.9287\n",
            "Epoch 27/100\n",
            "301/301 [==============================] - 13s 42ms/step - loss: 0.2513 - accuracy: 0.9190 - val_loss: 0.2374 - val_accuracy: 0.9279\n",
            "Epoch 28/100\n",
            "301/301 [==============================] - 11s 37ms/step - loss: 0.2514 - accuracy: 0.9192 - val_loss: 0.2265 - val_accuracy: 0.9308\n",
            "Epoch 29/100\n",
            "301/301 [==============================] - 11s 38ms/step - loss: 0.2451 - accuracy: 0.9209 - val_loss: 0.2266 - val_accuracy: 0.9310\n",
            "Epoch 30/100\n",
            "301/301 [==============================] - 15s 50ms/step - loss: 0.2379 - accuracy: 0.9233 - val_loss: 0.2200 - val_accuracy: 0.9331\n",
            "Epoch 31/100\n",
            "301/301 [==============================] - 12s 40ms/step - loss: 0.2367 - accuracy: 0.9239 - val_loss: 0.2268 - val_accuracy: 0.9312\n",
            "Epoch 32/100\n",
            "301/301 [==============================] - 13s 42ms/step - loss: 0.2344 - accuracy: 0.9247 - val_loss: 0.2167 - val_accuracy: 0.9341\n",
            "Epoch 33/100\n",
            "301/301 [==============================] - 12s 38ms/step - loss: 0.2265 - accuracy: 0.9273 - val_loss: 0.2252 - val_accuracy: 0.9334\n",
            "Epoch 34/100\n",
            "301/301 [==============================] - 11s 37ms/step - loss: 0.2231 - accuracy: 0.9284 - val_loss: 0.2210 - val_accuracy: 0.9339\n",
            "Epoch 35/100\n",
            "301/301 [==============================] - 12s 38ms/step - loss: 0.2193 - accuracy: 0.9296 - val_loss: 0.2165 - val_accuracy: 0.9358\n",
            "Epoch 36/100\n",
            "301/301 [==============================] - 11s 38ms/step - loss: 0.2164 - accuracy: 0.9303 - val_loss: 0.2581 - val_accuracy: 0.9200\n",
            "Epoch 37/100\n",
            "301/301 [==============================] - 12s 38ms/step - loss: 0.2198 - accuracy: 0.9296 - val_loss: 0.2168 - val_accuracy: 0.9361\n",
            "Epoch 38/100\n",
            "301/301 [==============================] - 13s 44ms/step - loss: 0.2131 - accuracy: 0.9316 - val_loss: 0.2103 - val_accuracy: 0.9376\n",
            "Epoch 39/100\n",
            "301/301 [==============================] - 11s 37ms/step - loss: 0.2059 - accuracy: 0.9339 - val_loss: 0.2111 - val_accuracy: 0.9380\n",
            "Epoch 40/100\n",
            "301/301 [==============================] - 12s 39ms/step - loss: 0.2046 - accuracy: 0.9343 - val_loss: 0.2138 - val_accuracy: 0.9371\n",
            "Epoch 41/100\n",
            "301/301 [==============================] - 12s 39ms/step - loss: 0.2006 - accuracy: 0.9357 - val_loss: 0.2128 - val_accuracy: 0.9365\n",
            "Epoch 42/100\n",
            "301/301 [==============================] - 11s 35ms/step - loss: 0.1946 - accuracy: 0.9377 - val_loss: 0.2149 - val_accuracy: 0.9383\n",
            "Epoch 43/100\n",
            "301/301 [==============================] - 11s 35ms/step - loss: 0.1940 - accuracy: 0.9378 - val_loss: 0.2101 - val_accuracy: 0.9398\n",
            "Epoch 44/100\n",
            "301/301 [==============================] - 11s 37ms/step - loss: 0.1907 - accuracy: 0.9387 - val_loss: 0.2124 - val_accuracy: 0.9393\n",
            "Epoch 45/100\n",
            "301/301 [==============================] - 11s 37ms/step - loss: 0.1874 - accuracy: 0.9400 - val_loss: 0.2088 - val_accuracy: 0.9404\n",
            "Epoch 46/100\n",
            "301/301 [==============================] - 11s 37ms/step - loss: 0.1910 - accuracy: 0.9387 - val_loss: 0.2067 - val_accuracy: 0.9401\n",
            "Epoch 47/100\n",
            "301/301 [==============================] - 11s 37ms/step - loss: 0.1881 - accuracy: 0.9398 - val_loss: 0.2253 - val_accuracy: 0.9370\n",
            "Epoch 48/100\n",
            "301/301 [==============================] - 11s 37ms/step - loss: 0.1820 - accuracy: 0.9416 - val_loss: 0.2123 - val_accuracy: 0.9413\n",
            "Epoch 49/100\n",
            "301/301 [==============================] - 11s 38ms/step - loss: 0.1808 - accuracy: 0.9422 - val_loss: 0.2049 - val_accuracy: 0.9420\n",
            "Epoch 50/100\n",
            "301/301 [==============================] - 11s 35ms/step - loss: 0.1769 - accuracy: 0.9435 - val_loss: 0.2131 - val_accuracy: 0.9414\n",
            "Epoch 51/100\n",
            "301/301 [==============================] - 10s 35ms/step - loss: 0.1767 - accuracy: 0.9434 - val_loss: 0.2065 - val_accuracy: 0.9424\n",
            "Epoch 52/100\n",
            "301/301 [==============================] - 12s 39ms/step - loss: 0.1729 - accuracy: 0.9445 - val_loss: 0.2077 - val_accuracy: 0.9428\n",
            "Epoch 53/100\n",
            "301/301 [==============================] - 11s 37ms/step - loss: 0.1694 - accuracy: 0.9455 - val_loss: 0.2035 - val_accuracy: 0.9442\n",
            "Epoch 54/100\n",
            "301/301 [==============================] - 11s 37ms/step - loss: 0.1697 - accuracy: 0.9455 - val_loss: 0.2079 - val_accuracy: 0.9429\n",
            "Epoch 55/100\n",
            "301/301 [==============================] - 11s 37ms/step - loss: 0.1668 - accuracy: 0.9465 - val_loss: 0.2064 - val_accuracy: 0.9434\n",
            "Epoch 56/100\n",
            "301/301 [==============================] - 11s 37ms/step - loss: 0.1663 - accuracy: 0.9467 - val_loss: 0.2085 - val_accuracy: 0.9426\n",
            "Epoch 57/100\n",
            "301/301 [==============================] - 11s 37ms/step - loss: 0.1683 - accuracy: 0.9462 - val_loss: 0.2006 - val_accuracy: 0.9446\n",
            "Epoch 58/100\n",
            "301/301 [==============================] - 11s 38ms/step - loss: 0.1630 - accuracy: 0.9478 - val_loss: 0.2150 - val_accuracy: 0.9422\n",
            "Epoch 59/100\n",
            "301/301 [==============================] - 12s 39ms/step - loss: 0.1630 - accuracy: 0.9477 - val_loss: 0.2057 - val_accuracy: 0.9440\n",
            "Epoch 60/100\n",
            "301/301 [==============================] - 11s 36ms/step - loss: 0.1608 - accuracy: 0.9487 - val_loss: 0.2045 - val_accuracy: 0.9442\n",
            "Epoch 61/100\n",
            "301/301 [==============================] - 11s 35ms/step - loss: 0.1581 - accuracy: 0.9494 - val_loss: 0.2075 - val_accuracy: 0.9454\n",
            "Epoch 62/100\n",
            "301/301 [==============================] - 11s 37ms/step - loss: 0.1547 - accuracy: 0.9502 - val_loss: 0.2084 - val_accuracy: 0.9453\n",
            "Epoch 63/100\n",
            "301/301 [==============================] - 11s 37ms/step - loss: 0.1555 - accuracy: 0.9501 - val_loss: 0.2060 - val_accuracy: 0.9456\n",
            "Epoch 64/100\n",
            "301/301 [==============================] - 11s 38ms/step - loss: 0.1518 - accuracy: 0.9513 - val_loss: 0.2010 - val_accuracy: 0.9462\n",
            "Epoch 65/100\n",
            "301/301 [==============================] - 11s 37ms/step - loss: 0.1549 - accuracy: 0.9504 - val_loss: 0.2025 - val_accuracy: 0.9465\n",
            "Epoch 66/100\n",
            "301/301 [==============================] - 12s 39ms/step - loss: 0.1504 - accuracy: 0.9517 - val_loss: 0.2037 - val_accuracy: 0.9464\n",
            "Epoch 67/100\n",
            "301/301 [==============================] - 11s 37ms/step - loss: 0.1498 - accuracy: 0.9522 - val_loss: 0.2108 - val_accuracy: 0.9460\n",
            "Epoch 68/100\n",
            "301/301 [==============================] - 11s 37ms/step - loss: 0.1643 - accuracy: 0.9478 - val_loss: 0.2141 - val_accuracy: 0.9447\n",
            "Epoch 69/100\n",
            "301/301 [==============================] - 11s 36ms/step - loss: 0.1485 - accuracy: 0.9525 - val_loss: 0.2061 - val_accuracy: 0.9464\n",
            "Epoch 70/100\n",
            "301/301 [==============================] - 10s 34ms/step - loss: 0.1440 - accuracy: 0.9539 - val_loss: 0.2065 - val_accuracy: 0.9469\n",
            "Epoch 71/100\n",
            "301/301 [==============================] - 11s 36ms/step - loss: 0.1538 - accuracy: 0.9510 - val_loss: 0.2150 - val_accuracy: 0.9450\n",
            "Epoch 72/100\n",
            "301/301 [==============================] - 12s 41ms/step - loss: 0.1507 - accuracy: 0.9518 - val_loss: 0.2035 - val_accuracy: 0.9480\n",
            "Epoch 73/100\n",
            "301/301 [==============================] - 11s 37ms/step - loss: 0.1411 - accuracy: 0.9547 - val_loss: 0.2097 - val_accuracy: 0.9468\n",
            "Epoch 73: early stopping\n",
            "Model saved.\n"
          ]
        }
      ]
    },
    {
      "cell_type": "code",
      "execution_count": 40,
      "id": "a60e36cd",
      "metadata": {
        "colab": {
          "base_uri": "https://localhost:8080/",
          "height": 563
        },
        "id": "a60e36cd",
        "outputId": "fdd00872-f2a6-44df-ba32-320d8b81c231"
      },
      "outputs": [
        {
          "output_type": "stream",
          "name": "stdout",
          "text": [
            "575/575 [==============================] - 6s 10ms/step - loss: 0.2102 - accuracy: 0.9471\n",
            "\n",
            "Last Model: \n",
            "Loss: 0.21\n",
            "Accuracy: 0.95\n"
          ]
        },
        {
          "output_type": "display_data",
          "data": {
            "text/plain": [
              "<Figure size 640x480 with 1 Axes>"
            ],
            "image/png": "[encoded data removed]"
          },
          "metadata": {}
        }
      ],
      "source": [
        "### 모델 평가 및 시각화 ###\n",
        "\n",
        "\n",
        "loss, acc = model.evaluate(X_test, y_test)\n",
        "print()\n",
        "print(f\"Last Model: \")\n",
        "print(f\"Loss: %.2f\" % loss)\n",
        "print(f\"Accuracy: %.2f\" % acc)\n",
        "\n",
        "epochs = range(1, len(hist.history['accuracy']) + 1)\n",
        "plt.plot(epochs, hist.history['loss'])\n",
        "plt.plot(epochs, hist.history['val_loss'])\n",
        "plt.title('model loss')\n",
        "plt.ylabel('loss')\n",
        "plt.xlabel('epoch')\n",
        "plt.legend(['train', 'val'], loc='upper left')\n",
        "plt.show()"
      ]
    },
    {
      "cell_type": "markdown",
      "source": [
        "## 학습된 모델 테스트"
      ],
      "metadata": {
        "id": "eJGSkdSylG75"
      },
      "id": "eJGSkdSylG75"
    },
    {
      "cell_type": "code",
      "source": [
        "### 전처리 함수 정의 ###\n",
        "\n",
        "\n",
        "# model = load_model('/content/our_sam_model.h5')\n",
        "\n",
        "# 영어 문자열을 인덱스 변환\n",
        "def eng2idx(str1):\n",
        "    str2idx = [char for char in str1]\n",
        "    str2idx1 = [english2idx[char] for char in str2idx]\n",
        "    while len(str2idx1) < max_len_src:\n",
        "        str2idx1.append(0)\n",
        "    return [str2idx1]\n",
        "\n",
        "# 모델로 입력 문자열에 대한 한글 발음 예측\n",
        "def one_hot2idx(model, str):\n",
        "    predic = model.predict(eng2idx(str))\n",
        "    predic_char = predic[0][0]\n",
        "    _idx2korean = []\n",
        "    for idx, val in enumerate(predic[0]):\n",
        "        max_index = np.argmax(val)\n",
        "        _idx2korean.append(max_index)\n",
        "    idx2korean_ = [idx2korean[idx] for idx in _idx2korean if idx != 0]\n",
        "    return idx2korean_\n",
        "\n",
        "# 자음, 모음으로 이루어진 한글 합치기\n",
        "def combine_korean_characters(characters):\n",
        "    # 초성, 중성, 종성 리스트\n",
        "    cho = ['ㄱ', 'ㄲ', 'ㄴ', 'ㄷ', 'ㄸ', 'ㄹ', 'ㅁ', 'ㅂ', 'ㅃ', 'ㅅ', 'ㅆ', 'ㅇ', 'ㅈ', 'ㅉ', 'ㅊ', 'ㅋ', 'ㅌ', 'ㅍ', 'ㅎ']\n",
        "    jung = ['ㅏ', 'ㅐ', 'ㅑ', 'ㅒ', 'ㅓ', 'ㅔ', 'ㅕ', 'ㅖ', 'ㅗ', 'ㅘ', 'ㅙ', 'ㅚ', 'ㅛ', 'ㅜ', 'ㅝ', 'ㅞ', 'ㅟ', 'ㅠ', 'ㅡ', 'ㅢ', 'ㅣ']\n",
        "    jong = ['', 'ㄱ', 'ㄲ', 'ㄳ', 'ㄴ', 'ㄵ', 'ㄶ', 'ㄷ', 'ㄹ', 'ㄺ', 'ㄻ', 'ㄼ', 'ㄽ', 'ㄾ', 'ㄿ', 'ㅀ', 'ㅁ', 'ㅂ', 'ㅄ', 'ㅅ', 'ㅆ', 'ㅇ', 'ㅈ', 'ㅊ', 'ㅋ', 'ㅌ', 'ㅍ', 'ㅎ']\n",
        "\n",
        "    # 모음과 모음 사이에 하나의 자음만 있는 경우 처리\n",
        "    idx = 0\n",
        "    while idx < len(characters) - 2:\n",
        "        if characters[idx] in jung and characters[idx+1] in cho and characters[idx+2] in jung:\n",
        "            characters.insert(idx+1, '')\n",
        "            idx += 2\n",
        "        else:\n",
        "            idx += 1\n",
        "\n",
        "    result = []\n",
        "    idx = 0\n",
        "    while idx < len(characters):\n",
        "        c = characters[idx]\n",
        "        # c가 초성인 경우\n",
        "        if c in cho:\n",
        "            # 현재 문자와 다음 두 문자를 조합하여 한글 문자 생성\n",
        "            try:\n",
        "                a = cho.index(c)\n",
        "                b = jung.index(characters[idx+1])\n",
        "                c = jong.index(characters[idx+2])\n",
        "                combined_char = chr(a * 21 * 28 + b * 28 + c + 0xAC00)\n",
        "                result.append(combined_char)\n",
        "                idx += 3\n",
        "            except (IndexError, ValueError):  # 다음 문자가 없거나 종성이 없는 경우\n",
        "                try:\n",
        "                    a = cho.index(c)\n",
        "                    b = jung.index(characters[idx+1])\n",
        "                    combined_char = chr(a * 21 * 28 + b * 28 + 0xAC00)\n",
        "                    result.append(combined_char)\n",
        "                    idx += 2\n",
        "                except (IndexError, ValueError):  # 다음 문자가 없는 경우\n",
        "                    result.append(c)\n",
        "                    idx += 1\n",
        "        else:\n",
        "            result.append(c)\n",
        "            idx += 1\n",
        "\n",
        "    return ''.join(result)"
      ],
      "metadata": {
        "id": "-hHqb_PgrbJJ"
      },
      "id": "-hHqb_PgrbJJ",
      "execution_count": 41,
      "outputs": []
    },
    {
      "cell_type": "code",
      "execution_count": 45,
      "id": "4eba95e9",
      "metadata": {
        "colab": {
          "base_uri": "https://localhost:8080/"
        },
        "id": "4eba95e9",
        "outputId": "d38757a9-476e-4b52-925f-b2ebcd53b9d2"
      },
      "outputs": [
        {
          "output_type": "stream",
          "name": "stdout",
          "text": [
            "1/1 [==============================] - 0s 41ms/step\n",
            "Input: haribo, Output: 하리보\n",
            "1/1 [==============================] - 0s 37ms/step\n",
            "Input: dermatix, Output: 데마틱스\n",
            "1/1 [==============================] - 0s 37ms/step\n",
            "Input: pringles, Output: 프링레스\n",
            "1/1 [==============================] - 0s 41ms/step\n",
            "Input: lotte, Output: 로테\n",
            "1/1 [==============================] - 0s 41ms/step\n",
            "Input: samsung, Output: 샘성\n",
            "1/1 [==============================] - 0s 42ms/step\n",
            "Input: hyundai, Output: 힌데이\n",
            "1/1 [==============================] - 0s 40ms/step\n",
            "Input: busan, Output: 부산\n",
            "1/1 [==============================] - 0s 42ms/step\n",
            "Input: control, Output: 컨트롤\n",
            "1/1 [==============================] - 0s 64ms/step\n",
            "Input: maxforce, Output: 맥스포스\n",
            "1/1 [==============================] - 0s 60ms/step\n",
            "Input: monalisa, Output: 모날리자\n",
            "1/1 [==============================] - 0s 57ms/step\n",
            "Input: gimchi, Output: 김치\n",
            "1/1 [==============================] - 0s 59ms/step\n",
            "Input: Jangjeondong, Output: 쟁즈논동\n"
          ]
        }
      ],
      "source": [
        "### 테스트 및 출력 ###\n",
        "\n",
        "words_to_test = [\"haribo\", \"dermatix\", \"pringles\", \"lotte\", \"samsung\", \"hyundai\", \"busan\", \"control\", \"maxforce\", \"monalisa\", \"gimchi\", \"Jangjeondong\"]\n",
        "\n",
        "for word in words_to_test:\n",
        "    result = one_hot2idx(model, word)\n",
        "    print(f\"Input: {word}, Output: {combine_korean_characters(result)}\")\n"
      ]
    }
  ],
  "metadata": {
    "colab": {
      "provenance": [],
      "gpuType": "T4"
    },
    "language_info": {
      "name": "python"
    },
    "kernelspec": {
      "name": "python3",
      "display_name": "Python 3"
    },
    "accelerator": "GPU"
  },
  "nbformat": 4,
  "nbformat_minor": 5
}