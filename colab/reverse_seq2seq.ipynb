{
  "nbformat": 4,
  "nbformat_minor": 0,
  "metadata": {
    "colab": {
      "provenance": [],
      "gpuType": "T4"
    },
    "kernelspec": {
      "name": "python3",
      "display_name": "Python 3"
    },
    "language_info": {
      "name": "python"
    },
    "accelerator": "GPU"
  },
  "cells": [
    {
      "cell_type": "markdown",
      "source": [],
      "metadata": {
        "id": "O6-Id3phvYK-"
      }
    },
    {
      "cell_type": "code",
      "source": [
        "import re\n",
        "\n",
        "def extract_alpha_words_from_file(file_path):\n",
        "    alpha_words = []\n",
        "\n",
        "    with open(file_path, 'r') as file:\n",
        "        for line in file:\n",
        "            words = line.split()\n",
        "            for word in words:\n",
        "                # 정규식을 사용하여 알파벳으로만 이루어진 단어를 추출\n",
        "                alpha_word = re.sub(r'[^a-zA-Z]', '', word)\n",
        "                if alpha_word:\n",
        "                    alpha_words.append(alpha_word)\n",
        "\n",
        "    return alpha_words\n",
        "\n",
        "def save_alpha_words_to_file(alpha_words, output_file_path):\n",
        "    with open(output_file_path, 'w') as file:\n",
        "        for word in alpha_words:\n",
        "            file.write(word + '\\n')\n",
        "\n",
        "input_file_path = '/content/eng_source.txt'  # 실제 파일 경로로 변경해주세요.\n",
        "output_file_path = '/content/eng_source_alpha.txt'  # 실제 출력 파일 경로로 변경해주세요.\n",
        "\n",
        "alpha_words = extract_alpha_words_from_file(input_file_path)\n",
        "save_alpha_words_to_file(alpha_words, output_file_path)\n",
        "\n",
        "print(\"알파벳 단어가 저장되었습니다.\")\n"
      ],
      "metadata": {
        "colab": {
          "base_uri": "https://localhost:8080/"
        },
        "id": "OXBbw_dz6EPS",
        "outputId": "bec7a9f1-9203-4736-a24e-21138c24db57"
      },
      "execution_count": null,
      "outputs": [
        {
          "output_type": "stream",
          "name": "stdout",
          "text": [
            "알파벳 단어가 저장되었습니다.\n"
          ]
        }
      ]
    },
    {
      "cell_type": "code",
      "source": [
        "import pickle\n",
        "\n",
        "def merge_pickles(file1, file2, output_file):\n",
        "    # Load data from the first pickle file\n",
        "    with open(file1, 'rb') as f1:\n",
        "        data1 = pickle.load(f1)\n",
        "\n",
        "    # Load data from the second pickle file\n",
        "    with open(file2, 'rb') as f2:\n",
        "        data2 = pickle.load(f2)\n",
        "\n",
        "    # Create a dictionary to store merged data\n",
        "    merged_data = {}\n",
        "\n",
        "    # Add data from the first pickle file to merged_data\n",
        "    for item in data1:\n",
        "        origin_lang = item['origin_lang']\n",
        "        if origin_lang not in merged_data:\n",
        "            merged_data[origin_lang] = item\n",
        "\n",
        "    # Add data from the second pickle file to merged_data\n",
        "    for item in data2:\n",
        "        origin_lang = item['origin_lang']\n",
        "        if origin_lang not in merged_data:\n",
        "            merged_data[origin_lang] = item\n",
        "\n",
        "    # Save the merged data to the output pickle file\n",
        "    with open(output_file, 'wb') as output_f:\n",
        "        pickle.dump(list(merged_data.values()), output_f)\n",
        "\n",
        "# Paths to the input pickle files and the output merged pickle file\n",
        "pickle_file1 = '/content/eng_database.pkl'\n",
        "pickle_file2 = '/content/sorted_eng_data.pkl'\n",
        "output_pickle_file = '/content/merged_eng.pkl'\n",
        "\n",
        "# Call the merge_pickles function to merge the pickle files\n",
        "merge_pickles(pickle_file1, pickle_file2, output_pickle_file)\n",
        "\n",
        "print(\"Pickle files merged successfully!\")\n"
      ],
      "metadata": {
        "colab": {
          "base_uri": "https://localhost:8080/"
        },
        "id": "JpXlkmwzkJHn",
        "outputId": "1daa4406-d3a7-46a5-903e-3091a6b3b2e6"
      },
      "execution_count": null,
      "outputs": [
        {
          "output_type": "stream",
          "name": "stdout",
          "text": [
            "Pickle files merged successfully!\n"
          ]
        }
      ]
    },
    {
      "cell_type": "code",
      "source": [
        "import pickle\n",
        "\n",
        "# pickle 파일 읽기\n",
        "input_filename = '/content/merged_eng.pkl'\n",
        "output_filename = '/content/output.txt'\n",
        "\n",
        "try:\n",
        "    with open(input_filename, 'rb') as f:\n",
        "        data = pickle.load(f)\n",
        "except FileNotFoundError:\n",
        "    print(f\"{input_filename} 파일을 찾을 수 없습니다.\")\n",
        "    exit()\n",
        "\n",
        "# 읽어온 데이터를 txt 파일로 저장\n",
        "try:\n",
        "    with open(output_filename, 'w') as f:\n",
        "        f.write(str(data))\n",
        "    print(f\"{output_filename} 파일로 데이터를 저장했습니다.\")\n",
        "except Exception as e:\n",
        "    print(f\"파일 저장 중 오류가 발생했습니다: {e}\")"
      ],
      "metadata": {
        "colab": {
          "base_uri": "https://localhost:8080/"
        },
        "id": "Szo8Li9SkbLI",
        "outputId": "f2165fd5-f0a0-4c5d-e9c4-f5e6271e478f"
      },
      "execution_count": null,
      "outputs": [
        {
          "output_type": "stream",
          "name": "stdout",
          "text": [
            "/content/output.txt 파일로 데이터를 저장했습니다.\n"
          ]
        }
      ]
    },
    {
      "cell_type": "code",
      "execution_count": null,
      "metadata": {
        "colab": {
          "base_uri": "https://localhost:8080/"
        },
        "id": "jLVe89UkR5Dq",
        "outputId": "14177d00-a846-452c-cb5b-ad7600e6258b"
      },
      "outputs": [
        {
          "output_type": "stream",
          "name": "stdout",
          "text": [
            "{'origin_lang': 'garnet', 'pronun_list': '가닛'}\n"
          ]
        }
      ],
      "source": [
        "import pickle\n",
        "\n",
        "pickle_file_path = \"/content/merged_eng.pkl\"\n",
        "with open(pickle_file_path,'rb') as f:\n",
        "  data = pickle.load(f)\n",
        "\n",
        "print(data[10])"
      ]
    },
    {
      "cell_type": "code",
      "source": [
        "data_alp = [\n",
        "            ('에이', '외래어', '어휘', None, '에이', None, '일반어', '명사', 'A', None),\n",
        "            ('에이', '외래어', '어휘', None, '에이', None, '일반어', '명사', 'a', None),\n",
        "            ('비', '외래어', '어휘', None, '비', None, '일반어', '명사', 'B', None),\n",
        "            ('비', '외래어', '어휘', None, '비', None, '일반어', '명사', 'b', None),\n",
        "            ('시', '외래어', '어휘', None, '시', None, '일반어', '명사', 'C', None),\n",
        "            ('시', '외래어', '어휘', None, '시', None, '일반어', '명사', 'c', None),\n",
        "            ('디', '외래어', '어휘', None, '디', None, '일반어', '명사', 'D', None),\n",
        "            ('디', '외래어', '어휘', None, '디', None, '일반어', '명사', 'd', None),\n",
        "            ('이', '외래어', '어휘', None, '이', None, '일반어', '명사', 'E', None),\n",
        "            ('이', '외래어', '어휘', None, '이', None, '일반어', '명사', 'e', None),\n",
        "            ('에프', '외래어', '어휘', None, '에프', None, '일반어', '명사', 'F', None),\n",
        "            ('에프', '외래어', '어휘', None, '에프', None, '일반어', '명사', 'f', None),\n",
        "            ('지', '외래어', '어휘', None, '지', None, '일반어', '명사', 'G', None),\n",
        "            ('지', '외래어', '어휘', None, '지', None, '일반어', '명사', 'g', None),\n",
        "            ('에이치', '외래어', '어휘', None, '에이치', None, '일반어', '명사', 'H', None),\n",
        "            ('에이치', '외래어', '어휘', None, '에이치', None, '일반어', '명사', 'h', None),\n",
        "            ('아이', '외래어', '어휘', None, '아이', None, '일반어', '명사', 'I', None),\n",
        "            ('아이', '외래어', '어휘', None, '아이', None, '일반어', '명사', 'i', None),\n",
        "            ('제이', '외래어', '어휘', None, '제이', None, '일반어', '명사', 'J', None),\n",
        "            ('제이', '외래어', '어휘', None, '제이', None, '일반어', '명사', 'j', None),\n",
        "            ('케이', '외래어', '어휘', None, '케이', None, '일반어', '명사', 'K', None),\n",
        "            ('케이', '외래어', '어휘', None, '케이', None, '일반어', '명사', 'k', None),\n",
        "            ('엘', '외래어', '어휘', None, '엘', None, '일반어', '명사', 'L', None),\n",
        "            ('엘', '외래어', '어휘', None, '엘', None, '일반어', '명사', 'l', None),\n",
        "            ('엠', '외래어', '어휘', None, '엠', None, '일반어', '명사', 'M', None),\n",
        "            ('엠', '외래어', '어휘', None, '엠', None, '일반어', '명사', 'm', None),\n",
        "            ('엔', '외래어', '어휘', None, '엔', None, '일반어', '명사', 'N', None),\n",
        "            ('엔', '외래어', '어휘', None, '엔', None, '일반어', '명사', 'n', None),\n",
        "            ('오', '외래어', '어휘', None, '오', None, '일반어', '명사', 'O', None),\n",
        "            ('오', '외래어', '어휘', None, '오', None, '일반어', '명사', 'o', None),\n",
        "            ('피', '외래어', '어휘', None, '피', None, '일반어', '명사', 'P', None),\n",
        "            ('피', '외래어', '어휘', None, '피', None, '일반어', '명사', 'p', None),\n",
        "            ('큐', '외래어', '어휘', None, '큐', None, '일반어', '명사', 'Q', None),\n",
        "            ('큐', '외래어', '어휘', None, '큐', None, '일반어', '명사', 'q', None),\n",
        "            ('알', '외래어', '어휘', None, '알', None, '일반어', '명사', 'R', None),\n",
        "            ('알', '외래어', '어휘', None, '알', None, '일반어', '명사', 'r', None),\n",
        "            ('에스', '외래어', '어휘', None, '에스', None, '일반어', '명사', 'S', None),\n",
        "            ('에스', '외래어', '어휘', None, '에스', None, '일반어', '명사', 's', None),\n",
        "            ('티', '외래어', '어휘', None, '티', None, '일반어', '명사', 'T', None),\n",
        "            ('티', '외래어', '어휘', None, '티', None, '일반어', '명사', 't', None),\n",
        "            ('유', '외래어', '어휘', None, '유', None, '일반어', '명사', 'U', None),\n",
        "            ('유', '외래어', '어휘', None, '유', None, '일반어', '명사', 'u', None),\n",
        "            ('브이', '외래어', '어휘', None, '브이', None, '일반어', '명사', 'V', None),\n",
        "            ('브이', '외래어', '어휘', None, '브이', None, '일반어', '명사', 'v', None),\n",
        "            ('더블유', '외래어', '어휘', None, '더블유', None, '일반어', '명사', 'W', None),\n",
        "            ('더블유', '외래어', '어휘', None, '더블유', None, '일반어', '명사', 'w', None),\n",
        "            ('엑스', '외래어', '어휘', None, '엑스', None, '일반어', '명사', 'X', None),\n",
        "            ('엑스', '외래어', '어휘', None, '엑스', None, '일반어', '명사', 'x', None),\n",
        "            ('와이', '외래어', '어휘', None, '와이', None, '일반어', '명사', 'Y', None),\n",
        "            ('와이', '외래어', '어휘', None, '와이', None, '일반어', '명사', 'y', None),\n",
        "            ('지', '외래어', '어휘', None, '지', None, '일반어', '명사', 'Z', None),\n",
        "            ('지', '외래어', '어휘', None, '지', None, '일반어', '명사', 'z', None),\n",
        "        ]\n",
        "data_ = set()\n",
        "\n",
        "for idx, val in enumerate(data):\n",
        "  data_.add(val['origin_lang'])\n",
        "\n",
        "for idx, val in enumerate(data_alp):\n",
        "  if val[8] not in data_:\n",
        "    data.append({'origin_lang': val[8], 'pronun_list': val[0]})"
      ],
      "metadata": {
        "id": "7S-dV3a1Rvw4"
      },
      "execution_count": null,
      "outputs": []
    },
    {
      "cell_type": "markdown",
      "source": [],
      "metadata": {
        "id": "3CWh-x8ZvY41"
      }
    },
    {
      "cell_type": "code",
      "source": [
        "import re\n",
        "\n",
        "for idx, val in enumerate(data):\n",
        "  data[idx]['origin_lang'] = re.sub('[^a-zA-Z]', '', val['origin_lang']).strip()\n",
        "\n",
        "# # 중복을 제거한 결과를 저장할 리스트\n",
        "# filtered_data = []\n",
        "\n",
        "# # 중복된 값을 저장하기 위한 set\n",
        "# unique_origin_lang = set()\n",
        "\n",
        "# for entry in data:\n",
        "#     origin_lang = entry['origin_lang']\n",
        "#     if origin_lang not in unique_origin_lang:\n",
        "#         unique_origin_lang.add(origin_lang)\n",
        "#         filtered_data.append(entry)\n",
        "\n",
        "# print(filtered_data)\n"
      ],
      "metadata": {
        "id": "hTQRWcWNSoAi"
      },
      "execution_count": null,
      "outputs": []
    },
    {
      "cell_type": "code",
      "source": [
        "!pip install jamo"
      ],
      "metadata": {
        "colab": {
          "base_uri": "https://localhost:8080/"
        },
        "id": "jA-kKEhuSqfa",
        "outputId": "5c83bdc2-2ba1-4c06-f277-62f0ba4018fd"
      },
      "execution_count": null,
      "outputs": [
        {
          "output_type": "stream",
          "name": "stdout",
          "text": [
            "Collecting jamo\n",
            "  Downloading jamo-0.4.1-py3-none-any.whl (9.5 kB)\n",
            "Installing collected packages: jamo\n",
            "Successfully installed jamo-0.4.1\n"
          ]
        }
      ]
    },
    {
      "cell_type": "code",
      "source": [
        "from jamo import h2j, j2hcj\n",
        "\n",
        "def jamo(txt):\n",
        "  return [_ for _ in j2hcj(h2j(txt))]\n"
      ],
      "metadata": {
        "id": "EYzHDgqTStJT"
      },
      "execution_count": null,
      "outputs": []
    },
    {
      "cell_type": "code",
      "source": [
        "src = []\n",
        "trg = []\n",
        "\n",
        "# for idx, val in enumerate(filtered_data):\n",
        "#   src.append([val['origin_lang']])\n",
        "\n",
        "# trg = [[char for word in wordlist['pronun_list'] for char in word] for wordlist in filtered_data]\n",
        "\n",
        "for idx, val in enumerate(data):\n",
        "  src.append([val['origin_lang']])\n",
        "\n",
        "trg = [[char for word in wordlist['pronun_list'] for char in word] for wordlist in data]"
      ],
      "metadata": {
        "id": "HfkWfBixSwI7"
      },
      "execution_count": null,
      "outputs": []
    },
    {
      "cell_type": "code",
      "source": [
        "print(trg[-1])\n",
        "print(src[-1])"
      ],
      "metadata": {
        "colab": {
          "base_uri": "https://localhost:8080/"
        },
        "id": "Qa7IDDSxoON8",
        "outputId": "28a81fdf-cb5d-42db-a10b-57b7fe3b019d"
      },
      "execution_count": null,
      "outputs": [
        {
          "output_type": "stream",
          "name": "stdout",
          "text": [
            "['와', '이']\n",
            "['y']\n"
          ]
        }
      ]
    },
    {
      "cell_type": "code",
      "source": [
        "korean_char = [char for word in trg for char in word]\n",
        "korean_char_unique = list(sorted(set(korean_char)))\n"
      ],
      "metadata": {
        "id": "tho9u_BCcR6-"
      },
      "execution_count": null,
      "outputs": []
    },
    {
      "cell_type": "code",
      "source": [
        "## Ready for data Pre-Processing\n",
        "space = [' ']\n",
        "pad = ['<pad>']\n",
        "_and = ['&']\n",
        "# Prepare English Data\n",
        "big = [chr(i) for i in range(ord('A'), ord('Z')+1)]\n",
        "small = [chr(i) for i in range(ord('a'), ord('z')+1)]\n",
        "\n",
        "english_letter_list = pad + big + small + space + _and\n",
        "\n",
        "idx2english = dict(enumerate(english_letter_list, 0))\n",
        "english2idx = {v:k  for k,v in idx2english.items()}\n",
        "\n",
        "\n",
        "# Prepare Korean Data\n",
        "consonants = [chr(letter) for letter in range(ord('가'), ord('힣')+1)]\n",
        "# vowel = [chr(letter) for letter in range(ord('ㅏ'), ord('ㅣ')+1)]\n",
        "\n",
        "korean_letter_list = pad + korean_char_unique +  space\n",
        "\n",
        "# Make a mapping with index\n",
        "idx2korean = dict(enumerate(korean_letter_list, 0))\n",
        "korean2idx = {v: k for k, v in idx2korean.items()}\n",
        "\n",
        "print(len(english_letter_list))\n",
        "print(len(korean_letter_list))"
      ],
      "metadata": {
        "colab": {
          "base_uri": "https://localhost:8080/"
        },
        "id": "sc1NJsIIS1rS",
        "outputId": "ea758d4a-8098-4d7c-cde2-8acd590c784c"
      },
      "execution_count": null,
      "outputs": [
        {
          "output_type": "stream",
          "name": "stdout",
          "text": [
            "55\n",
            "904\n"
          ]
        }
      ]
    },
    {
      "cell_type": "code",
      "source": [
        "for idx, val in enumerate()"
      ],
      "metadata": {
        "colab": {
          "base_uri": "https://localhost:8080/",
          "height": 147
        },
        "id": "8VrMeJZfqYRA",
        "outputId": "76ff5c9e-3439-4e8c-cbb2-7d9b00c89756"
      },
      "execution_count": null,
      "outputs": [
        {
          "output_type": "error",
          "ename": "SyntaxError",
          "evalue": "ignored",
          "traceback": [
            "\u001b[0;36m  File \u001b[0;32m\"<ipython-input-11-6b2b61991c94>\"\u001b[0;36m, line \u001b[0;32m1\u001b[0m\n\u001b[0;31m    for idx, val in enumerate()\u001b[0m\n\u001b[0m                               ^\u001b[0m\n\u001b[0;31mSyntaxError\u001b[0m\u001b[0;31m:\u001b[0m expected ':'\n"
          ]
        }
      ]
    },
    {
      "cell_type": "code",
      "source": [
        "import copy\n",
        "\n",
        "src2idx = []\n",
        "src2idx = [[english2idx[char] for word in wordlist for char in word] for wordlist in src]\n",
        "\n",
        "\n",
        "trg2idx = []\n",
        "trg2idx = [[korean2idx[char] for word in wordlist for char in word] for wordlist in trg]\n",
        "\n",
        "src2idx_ = []\n",
        "trg2idx_ = []\n",
        "for idx, value in enumerate(src2idx):\n",
        "  if len(src2idx[idx]) <= 20:\n",
        "      src2idx_.append(value)\n",
        "      trg2idx_.append(trg2idx[idx])\n",
        "\n",
        "\n",
        "src2idx = src2idx_\n",
        "trg2idx = trg2idx_\n",
        "num_10 = 0\n",
        "num_20 = 0\n",
        "num_30 = 0\n",
        "num_40 = 0\n",
        "num_40_over = 0\n",
        "for idx, value in enumerate(src2idx):\n",
        "  if len(src2idx[idx]) <= 10:\n",
        "    num_10 += 1\n",
        "  elif len(src2idx[idx]) <= 20:\n",
        "    num_20 += 1\n",
        "  elif len(src2idx[idx]) <= 30:\n",
        "    num_30 += 1\n",
        "  elif len(src2idx[idx]) <= 40:\n",
        "    num_40 += 1\n",
        "  elif len(src2idx[idx]) > 40:\n",
        "    num_40_over += 1\n",
        "\n",
        "print(f\"num_10 : {num_10}, num_20 : {num_20}, num_30: {num_30}, num_40 : {num_40}, num_40_over : {num_40_over}\")\n",
        "\n",
        "src2idx_reverse = copy.deepcopy(src2idx) # 단어 벡터를 lstm에 거꾸로 집어넣었을 때, 정확도를 보기 위해서 만듬\n",
        "\n",
        "max_len_src = max(len(src2idx_list) for src2idx_list in src2idx)\n",
        "max_len_trg = max(len(trg2idx_list) for trg2idx_list in trg2idx)\n",
        "\n",
        "\n",
        "print(max_len_src)\n",
        "print(max_len_trg)"
      ],
      "metadata": {
        "id": "zEOOiDD0S8Oz",
        "colab": {
          "base_uri": "https://localhost:8080/"
        },
        "outputId": "57d93ddc-656e-4696-be78-ef143a1114fc"
      },
      "execution_count": null,
      "outputs": [
        {
          "output_type": "stream",
          "name": "stdout",
          "text": [
            "num_10 : 37995, num_20 : 25183, num_30: 0, num_40 : 0, num_40_over : 0\n",
            "20\n",
            "15\n"
          ]
        }
      ]
    },
    {
      "cell_type": "code",
      "source": [
        "def padding(st_list, max_length, is_trg):\n",
        "  # if is_trg == True:\n",
        "  for tmp_list in st_list:\n",
        "    while len(tmp_list) < max_length:\n",
        "      tmp_list.append(0)\n",
        "  # else:\n",
        "  #   for tmp_list in st_list:\n",
        "  #     while len(tmp_list) < max_length + 2:\n",
        "  #       tmp_list.append(0)\n",
        "\n",
        "padding(src2idx, max_len_src, False)\n",
        "padding(trg2idx, max_len_trg, True)\n",
        "\n",
        "src_size = len(src2idx)\n",
        "trg_size = len(trg2idx)\n",
        "\n",
        "src2idx_tensorflow = src2idx\n",
        "trg2idx_tensorflow = trg2idx\n",
        "\n",
        "src2idx_tensorflow_reverse = src2idx_reverse # 역변환\n"
      ],
      "metadata": {
        "id": "_vPvH6IGTUFC"
      },
      "execution_count": null,
      "outputs": []
    },
    {
      "cell_type": "code",
      "source": [
        "# 리스트 역\n",
        "\n",
        "import numpy as np\n",
        "\n",
        "X = src2idx_tensorflow_reverse\n",
        "y = trg2idx_tensorflow\n",
        "padding(X, max_len_src, False)\n",
        "z = []\n",
        "print(X[0])\n",
        "print(len(X[0]))\n",
        "for idx, val in enumerate(X):\n",
        "  z.append(val[::-1])\n",
        "X = z\n",
        "X = np.array(X)\n",
        "y = np.array(y)\n",
        "\n",
        "print(X[:50])\n",
        "\n"
      ],
      "metadata": {
        "colab": {
          "base_uri": "https://localhost:8080/"
        },
        "id": "Axv6AvuDv-rF",
        "outputId": "4e05e3fd-0946-42ba-887e-47fbc96806b0"
      },
      "execution_count": null,
      "outputs": [
        {
          "output_type": "stream",
          "name": "stdout",
          "text": [
            "[33, 27, 44, 33, 41, 51, 38, 31, 45, 0, 0, 0, 0, 0, 0, 0, 0, 0, 0, 0]\n",
            "20\n",
            "[[ 0  0  0  0  0  0  0  0  0  0  0 45 31 38 51 41 33 44 27 33]\n",
            " [ 0  0  0  0  0  0  0  0  0  0  0  0  0  0 31 38 33 44 27 33]\n",
            " [ 0  0  0  0  0  0  0  0  0  0  0  0  0 31 46 35 40 34 27 33]\n",
            " [ 0  0  0  0  0  0  0  0  0  0 31 40 41 38 41 50 27 40 27 33]\n",
            " [ 0  0  0  0  0  0  0  0  0  0 33 40 35 46 46 31 40 44 27 33]\n",
            " [ 0  0  0  0  0  0  0  0  0  0  0  0  0 46 46 31 40 44 27 33]\n",
            " [ 0  0  0  0  0  0  0  0  0  0  0  0  0  0 40 35 41 40 27 33]\n",
            " [ 0  0  0  0  0  0  0  0  0  0  0  0  0  0  0 35 40 44 27 33]\n",
            " [ 0  0  0  0  0  0  0  0  0  0  0  0  0 34 45 35 40 44 27 33]\n",
            " [ 0  0  0  0  0  0  0  0  0  0 31 46 35 44 31 35 40 44 27 33]\n",
            " [ 0  0  0  0  0  0  0  0  0  0  0  0  0  0 46 31 40 44 27 33]\n",
            " [ 0  0  0  0  0  0  0  0  0 44 31 42 27 42 46 31 40 44 27 33]\n",
            " [ 0  0  0  0  0  0  0  0  0  0  0 30 31 44 46 31 40 44 27 33]\n",
            " [ 0  0  0  0  0  0  0  0  0 31 30 35 39 27 35 30 41 30 27 33]\n",
            " [ 0  0  0  0  0  0  0  0  0 38 41 30 35 44 31 46 41 30 27 33]\n",
            " [ 0  0  0  0  0  0  0  0  0  0 31 46 35 40 35 38 41 30 27 33]\n",
            " [ 0  0  0  0  0  0  0  0  0  0 39 47 35 40 35 38 41 30 27 33]\n",
            " [ 0  0  0  0  0  0  0  0  0  0  0  0  0  0  0 30 44 27 47 33]\n",
            " [ 0  0  0  0  0  0  0  0  0  0  0  0  0 37 29 41 44 30 41 33]\n",
            " [ 0  0  0  0  0  0  0  0  0  0  0 30 40 27 28 30 44 27 47 33]\n",
            " [ 0  0  0  0  0  0  0  0  0  0 40 35 27 34 29 30 44 27 47 33]\n",
            " [ 0  0  0  0  0  0  0  0  0  0 31 38 28 27 29 30 44 27 47 33]\n",
            " [ 0  0  0  0  0  0  0  0  0  0  0 31 42 35 42 30 44 27 47 33]\n",
            " [ 0  0  0  0  0  0  0  0  0  0  0 45 45 27 42 30 44 27 47 33]\n",
            " [34 29 46 27 39 45 35 39 33 40 35 46 45 41 42 30 44 27 47 33]\n",
            " [ 0  0  0  0  0  0  0  0  0  0  0 44 35 27 34 30 44 27 47 33]\n",
            " [ 0  0  0  0  0  0  0  0  0  0  0 33 40 35 40 31 30 44 27 33]\n",
            " [ 0  0  0  0  0  0  0  0  0  0  0 38 35 27 44 30 44 27 47 33]\n",
            " [ 0  0  0  0  0  0  0  0  0  0  0  0  0  0 45 30 44 27 47 33]\n",
            " [ 0  0  0  0  0  0 46 27 41 29 44 31 48 41 45 30 44 27 47 33]\n",
            " [ 0  0  0  0  0  0  0 46 27 41 29 40 27 39 45 30 44 27 47 33]\n",
            " [ 0  0  0  0  0  0  0  0  0  0 31 29 40 31 32 30 44 27 47 33]\n",
            " [ 0  0  0  0  0  0  0  0  0  0  0  0  0  0 40 31 30 44 27 33]\n",
            " [ 0  0  0  0  0  0  0  0  0  0 32 38 41 33 40 31 30 44 27 33]\n",
            " [ 0  0  0  0  0  0 44 31 40 33 35 45 31 30 40 31 30 44 27 33]\n",
            " [ 0  0  0  0  0  0  0  0  0 44 31 49 41 39 40 31 30 44 27 33]\n",
            " [ 0  0  0  0  0  0  0  0 44 31 33 44 47 28 40 31 30 44 27 33]\n",
            " [ 0  0  0  0  0  0  0  0  0 51 46 44 27 42 40 31 30 44 27 33]\n",
            " [ 0  0  0  0  0  0  0  0  0  0  0 27 31 42 40 31 30 44 27 33]\n",
            " [ 0  0  0  0  0  0  0  0  0  0  0  0 40 27 33 35 30 44 27 29]\n",
            " [ 0  0  0  0  0  0  0  0  0  0  0  0 33 40 35 30 44 27 47 33]\n",
            " [ 0  0  0  0  0  0  0  0  0  0  0  0  0  0 40 41 38 38 27 33]\n",
            " [ 0  0 46 41 34 45 30 35 38 27 40 27 29 31 33 27 28 44 27 33]\n",
            " [ 0  0  0  0  0  0  0  0  0  0  0 31 33 44 31 45 35 44 27 33]\n",
            " [ 0  0  0  0  0  0  0  0  0  0  0  0 40 44 27 51 35 44 27 33]\n",
            " [ 0  0  0  0  0  0  0  0  0  0  0  0  0 31 47 33 35 44 27 33]\n",
            " [ 0  0  0  0  0  0  0  0  0  0  0  0  0  0 38 27 35 44 27 33]\n",
            " [ 0  0  0  0  0  0  0  0  0  0  0  0  0 46 40 31 39 44 27 33]\n",
            " [ 0  0  0  0  0  0  0  0  0  0 31 51 30 46 40 31 39 44 27 33]\n",
            " [ 0  0  0  0  0  0 44 31 34 46 27 31 38 46 40 31 39 44 27 33]]\n"
          ]
        }
      ]
    },
    {
      "cell_type": "code",
      "source": [
        "# import numpy as np\n",
        "\n",
        "# X = src2idx_tensorflow\n",
        "# y = trg2idx_tensorflow\n",
        "\n",
        "# X = np.array(X)\n",
        "# y = np.array(y)\n",
        "\n",
        "\n",
        "# print(y[:5])\n",
        "\n",
        "# print(y.shape)\n"
      ],
      "metadata": {
        "colab": {
          "base_uri": "https://localhost:8080/"
        },
        "id": "f010QJP2-4HM",
        "outputId": "9c0c6322-22ad-4b8a-9d57-6d28303f34a5"
      },
      "execution_count": null,
      "outputs": [
        {
          "output_type": "stream",
          "name": "stdout",
          "text": [
            "[[  1  25 574 447   0   0   0   0   0   0   0   0   0   0   0]\n",
            " [  1  43   0   0   0   0   0   0   0   0   0   0   0   0   0]\n",
            " [  1  60 571 808   0   0   0   0   0   0   0   0   0   0   0]\n",
            " [  1  61 421 216   0   0   0   0   0   0   0   0   0   0   0]\n",
            " [  1  82 818   0   0   0   0   0   0   0   0   0   0   0   0]]\n",
            "(59923, 15)\n"
          ]
        }
      ]
    },
    {
      "cell_type": "code",
      "source": [],
      "metadata": {
        "colab": {
          "base_uri": "https://localhost:8080/",
          "height": 212
        },
        "id": "uEG1fNetv5wg",
        "outputId": "366ee3bb-e75a-4c7c-e111-3efe73763419"
      },
      "execution_count": null,
      "outputs": [
        {
          "output_type": "error",
          "ename": "TypeError",
          "evalue": "ignored",
          "traceback": [
            "\u001b[0;31m---------------------------------------------------------------------------\u001b[0m",
            "\u001b[0;31mTypeError\u001b[0m                                 Traceback (most recent call last)",
            "\u001b[0;32m<ipython-input-84-63623164b8be>\u001b[0m in \u001b[0;36m<cell line: 3>\u001b[0;34m()\u001b[0m\n\u001b[1;32m      1\u001b[0m \u001b[0;32mfrom\u001b[0m \u001b[0mgensim\u001b[0m\u001b[0;34m.\u001b[0m\u001b[0mmodels\u001b[0m \u001b[0;32mimport\u001b[0m \u001b[0mWord2Vec\u001b[0m\u001b[0;34m\u001b[0m\u001b[0;34m\u001b[0m\u001b[0m\n\u001b[1;32m      2\u001b[0m \u001b[0;34m\u001b[0m\u001b[0m\n\u001b[0;32m----> 3\u001b[0;31m \u001b[0mmod\u001b[0m \u001b[0;34m=\u001b[0m \u001b[0mWord2Vec\u001b[0m\u001b[0;34m(\u001b[0m\u001b[0msentences\u001b[0m \u001b[0;34m=\u001b[0m \u001b[0mX\u001b[0m\u001b[0;34m,\u001b[0m\u001b[0msize\u001b[0m \u001b[0;34m=\u001b[0m \u001b[0;36m100\u001b[0m\u001b[0;34m,\u001b[0m \u001b[0mwindow\u001b[0m \u001b[0;34m=\u001b[0m \u001b[0;36m1\u001b[0m\u001b[0;34m,\u001b[0m \u001b[0mmin_count\u001b[0m \u001b[0;34m=\u001b[0m \u001b[0;36m1\u001b[0m\u001b[0;34m,\u001b[0m \u001b[0mwordkers\u001b[0m \u001b[0;34m=\u001b[0m \u001b[0;36m4\u001b[0m\u001b[0;34m,\u001b[0m \u001b[0msg\u001b[0m \u001b[0;34m=\u001b[0m \u001b[0;36m1\u001b[0m\u001b[0;34m)\u001b[0m\u001b[0;34m\u001b[0m\u001b[0;34m\u001b[0m\u001b[0m\n\u001b[0m",
            "\u001b[0;31mTypeError\u001b[0m: Word2Vec.__init__() got an unexpected keyword argument 'size'"
          ]
        }
      ]
    },
    {
      "cell_type": "code",
      "source": [
        "for idx, val in enumerate(korean2idx):\n",
        "  if korean2idx[val] == 1:\n",
        "    print(val)\n",
        "  if korean2idx[val] == 25:\n",
        "    print(val)\n",
        "  if korean2idx[val] == 574:\n",
        "    print(val)\n",
        "  if korean2idx[val] == 447:\n",
        "    print(val)"
      ],
      "metadata": {
        "colab": {
          "base_uri": "https://localhost:8080/"
        },
        "id": "x_WLh2tdsJqh",
        "outputId": "87c394d3-4754-4a39-d0eb-3116891d69bb"
      },
      "execution_count": null,
      "outputs": [
        {
          "output_type": "stream",
          "name": "stdout",
          "text": [
            "가\n",
            "고\n",
            "싸\n",
            "쟈\n"
          ]
        }
      ]
    },
    {
      "cell_type": "code",
      "source": [
        "import tensorflow as tf\n",
        "from keras.layers.rnn import bidirectional\n",
        "from keras.utils import np_utils\n",
        "import tensorflow as tf\n",
        "from sklearn.model_selection import train_test_split\n",
        "from keras.models import Sequential, load_model\n",
        "from keras.layers import Dense, TimeDistributed, Activation, RepeatVector, Embedding, LSTM, Masking, Dropout\n",
        "\n",
        "print(tf.__version__)"
      ],
      "metadata": {
        "colab": {
          "base_uri": "https://localhost:8080/"
        },
        "id": "Pj1BWkCU5J3h",
        "outputId": "2ba83161-0e9e-4caf-baea-e5d03ab2169d"
      },
      "execution_count": null,
      "outputs": [
        {
          "output_type": "stream",
          "name": "stdout",
          "text": [
            "2.12.0\n"
          ]
        }
      ]
    },
    {
      "cell_type": "code",
      "source": [
        "from keras.layers.rnn import bidirectional\n",
        "from keras.utils import np_utils\n",
        "num_classes = len(korean_letter_list)\n",
        "print(X.shape)\n",
        "print(y.shape)\n",
        "## Split train & test & validation set\n",
        "from sklearn.model_selection import train_test_split\n",
        "X_train, X_test, y_train, y_test = train_test_split(X, y, test_size=0.15)\n",
        "X_train, X_val, y_train, y_val = train_test_split(X_train, y_train, test_size=0.15)\n",
        "\n",
        "\n",
        "# Parameters for the model and dataset\n",
        "HIDDEN_SIZE = 200\n",
        "BATCH_SIZE = 64\n",
        "LAYERS = 2\n",
        "MAX_EPOCHS = 100\n",
        "EMBEDDING_OUTPUT_SIZE = 200\n",
        "DROPOUT_RATE = 0.20\n",
        "\n",
        "\n",
        "stop_monitor = 'val_accuracy'\n",
        "stop_delta = 0.0005\n",
        "stop_epochs = 12\n",
        "\n",
        "\n",
        "# ## Build Model\n",
        "import tensorflow as tf\n",
        "from keras.models import Sequential, load_model\n",
        "from keras.layers import Dense, TimeDistributed, Activation, RepeatVector, Embedding, LSTM, Masking, Dropout\n",
        "\n",
        "\n",
        "\n",
        "print('Build Model...')\n",
        "\n",
        "model = Sequential()\n",
        "\n",
        "model.add(Embedding(\n",
        "    input_dim=len(english_letter_list),  # 단어 갯수 + padding (1)\n",
        "    output_dim=EMBEDDING_OUTPUT_SIZE,  # 출력 벡터\n",
        "    input_length=X.shape[1],  # 입력 길이\n",
        "    mask_zero = True\n",
        "))\n",
        "\n",
        "model.add(LSTM(HIDDEN_SIZE, return_sequences=True, input_shape=(X.shape[1], )))\n",
        "model.add(LSTM(HIDDEN_SIZE))\n",
        "\n",
        "model.add(RepeatVector(y.shape[1]))  # Maximum output length\n",
        "\n",
        "for _ in range(LAYERS):\n",
        "    model.add(LSTM(HIDDEN_SIZE, return_sequences=True))\n",
        "    model.add(Dropout(DROPOUT_RATE))\n",
        "\n",
        "model.add(TimeDistributed(Dense(len(korean_letter_list))))\n",
        "model.add(Activation('softmax'))\n",
        "\n",
        "model.compile(\n",
        "    loss='sparse_categorical_crossentropy',\n",
        "    optimizer='adam',\n",
        "    metrics=['accuracy']\n",
        ")\n",
        "\n",
        "\n",
        "model.summary()\n",
        "print('Done')\n",
        "\n",
        "# Callbacks\n",
        "from keras.callbacks import EarlyStopping, ModelCheckpoint\n",
        "\n",
        "\n",
        "\n",
        "callbacks_list = [\n",
        "    EarlyStopping(\n",
        "        monitor=stop_monitor,\n",
        "        min_delta=stop_delta,\n",
        "        patience=stop_epochs,\n",
        "        verbose=1,\n",
        "        mode='auto',\n",
        "    ),\n",
        "    ModelCheckpoint(filepath=\"/content/drive/MyDrive/my_model_best.h5\",\n",
        "        monitor=stop_monitor,\n",
        "        save_best_only=True,\n",
        "        verbose=1,\n",
        "        mode='auto',)\n",
        "]\n",
        "hist = model.fit(\n",
        "    X_train, y_train,\n",
        "    validation_data=(X_val, y_val),\n",
        "    batch_size=BATCH_SIZE,\n",
        "    epochs=MAX_EPOCHS,\n",
        "    verbose=1,\n",
        "    callbacks=callbacks_list\n",
        ")\n",
        "\n",
        "## Visualize history\n",
        "loss, acc = model.evaluate(X_test, y_test)\n",
        "\n",
        "\n",
        "print()\n",
        "print(\"Last Model: \")\n",
        "print('Loss: %.2f' % loss)\n",
        "print('Accuracy: %.2f' % acc)\n",
        "\n",
        "import matplotlib.pyplot as plt\n",
        "\n",
        "epochs = range(1, len(hist.history['accuracy']) + 1)\n",
        "plt.plot(epochs, hist.history['loss'])\n",
        "plt.plot(epochs, hist.history['val_loss'])\n",
        "plt.title('model loss')\n",
        "plt.ylabel('loss')\n",
        "plt.xlabel('epoch')\n",
        "plt.legend(['train', 'val'], loc='upper left')\n",
        "plt.show()\n",
        "\n",
        "model.save('/contetn/drive/MyDrive/my_model_word_temp.h5')\n"
      ],
      "metadata": {
        "colab": {
          "base_uri": "https://localhost:8080/",
          "height": 1000
        },
        "id": "0IxjHfBNTh9C",
        "outputId": "35865871-6738-497c-c646-af9c8b7e5182"
      },
      "execution_count": null,
      "outputs": [
        {
          "output_type": "stream",
          "name": "stdout",
          "text": [
            "(63178, 20)\n",
            "(63178, 15)\n",
            "Build Model...\n",
            "Model: \"sequential\"\n",
            "_________________________________________________________________\n",
            " Layer (type)                Output Shape              Param #   \n",
            "=================================================================\n",
            " embedding (Embedding)       (None, 20, 200)           11000     \n",
            "                                                                 \n",
            " lstm (LSTM)                 (None, 20, 200)           320800    \n",
            "                                                                 \n",
            " lstm_1 (LSTM)               (None, 200)               320800    \n",
            "                                                                 \n",
            " repeat_vector (RepeatVector  (None, 15, 200)          0         \n",
            " )                                                               \n",
            "                                                                 \n",
            " lstm_2 (LSTM)               (None, 15, 200)           320800    \n",
            "                                                                 \n",
            " dropout (Dropout)           (None, 15, 200)           0         \n",
            "                                                                 \n",
            " lstm_3 (LSTM)               (None, 15, 200)           320800    \n",
            "                                                                 \n",
            " dropout_1 (Dropout)         (None, 15, 200)           0         \n",
            "                                                                 \n",
            " time_distributed (TimeDistr  (None, 15, 904)          181704    \n",
            " ibuted)                                                         \n",
            "                                                                 \n",
            " activation (Activation)     (None, 15, 904)           0         \n",
            "                                                                 \n",
            "=================================================================\n",
            "Total params: 1,475,904\n",
            "Trainable params: 1,475,904\n",
            "Non-trainable params: 0\n",
            "_________________________________________________________________\n",
            "Done\n",
            "Epoch 1/100\n"
          ]
        },
        {
          "output_type": "error",
          "ename": "KeyboardInterrupt",
          "evalue": "ignored",
          "traceback": [
            "\u001b[0;31m---------------------------------------------------------------------------\u001b[0m",
            "\u001b[0;31mKeyError\u001b[0m                                  Traceback (most recent call last)",
            "\u001b[0;32m/usr/local/lib/python3.10/dist-packages/tensorflow/python/framework/ops.py\u001b[0m in \u001b[0;36m_get_op_def\u001b[0;34m(self, type)\u001b[0m\n\u001b[1;32m   4214\u001b[0m     \u001b[0;32mtry\u001b[0m\u001b[0;34m:\u001b[0m\u001b[0;34m\u001b[0m\u001b[0;34m\u001b[0m\u001b[0m\n\u001b[0;32m-> 4215\u001b[0;31m       \u001b[0;32mreturn\u001b[0m \u001b[0mself\u001b[0m\u001b[0;34m.\u001b[0m\u001b[0m_op_def_cache\u001b[0m\u001b[0;34m[\u001b[0m\u001b[0mtype\u001b[0m\u001b[0;34m]\u001b[0m\u001b[0;34m\u001b[0m\u001b[0;34m\u001b[0m\u001b[0m\n\u001b[0m\u001b[1;32m   4216\u001b[0m     \u001b[0;32mexcept\u001b[0m \u001b[0mKeyError\u001b[0m\u001b[0;34m:\u001b[0m\u001b[0;34m\u001b[0m\u001b[0;34m\u001b[0m\u001b[0m\n",
            "\u001b[0;31mKeyError\u001b[0m: 'Sum'",
            "\nDuring handling of the above exception, another exception occurred:\n",
            "\u001b[0;31mKeyboardInterrupt\u001b[0m                         Traceback (most recent call last)",
            "\u001b[0;32m<ipython-input-19-b6c757f157d1>\u001b[0m in \u001b[0;36m<cell line: 85>\u001b[0;34m()\u001b[0m\n\u001b[1;32m     83\u001b[0m         mode='auto',)\n\u001b[1;32m     84\u001b[0m ]\n\u001b[0;32m---> 85\u001b[0;31m hist = model.fit(\n\u001b[0m\u001b[1;32m     86\u001b[0m     \u001b[0mX_train\u001b[0m\u001b[0;34m,\u001b[0m \u001b[0my_train\u001b[0m\u001b[0;34m,\u001b[0m\u001b[0;34m\u001b[0m\u001b[0;34m\u001b[0m\u001b[0m\n\u001b[1;32m     87\u001b[0m     \u001b[0mvalidation_data\u001b[0m\u001b[0;34m=\u001b[0m\u001b[0;34m(\u001b[0m\u001b[0mX_val\u001b[0m\u001b[0;34m,\u001b[0m \u001b[0my_val\u001b[0m\u001b[0;34m)\u001b[0m\u001b[0;34m,\u001b[0m\u001b[0;34m\u001b[0m\u001b[0;34m\u001b[0m\u001b[0m\n",
            "\u001b[0;32m/usr/local/lib/python3.10/dist-packages/keras/utils/traceback_utils.py\u001b[0m in \u001b[0;36merror_handler\u001b[0;34m(*args, **kwargs)\u001b[0m\n\u001b[1;32m     63\u001b[0m         \u001b[0mfiltered_tb\u001b[0m \u001b[0;34m=\u001b[0m \u001b[0;32mNone\u001b[0m\u001b[0;34m\u001b[0m\u001b[0;34m\u001b[0m\u001b[0m\n\u001b[1;32m     64\u001b[0m         \u001b[0;32mtry\u001b[0m\u001b[0;34m:\u001b[0m\u001b[0;34m\u001b[0m\u001b[0;34m\u001b[0m\u001b[0m\n\u001b[0;32m---> 65\u001b[0;31m             \u001b[0;32mreturn\u001b[0m \u001b[0mfn\u001b[0m\u001b[0;34m(\u001b[0m\u001b[0;34m*\u001b[0m\u001b[0margs\u001b[0m\u001b[0;34m,\u001b[0m \u001b[0;34m**\u001b[0m\u001b[0mkwargs\u001b[0m\u001b[0;34m)\u001b[0m\u001b[0;34m\u001b[0m\u001b[0;34m\u001b[0m\u001b[0m\n\u001b[0m\u001b[1;32m     66\u001b[0m         \u001b[0;32mexcept\u001b[0m \u001b[0mException\u001b[0m \u001b[0;32mas\u001b[0m \u001b[0me\u001b[0m\u001b[0;34m:\u001b[0m\u001b[0;34m\u001b[0m\u001b[0;34m\u001b[0m\u001b[0m\n\u001b[1;32m     67\u001b[0m             \u001b[0mfiltered_tb\u001b[0m \u001b[0;34m=\u001b[0m \u001b[0m_process_traceback_frames\u001b[0m\u001b[0;34m(\u001b[0m\u001b[0me\u001b[0m\u001b[0;34m.\u001b[0m\u001b[0m__traceback__\u001b[0m\u001b[0;34m)\u001b[0m\u001b[0;34m\u001b[0m\u001b[0;34m\u001b[0m\u001b[0m\n",
            "\u001b[0;32m/usr/local/lib/python3.10/dist-packages/keras/engine/training.py\u001b[0m in \u001b[0;36mfit\u001b[0;34m(self, x, y, batch_size, epochs, verbose, callbacks, validation_split, validation_data, shuffle, class_weight, sample_weight, initial_epoch, steps_per_epoch, validation_steps, validation_batch_size, validation_freq, max_queue_size, workers, use_multiprocessing)\u001b[0m\n\u001b[1;32m   1683\u001b[0m                         ):\n\u001b[1;32m   1684\u001b[0m                             \u001b[0mcallbacks\u001b[0m\u001b[0;34m.\u001b[0m\u001b[0mon_train_batch_begin\u001b[0m\u001b[0;34m(\u001b[0m\u001b[0mstep\u001b[0m\u001b[0;34m)\u001b[0m\u001b[0;34m\u001b[0m\u001b[0;34m\u001b[0m\u001b[0m\n\u001b[0;32m-> 1685\u001b[0;31m                             \u001b[0mtmp_logs\u001b[0m \u001b[0;34m=\u001b[0m \u001b[0mself\u001b[0m\u001b[0;34m.\u001b[0m\u001b[0mtrain_function\u001b[0m\u001b[0;34m(\u001b[0m\u001b[0miterator\u001b[0m\u001b[0;34m)\u001b[0m\u001b[0;34m\u001b[0m\u001b[0;34m\u001b[0m\u001b[0m\n\u001b[0m\u001b[1;32m   1686\u001b[0m                             \u001b[0;32mif\u001b[0m \u001b[0mdata_handler\u001b[0m\u001b[0;34m.\u001b[0m\u001b[0mshould_sync\u001b[0m\u001b[0;34m:\u001b[0m\u001b[0;34m\u001b[0m\u001b[0;34m\u001b[0m\u001b[0m\n\u001b[1;32m   1687\u001b[0m                                 \u001b[0mcontext\u001b[0m\u001b[0;34m.\u001b[0m\u001b[0masync_wait\u001b[0m\u001b[0;34m(\u001b[0m\u001b[0;34m)\u001b[0m\u001b[0;34m\u001b[0m\u001b[0;34m\u001b[0m\u001b[0m\n",
            "\u001b[0;32m/usr/local/lib/python3.10/dist-packages/tensorflow/python/util/traceback_utils.py\u001b[0m in \u001b[0;36merror_handler\u001b[0;34m(*args, **kwargs)\u001b[0m\n\u001b[1;32m    148\u001b[0m     \u001b[0mfiltered_tb\u001b[0m \u001b[0;34m=\u001b[0m \u001b[0;32mNone\u001b[0m\u001b[0;34m\u001b[0m\u001b[0;34m\u001b[0m\u001b[0m\n\u001b[1;32m    149\u001b[0m     \u001b[0;32mtry\u001b[0m\u001b[0;34m:\u001b[0m\u001b[0;34m\u001b[0m\u001b[0;34m\u001b[0m\u001b[0m\n\u001b[0;32m--> 150\u001b[0;31m       \u001b[0;32mreturn\u001b[0m \u001b[0mfn\u001b[0m\u001b[0;34m(\u001b[0m\u001b[0;34m*\u001b[0m\u001b[0margs\u001b[0m\u001b[0;34m,\u001b[0m \u001b[0;34m**\u001b[0m\u001b[0mkwargs\u001b[0m\u001b[0;34m)\u001b[0m\u001b[0;34m\u001b[0m\u001b[0;34m\u001b[0m\u001b[0m\n\u001b[0m\u001b[1;32m    151\u001b[0m     \u001b[0;32mexcept\u001b[0m \u001b[0mException\u001b[0m \u001b[0;32mas\u001b[0m \u001b[0me\u001b[0m\u001b[0;34m:\u001b[0m\u001b[0;34m\u001b[0m\u001b[0;34m\u001b[0m\u001b[0m\n\u001b[1;32m    152\u001b[0m       \u001b[0mfiltered_tb\u001b[0m \u001b[0;34m=\u001b[0m \u001b[0m_process_traceback_frames\u001b[0m\u001b[0;34m(\u001b[0m\u001b[0me\u001b[0m\u001b[0;34m.\u001b[0m\u001b[0m__traceback__\u001b[0m\u001b[0;34m)\u001b[0m\u001b[0;34m\u001b[0m\u001b[0;34m\u001b[0m\u001b[0m\n",
            "\u001b[0;32m/usr/local/lib/python3.10/dist-packages/tensorflow/python/eager/polymorphic_function/polymorphic_function.py\u001b[0m in \u001b[0;36m__call__\u001b[0;34m(self, *args, **kwds)\u001b[0m\n\u001b[1;32m    892\u001b[0m \u001b[0;34m\u001b[0m\u001b[0m\n\u001b[1;32m    893\u001b[0m       \u001b[0;32mwith\u001b[0m \u001b[0mOptionalXlaContext\u001b[0m\u001b[0;34m(\u001b[0m\u001b[0mself\u001b[0m\u001b[0;34m.\u001b[0m\u001b[0m_jit_compile\u001b[0m\u001b[0;34m)\u001b[0m\u001b[0;34m:\u001b[0m\u001b[0;34m\u001b[0m\u001b[0;34m\u001b[0m\u001b[0m\n\u001b[0;32m--> 894\u001b[0;31m         \u001b[0mresult\u001b[0m \u001b[0;34m=\u001b[0m \u001b[0mself\u001b[0m\u001b[0;34m.\u001b[0m\u001b[0m_call\u001b[0m\u001b[0;34m(\u001b[0m\u001b[0;34m*\u001b[0m\u001b[0margs\u001b[0m\u001b[0;34m,\u001b[0m \u001b[0;34m**\u001b[0m\u001b[0mkwds\u001b[0m\u001b[0;34m)\u001b[0m\u001b[0;34m\u001b[0m\u001b[0;34m\u001b[0m\u001b[0m\n\u001b[0m\u001b[1;32m    895\u001b[0m \u001b[0;34m\u001b[0m\u001b[0m\n\u001b[1;32m    896\u001b[0m       \u001b[0mnew_tracing_count\u001b[0m \u001b[0;34m=\u001b[0m \u001b[0mself\u001b[0m\u001b[0;34m.\u001b[0m\u001b[0mexperimental_get_tracing_count\u001b[0m\u001b[0;34m(\u001b[0m\u001b[0;34m)\u001b[0m\u001b[0;34m\u001b[0m\u001b[0;34m\u001b[0m\u001b[0m\n",
            "\u001b[0;32m/usr/local/lib/python3.10/dist-packages/tensorflow/python/eager/polymorphic_function/polymorphic_function.py\u001b[0m in \u001b[0;36m_call\u001b[0;34m(self, *args, **kwds)\u001b[0m\n\u001b[1;32m    957\u001b[0m         \u001b[0;31m# Lifting succeeded, so variables are initialized and we can run the\u001b[0m\u001b[0;34m\u001b[0m\u001b[0;34m\u001b[0m\u001b[0m\n\u001b[1;32m    958\u001b[0m         \u001b[0;31m# no_variable_creation function.\u001b[0m\u001b[0;34m\u001b[0m\u001b[0;34m\u001b[0m\u001b[0m\n\u001b[0;32m--> 959\u001b[0;31m         \u001b[0;32mreturn\u001b[0m \u001b[0mself\u001b[0m\u001b[0;34m.\u001b[0m\u001b[0m_no_variable_creation_fn\u001b[0m\u001b[0;34m(\u001b[0m\u001b[0;34m*\u001b[0m\u001b[0margs\u001b[0m\u001b[0;34m,\u001b[0m \u001b[0;34m**\u001b[0m\u001b[0mkwds\u001b[0m\u001b[0;34m)\u001b[0m\u001b[0;34m\u001b[0m\u001b[0;34m\u001b[0m\u001b[0m\n\u001b[0m\u001b[1;32m    960\u001b[0m     \u001b[0;32melse\u001b[0m\u001b[0;34m:\u001b[0m\u001b[0;34m\u001b[0m\u001b[0;34m\u001b[0m\u001b[0m\n\u001b[1;32m    961\u001b[0m       _, _, filtered_flat_args = (\n",
            "\u001b[0;32m/usr/local/lib/python3.10/dist-packages/tensorflow/python/eager/polymorphic_function/tracing_compiler.py\u001b[0m in \u001b[0;36m__call__\u001b[0;34m(self, *args, **kwargs)\u001b[0m\n\u001b[1;32m    140\u001b[0m     \u001b[0;32mwith\u001b[0m \u001b[0mself\u001b[0m\u001b[0;34m.\u001b[0m\u001b[0m_lock\u001b[0m\u001b[0;34m:\u001b[0m\u001b[0;34m\u001b[0m\u001b[0;34m\u001b[0m\u001b[0m\n\u001b[1;32m    141\u001b[0m       (concrete_function,\n\u001b[0;32m--> 142\u001b[0;31m        filtered_flat_args) = self._maybe_define_function(args, kwargs)\n\u001b[0m\u001b[1;32m    143\u001b[0m     return concrete_function._call_flat(\n\u001b[1;32m    144\u001b[0m         filtered_flat_args, captured_inputs=concrete_function.captured_inputs)  # pylint: disable=protected-access\n",
            "\u001b[0;32m/usr/local/lib/python3.10/dist-packages/tensorflow/python/eager/polymorphic_function/tracing_compiler.py\u001b[0m in \u001b[0;36m_maybe_define_function\u001b[0;34m(self, args, kwargs)\u001b[0m\n\u001b[1;32m    394\u001b[0m           \u001b[0mkwargs\u001b[0m \u001b[0;34m=\u001b[0m \u001b[0mplaceholder_bound_args\u001b[0m\u001b[0;34m.\u001b[0m\u001b[0mkwargs\u001b[0m\u001b[0;34m\u001b[0m\u001b[0;34m\u001b[0m\u001b[0m\n\u001b[1;32m    395\u001b[0m \u001b[0;34m\u001b[0m\u001b[0m\n\u001b[0;32m--> 396\u001b[0;31m           concrete_function = self._create_concrete_function(\n\u001b[0m\u001b[1;32m    397\u001b[0m               args, kwargs, func_graph)\n\u001b[1;32m    398\u001b[0m \u001b[0;34m\u001b[0m\u001b[0m\n",
            "\u001b[0;32m/usr/local/lib/python3.10/dist-packages/tensorflow/python/eager/polymorphic_function/tracing_compiler.py\u001b[0m in \u001b[0;36m_create_concrete_function\u001b[0;34m(self, args, kwargs, func_graph)\u001b[0m\n\u001b[1;32m    298\u001b[0m \u001b[0;34m\u001b[0m\u001b[0m\n\u001b[1;32m    299\u001b[0m     concrete_function = monomorphic_function.ConcreteFunction(\n\u001b[0;32m--> 300\u001b[0;31m         func_graph_module.func_graph_from_py_func(\n\u001b[0m\u001b[1;32m    301\u001b[0m             \u001b[0mself\u001b[0m\u001b[0;34m.\u001b[0m\u001b[0m_name\u001b[0m\u001b[0;34m,\u001b[0m\u001b[0;34m\u001b[0m\u001b[0;34m\u001b[0m\u001b[0m\n\u001b[1;32m    302\u001b[0m             \u001b[0mself\u001b[0m\u001b[0;34m.\u001b[0m\u001b[0m_python_function\u001b[0m\u001b[0;34m,\u001b[0m\u001b[0;34m\u001b[0m\u001b[0;34m\u001b[0m\u001b[0m\n",
            "\u001b[0;32m/usr/local/lib/python3.10/dist-packages/tensorflow/python/framework/func_graph.py\u001b[0m in \u001b[0;36mfunc_graph_from_py_func\u001b[0;34m(name, python_func, args, kwargs, signature, func_graph, autograph, autograph_options, add_control_dependencies, arg_names, op_return_value, collections, capture_by_value, create_placeholders, acd_record_initial_resource_uses)\u001b[0m\n\u001b[1;32m   1212\u001b[0m         \u001b[0m_\u001b[0m\u001b[0;34m,\u001b[0m \u001b[0moriginal_func\u001b[0m \u001b[0;34m=\u001b[0m \u001b[0mtf_decorator\u001b[0m\u001b[0;34m.\u001b[0m\u001b[0munwrap\u001b[0m\u001b[0;34m(\u001b[0m\u001b[0mpython_func\u001b[0m\u001b[0;34m)\u001b[0m\u001b[0;34m\u001b[0m\u001b[0;34m\u001b[0m\u001b[0m\n\u001b[1;32m   1213\u001b[0m \u001b[0;34m\u001b[0m\u001b[0m\n\u001b[0;32m-> 1214\u001b[0;31m       \u001b[0mfunc_outputs\u001b[0m \u001b[0;34m=\u001b[0m \u001b[0mpython_func\u001b[0m\u001b[0;34m(\u001b[0m\u001b[0;34m*\u001b[0m\u001b[0mfunc_args\u001b[0m\u001b[0;34m,\u001b[0m \u001b[0;34m**\u001b[0m\u001b[0mfunc_kwargs\u001b[0m\u001b[0;34m)\u001b[0m\u001b[0;34m\u001b[0m\u001b[0;34m\u001b[0m\u001b[0m\n\u001b[0m\u001b[1;32m   1215\u001b[0m \u001b[0;34m\u001b[0m\u001b[0m\n\u001b[1;32m   1216\u001b[0m       \u001b[0;31m# invariant: `func_outputs` contains only Tensors, CompositeTensors,\u001b[0m\u001b[0;34m\u001b[0m\u001b[0;34m\u001b[0m\u001b[0m\n",
            "\u001b[0;32m/usr/local/lib/python3.10/dist-packages/tensorflow/python/eager/polymorphic_function/polymorphic_function.py\u001b[0m in \u001b[0;36mwrapped_fn\u001b[0;34m(*args, **kwds)\u001b[0m\n\u001b[1;32m    665\u001b[0m         \u001b[0;31m# the function a weak reference to itself to avoid a reference cycle.\u001b[0m\u001b[0;34m\u001b[0m\u001b[0;34m\u001b[0m\u001b[0m\n\u001b[1;32m    666\u001b[0m         \u001b[0;32mwith\u001b[0m \u001b[0mOptionalXlaContext\u001b[0m\u001b[0;34m(\u001b[0m\u001b[0mcompile_with_xla\u001b[0m\u001b[0;34m)\u001b[0m\u001b[0;34m:\u001b[0m\u001b[0;34m\u001b[0m\u001b[0;34m\u001b[0m\u001b[0m\n\u001b[0;32m--> 667\u001b[0;31m           \u001b[0mout\u001b[0m \u001b[0;34m=\u001b[0m \u001b[0mweak_wrapped_fn\u001b[0m\u001b[0;34m(\u001b[0m\u001b[0;34m)\u001b[0m\u001b[0;34m.\u001b[0m\u001b[0m__wrapped__\u001b[0m\u001b[0;34m(\u001b[0m\u001b[0;34m*\u001b[0m\u001b[0margs\u001b[0m\u001b[0;34m,\u001b[0m \u001b[0;34m**\u001b[0m\u001b[0mkwds\u001b[0m\u001b[0;34m)\u001b[0m\u001b[0;34m\u001b[0m\u001b[0;34m\u001b[0m\u001b[0m\n\u001b[0m\u001b[1;32m    668\u001b[0m         \u001b[0;32mreturn\u001b[0m \u001b[0mout\u001b[0m\u001b[0;34m\u001b[0m\u001b[0;34m\u001b[0m\u001b[0m\n\u001b[1;32m    669\u001b[0m \u001b[0;34m\u001b[0m\u001b[0m\n",
            "\u001b[0;32m/usr/local/lib/python3.10/dist-packages/tensorflow/python/framework/func_graph.py\u001b[0m in \u001b[0;36mautograph_handler\u001b[0;34m(*args, **kwargs)\u001b[0m\n\u001b[1;32m   1187\u001b[0m           \u001b[0;31m# TODO(mdan): Push this block higher in tf.function's call stack.\u001b[0m\u001b[0;34m\u001b[0m\u001b[0;34m\u001b[0m\u001b[0m\n\u001b[1;32m   1188\u001b[0m           \u001b[0;32mtry\u001b[0m\u001b[0;34m:\u001b[0m\u001b[0;34m\u001b[0m\u001b[0;34m\u001b[0m\u001b[0m\n\u001b[0;32m-> 1189\u001b[0;31m             return autograph.converted_call(\n\u001b[0m\u001b[1;32m   1190\u001b[0m                 \u001b[0moriginal_func\u001b[0m\u001b[0;34m,\u001b[0m\u001b[0;34m\u001b[0m\u001b[0;34m\u001b[0m\u001b[0m\n\u001b[1;32m   1191\u001b[0m                 \u001b[0margs\u001b[0m\u001b[0;34m,\u001b[0m\u001b[0;34m\u001b[0m\u001b[0;34m\u001b[0m\u001b[0m\n",
            "\u001b[0;32m/usr/local/lib/python3.10/dist-packages/tensorflow/python/autograph/impl/api.py\u001b[0m in \u001b[0;36mconverted_call\u001b[0;34m(f, args, kwargs, caller_fn_scope, options)\u001b[0m\n\u001b[1;32m    437\u001b[0m     \u001b[0;32mtry\u001b[0m\u001b[0;34m:\u001b[0m\u001b[0;34m\u001b[0m\u001b[0;34m\u001b[0m\u001b[0m\n\u001b[1;32m    438\u001b[0m       \u001b[0;32mif\u001b[0m \u001b[0mkwargs\u001b[0m \u001b[0;32mis\u001b[0m \u001b[0;32mnot\u001b[0m \u001b[0;32mNone\u001b[0m\u001b[0;34m:\u001b[0m\u001b[0;34m\u001b[0m\u001b[0;34m\u001b[0m\u001b[0m\n\u001b[0;32m--> 439\u001b[0;31m         \u001b[0mresult\u001b[0m \u001b[0;34m=\u001b[0m \u001b[0mconverted_f\u001b[0m\u001b[0;34m(\u001b[0m\u001b[0;34m*\u001b[0m\u001b[0meffective_args\u001b[0m\u001b[0;34m,\u001b[0m \u001b[0;34m**\u001b[0m\u001b[0mkwargs\u001b[0m\u001b[0;34m)\u001b[0m\u001b[0;34m\u001b[0m\u001b[0;34m\u001b[0m\u001b[0m\n\u001b[0m\u001b[1;32m    440\u001b[0m       \u001b[0;32melse\u001b[0m\u001b[0;34m:\u001b[0m\u001b[0;34m\u001b[0m\u001b[0;34m\u001b[0m\u001b[0m\n\u001b[1;32m    441\u001b[0m         \u001b[0mresult\u001b[0m \u001b[0;34m=\u001b[0m \u001b[0mconverted_f\u001b[0m\u001b[0;34m(\u001b[0m\u001b[0;34m*\u001b[0m\u001b[0meffective_args\u001b[0m\u001b[0;34m)\u001b[0m\u001b[0;34m\u001b[0m\u001b[0;34m\u001b[0m\u001b[0m\n",
            "\u001b[0;32m/usr/local/lib/python3.10/dist-packages/keras/engine/training.py\u001b[0m in \u001b[0;36mtf__train_function\u001b[0;34m(iterator)\u001b[0m\n\u001b[1;32m     13\u001b[0m                 \u001b[0;32mtry\u001b[0m\u001b[0;34m:\u001b[0m\u001b[0;34m\u001b[0m\u001b[0;34m\u001b[0m\u001b[0m\n\u001b[1;32m     14\u001b[0m                     \u001b[0mdo_return\u001b[0m \u001b[0;34m=\u001b[0m \u001b[0;32mTrue\u001b[0m\u001b[0;34m\u001b[0m\u001b[0;34m\u001b[0m\u001b[0m\n\u001b[0;32m---> 15\u001b[0;31m                     \u001b[0mretval_\u001b[0m \u001b[0;34m=\u001b[0m \u001b[0mag__\u001b[0m\u001b[0;34m.\u001b[0m\u001b[0mconverted_call\u001b[0m\u001b[0;34m(\u001b[0m\u001b[0mag__\u001b[0m\u001b[0;34m.\u001b[0m\u001b[0mld\u001b[0m\u001b[0;34m(\u001b[0m\u001b[0mstep_function\u001b[0m\u001b[0;34m)\u001b[0m\u001b[0;34m,\u001b[0m \u001b[0;34m(\u001b[0m\u001b[0mag__\u001b[0m\u001b[0;34m.\u001b[0m\u001b[0mld\u001b[0m\u001b[0;34m(\u001b[0m\u001b[0mself\u001b[0m\u001b[0;34m)\u001b[0m\u001b[0;34m,\u001b[0m \u001b[0mag__\u001b[0m\u001b[0;34m.\u001b[0m\u001b[0mld\u001b[0m\u001b[0;34m(\u001b[0m\u001b[0miterator\u001b[0m\u001b[0;34m)\u001b[0m\u001b[0;34m)\u001b[0m\u001b[0;34m,\u001b[0m \u001b[0;32mNone\u001b[0m\u001b[0;34m,\u001b[0m \u001b[0mfscope\u001b[0m\u001b[0;34m)\u001b[0m\u001b[0;34m\u001b[0m\u001b[0;34m\u001b[0m\u001b[0m\n\u001b[0m\u001b[1;32m     16\u001b[0m                 \u001b[0;32mexcept\u001b[0m\u001b[0;34m:\u001b[0m\u001b[0;34m\u001b[0m\u001b[0;34m\u001b[0m\u001b[0m\n\u001b[1;32m     17\u001b[0m                     \u001b[0mdo_return\u001b[0m \u001b[0;34m=\u001b[0m \u001b[0;32mFalse\u001b[0m\u001b[0;34m\u001b[0m\u001b[0;34m\u001b[0m\u001b[0m\n",
            "\u001b[0;32m/usr/local/lib/python3.10/dist-packages/tensorflow/python/autograph/impl/api.py\u001b[0m in \u001b[0;36mconverted_call\u001b[0;34m(f, args, kwargs, caller_fn_scope, options)\u001b[0m\n\u001b[1;32m    329\u001b[0m   \u001b[0;32mif\u001b[0m \u001b[0mconversion\u001b[0m\u001b[0;34m.\u001b[0m\u001b[0mis_in_allowlist_cache\u001b[0m\u001b[0;34m(\u001b[0m\u001b[0mf\u001b[0m\u001b[0;34m,\u001b[0m \u001b[0moptions\u001b[0m\u001b[0;34m)\u001b[0m\u001b[0;34m:\u001b[0m\u001b[0;34m\u001b[0m\u001b[0;34m\u001b[0m\u001b[0m\n\u001b[1;32m    330\u001b[0m     \u001b[0mlogging\u001b[0m\u001b[0;34m.\u001b[0m\u001b[0mlog\u001b[0m\u001b[0;34m(\u001b[0m\u001b[0;36m2\u001b[0m\u001b[0;34m,\u001b[0m \u001b[0;34m'Allowlisted %s: from cache'\u001b[0m\u001b[0;34m,\u001b[0m \u001b[0mf\u001b[0m\u001b[0;34m)\u001b[0m\u001b[0;34m\u001b[0m\u001b[0;34m\u001b[0m\u001b[0m\n\u001b[0;32m--> 331\u001b[0;31m     \u001b[0;32mreturn\u001b[0m \u001b[0m_call_unconverted\u001b[0m\u001b[0;34m(\u001b[0m\u001b[0mf\u001b[0m\u001b[0;34m,\u001b[0m \u001b[0margs\u001b[0m\u001b[0;34m,\u001b[0m \u001b[0mkwargs\u001b[0m\u001b[0;34m,\u001b[0m \u001b[0moptions\u001b[0m\u001b[0;34m,\u001b[0m \u001b[0;32mFalse\u001b[0m\u001b[0;34m)\u001b[0m\u001b[0;34m\u001b[0m\u001b[0;34m\u001b[0m\u001b[0m\n\u001b[0m\u001b[1;32m    332\u001b[0m \u001b[0;34m\u001b[0m\u001b[0m\n\u001b[1;32m    333\u001b[0m   \u001b[0;32mif\u001b[0m \u001b[0mag_ctx\u001b[0m\u001b[0;34m.\u001b[0m\u001b[0mcontrol_status_ctx\u001b[0m\u001b[0;34m(\u001b[0m\u001b[0;34m)\u001b[0m\u001b[0;34m.\u001b[0m\u001b[0mstatus\u001b[0m \u001b[0;34m==\u001b[0m \u001b[0mag_ctx\u001b[0m\u001b[0;34m.\u001b[0m\u001b[0mStatus\u001b[0m\u001b[0;34m.\u001b[0m\u001b[0mDISABLED\u001b[0m\u001b[0;34m:\u001b[0m\u001b[0;34m\u001b[0m\u001b[0;34m\u001b[0m\u001b[0m\n",
            "\u001b[0;32m/usr/local/lib/python3.10/dist-packages/tensorflow/python/autograph/impl/api.py\u001b[0m in \u001b[0;36m_call_unconverted\u001b[0;34m(f, args, kwargs, options, update_cache)\u001b[0m\n\u001b[1;32m    457\u001b[0m   \u001b[0;32mif\u001b[0m \u001b[0mkwargs\u001b[0m \u001b[0;32mis\u001b[0m \u001b[0;32mnot\u001b[0m \u001b[0;32mNone\u001b[0m\u001b[0;34m:\u001b[0m\u001b[0;34m\u001b[0m\u001b[0;34m\u001b[0m\u001b[0m\n\u001b[1;32m    458\u001b[0m     \u001b[0;32mreturn\u001b[0m \u001b[0mf\u001b[0m\u001b[0;34m(\u001b[0m\u001b[0;34m*\u001b[0m\u001b[0margs\u001b[0m\u001b[0;34m,\u001b[0m \u001b[0;34m**\u001b[0m\u001b[0mkwargs\u001b[0m\u001b[0;34m)\u001b[0m\u001b[0;34m\u001b[0m\u001b[0;34m\u001b[0m\u001b[0m\n\u001b[0;32m--> 459\u001b[0;31m   \u001b[0;32mreturn\u001b[0m \u001b[0mf\u001b[0m\u001b[0;34m(\u001b[0m\u001b[0;34m*\u001b[0m\u001b[0margs\u001b[0m\u001b[0;34m)\u001b[0m\u001b[0;34m\u001b[0m\u001b[0;34m\u001b[0m\u001b[0m\n\u001b[0m\u001b[1;32m    460\u001b[0m \u001b[0;34m\u001b[0m\u001b[0m\n\u001b[1;32m    461\u001b[0m \u001b[0;34m\u001b[0m\u001b[0m\n",
            "\u001b[0;32m/usr/local/lib/python3.10/dist-packages/keras/engine/training.py\u001b[0m in \u001b[0;36mstep_function\u001b[0;34m(model, iterator)\u001b[0m\n\u001b[1;32m   1266\u001b[0m                 )\n\u001b[1;32m   1267\u001b[0m             \u001b[0mdata\u001b[0m \u001b[0;34m=\u001b[0m \u001b[0mnext\u001b[0m\u001b[0;34m(\u001b[0m\u001b[0miterator\u001b[0m\u001b[0;34m)\u001b[0m\u001b[0;34m\u001b[0m\u001b[0;34m\u001b[0m\u001b[0m\n\u001b[0;32m-> 1268\u001b[0;31m             \u001b[0moutputs\u001b[0m \u001b[0;34m=\u001b[0m \u001b[0mmodel\u001b[0m\u001b[0;34m.\u001b[0m\u001b[0mdistribute_strategy\u001b[0m\u001b[0;34m.\u001b[0m\u001b[0mrun\u001b[0m\u001b[0;34m(\u001b[0m\u001b[0mrun_step\u001b[0m\u001b[0;34m,\u001b[0m \u001b[0margs\u001b[0m\u001b[0;34m=\u001b[0m\u001b[0;34m(\u001b[0m\u001b[0mdata\u001b[0m\u001b[0;34m,\u001b[0m\u001b[0;34m)\u001b[0m\u001b[0;34m)\u001b[0m\u001b[0;34m\u001b[0m\u001b[0;34m\u001b[0m\u001b[0m\n\u001b[0m\u001b[1;32m   1269\u001b[0m             outputs = reduce_per_replica(\n\u001b[1;32m   1270\u001b[0m                 \u001b[0moutputs\u001b[0m\u001b[0;34m,\u001b[0m\u001b[0;34m\u001b[0m\u001b[0;34m\u001b[0m\u001b[0m\n",
            "\u001b[0;32m/usr/local/lib/python3.10/dist-packages/tensorflow/python/distribute/distribute_lib.py\u001b[0m in \u001b[0;36mrun\u001b[0;34m(***failed resolving arguments***)\u001b[0m\n\u001b[1;32m   1314\u001b[0m       fn = autograph.tf_convert(\n\u001b[1;32m   1315\u001b[0m           fn, autograph_ctx.control_status_ctx(), convert_by_default=False)\n\u001b[0;32m-> 1316\u001b[0;31m       \u001b[0;32mreturn\u001b[0m \u001b[0mself\u001b[0m\u001b[0;34m.\u001b[0m\u001b[0m_extended\u001b[0m\u001b[0;34m.\u001b[0m\u001b[0mcall_for_each_replica\u001b[0m\u001b[0;34m(\u001b[0m\u001b[0mfn\u001b[0m\u001b[0;34m,\u001b[0m \u001b[0margs\u001b[0m\u001b[0;34m=\u001b[0m\u001b[0margs\u001b[0m\u001b[0;34m,\u001b[0m \u001b[0mkwargs\u001b[0m\u001b[0;34m=\u001b[0m\u001b[0mkwargs\u001b[0m\u001b[0;34m)\u001b[0m\u001b[0;34m\u001b[0m\u001b[0;34m\u001b[0m\u001b[0m\n\u001b[0m\u001b[1;32m   1317\u001b[0m \u001b[0;34m\u001b[0m\u001b[0m\n\u001b[1;32m   1318\u001b[0m   \u001b[0;32mdef\u001b[0m \u001b[0mreduce\u001b[0m\u001b[0;34m(\u001b[0m\u001b[0mself\u001b[0m\u001b[0;34m,\u001b[0m \u001b[0mreduce_op\u001b[0m\u001b[0;34m,\u001b[0m \u001b[0mvalue\u001b[0m\u001b[0;34m,\u001b[0m \u001b[0maxis\u001b[0m\u001b[0;34m)\u001b[0m\u001b[0;34m:\u001b[0m\u001b[0;34m\u001b[0m\u001b[0;34m\u001b[0m\u001b[0m\n",
            "\u001b[0;32m/usr/local/lib/python3.10/dist-packages/tensorflow/python/distribute/distribute_lib.py\u001b[0m in \u001b[0;36mcall_for_each_replica\u001b[0;34m(self, fn, args, kwargs)\u001b[0m\n\u001b[1;32m   2893\u001b[0m       \u001b[0mkwargs\u001b[0m \u001b[0;34m=\u001b[0m \u001b[0;34m{\u001b[0m\u001b[0;34m}\u001b[0m\u001b[0;34m\u001b[0m\u001b[0;34m\u001b[0m\u001b[0m\n\u001b[1;32m   2894\u001b[0m     \u001b[0;32mwith\u001b[0m \u001b[0mself\u001b[0m\u001b[0;34m.\u001b[0m\u001b[0m_container_strategy\u001b[0m\u001b[0;34m(\u001b[0m\u001b[0;34m)\u001b[0m\u001b[0;34m.\u001b[0m\u001b[0mscope\u001b[0m\u001b[0;34m(\u001b[0m\u001b[0;34m)\u001b[0m\u001b[0;34m:\u001b[0m\u001b[0;34m\u001b[0m\u001b[0;34m\u001b[0m\u001b[0m\n\u001b[0;32m-> 2895\u001b[0;31m       \u001b[0;32mreturn\u001b[0m \u001b[0mself\u001b[0m\u001b[0;34m.\u001b[0m\u001b[0m_call_for_each_replica\u001b[0m\u001b[0;34m(\u001b[0m\u001b[0mfn\u001b[0m\u001b[0;34m,\u001b[0m \u001b[0margs\u001b[0m\u001b[0;34m,\u001b[0m \u001b[0mkwargs\u001b[0m\u001b[0;34m)\u001b[0m\u001b[0;34m\u001b[0m\u001b[0;34m\u001b[0m\u001b[0m\n\u001b[0m\u001b[1;32m   2896\u001b[0m \u001b[0;34m\u001b[0m\u001b[0m\n\u001b[1;32m   2897\u001b[0m   \u001b[0;32mdef\u001b[0m \u001b[0m_call_for_each_replica\u001b[0m\u001b[0;34m(\u001b[0m\u001b[0mself\u001b[0m\u001b[0;34m,\u001b[0m \u001b[0mfn\u001b[0m\u001b[0;34m,\u001b[0m \u001b[0margs\u001b[0m\u001b[0;34m,\u001b[0m \u001b[0mkwargs\u001b[0m\u001b[0;34m)\u001b[0m\u001b[0;34m:\u001b[0m\u001b[0;34m\u001b[0m\u001b[0;34m\u001b[0m\u001b[0m\n",
            "\u001b[0;32m/usr/local/lib/python3.10/dist-packages/tensorflow/python/distribute/distribute_lib.py\u001b[0m in \u001b[0;36m_call_for_each_replica\u001b[0;34m(self, fn, args, kwargs)\u001b[0m\n\u001b[1;32m   3694\u001b[0m   \u001b[0;32mdef\u001b[0m \u001b[0m_call_for_each_replica\u001b[0m\u001b[0;34m(\u001b[0m\u001b[0mself\u001b[0m\u001b[0;34m,\u001b[0m \u001b[0mfn\u001b[0m\u001b[0;34m,\u001b[0m \u001b[0margs\u001b[0m\u001b[0;34m,\u001b[0m \u001b[0mkwargs\u001b[0m\u001b[0;34m)\u001b[0m\u001b[0;34m:\u001b[0m\u001b[0;34m\u001b[0m\u001b[0;34m\u001b[0m\u001b[0m\n\u001b[1;32m   3695\u001b[0m     \u001b[0;32mwith\u001b[0m \u001b[0mReplicaContext\u001b[0m\u001b[0;34m(\u001b[0m\u001b[0mself\u001b[0m\u001b[0;34m.\u001b[0m\u001b[0m_container_strategy\u001b[0m\u001b[0;34m(\u001b[0m\u001b[0;34m)\u001b[0m\u001b[0;34m,\u001b[0m \u001b[0mreplica_id_in_sync_group\u001b[0m\u001b[0;34m=\u001b[0m\u001b[0;36m0\u001b[0m\u001b[0;34m)\u001b[0m\u001b[0;34m:\u001b[0m\u001b[0;34m\u001b[0m\u001b[0;34m\u001b[0m\u001b[0m\n\u001b[0;32m-> 3696\u001b[0;31m       \u001b[0;32mreturn\u001b[0m \u001b[0mfn\u001b[0m\u001b[0;34m(\u001b[0m\u001b[0;34m*\u001b[0m\u001b[0margs\u001b[0m\u001b[0;34m,\u001b[0m \u001b[0;34m**\u001b[0m\u001b[0mkwargs\u001b[0m\u001b[0;34m)\u001b[0m\u001b[0;34m\u001b[0m\u001b[0;34m\u001b[0m\u001b[0m\n\u001b[0m\u001b[1;32m   3697\u001b[0m \u001b[0;34m\u001b[0m\u001b[0m\n\u001b[1;32m   3698\u001b[0m   \u001b[0;32mdef\u001b[0m \u001b[0m_reduce_to\u001b[0m\u001b[0;34m(\u001b[0m\u001b[0mself\u001b[0m\u001b[0;34m,\u001b[0m \u001b[0mreduce_op\u001b[0m\u001b[0;34m,\u001b[0m \u001b[0mvalue\u001b[0m\u001b[0;34m,\u001b[0m \u001b[0mdestinations\u001b[0m\u001b[0;34m,\u001b[0m \u001b[0moptions\u001b[0m\u001b[0;34m)\u001b[0m\u001b[0;34m:\u001b[0m\u001b[0;34m\u001b[0m\u001b[0;34m\u001b[0m\u001b[0m\n",
            "\u001b[0;32m/usr/local/lib/python3.10/dist-packages/tensorflow/python/autograph/impl/api.py\u001b[0m in \u001b[0;36mwrapper\u001b[0;34m(*args, **kwargs)\u001b[0m\n\u001b[1;32m    687\u001b[0m       \u001b[0;32mtry\u001b[0m\u001b[0;34m:\u001b[0m\u001b[0;34m\u001b[0m\u001b[0;34m\u001b[0m\u001b[0m\n\u001b[1;32m    688\u001b[0m         \u001b[0;32mwith\u001b[0m \u001b[0mconversion_ctx\u001b[0m\u001b[0;34m:\u001b[0m\u001b[0;34m\u001b[0m\u001b[0;34m\u001b[0m\u001b[0m\n\u001b[0;32m--> 689\u001b[0;31m           \u001b[0;32mreturn\u001b[0m \u001b[0mconverted_call\u001b[0m\u001b[0;34m(\u001b[0m\u001b[0mf\u001b[0m\u001b[0;34m,\u001b[0m \u001b[0margs\u001b[0m\u001b[0;34m,\u001b[0m \u001b[0mkwargs\u001b[0m\u001b[0;34m,\u001b[0m \u001b[0moptions\u001b[0m\u001b[0;34m=\u001b[0m\u001b[0moptions\u001b[0m\u001b[0;34m)\u001b[0m\u001b[0;34m\u001b[0m\u001b[0;34m\u001b[0m\u001b[0m\n\u001b[0m\u001b[1;32m    690\u001b[0m       \u001b[0;32mexcept\u001b[0m \u001b[0mException\u001b[0m \u001b[0;32mas\u001b[0m \u001b[0me\u001b[0m\u001b[0;34m:\u001b[0m  \u001b[0;31m# pylint:disable=broad-except\u001b[0m\u001b[0;34m\u001b[0m\u001b[0;34m\u001b[0m\u001b[0m\n\u001b[1;32m    691\u001b[0m         \u001b[0;32mif\u001b[0m \u001b[0mhasattr\u001b[0m\u001b[0;34m(\u001b[0m\u001b[0me\u001b[0m\u001b[0;34m,\u001b[0m \u001b[0;34m'ag_error_metadata'\u001b[0m\u001b[0;34m)\u001b[0m\u001b[0;34m:\u001b[0m\u001b[0;34m\u001b[0m\u001b[0;34m\u001b[0m\u001b[0m\n",
            "\u001b[0;32m/usr/local/lib/python3.10/dist-packages/tensorflow/python/autograph/impl/api.py\u001b[0m in \u001b[0;36mconverted_call\u001b[0;34m(f, args, kwargs, caller_fn_scope, options)\u001b[0m\n\u001b[1;32m    375\u001b[0m \u001b[0;34m\u001b[0m\u001b[0m\n\u001b[1;32m    376\u001b[0m   \u001b[0;32mif\u001b[0m \u001b[0;32mnot\u001b[0m \u001b[0moptions\u001b[0m\u001b[0;34m.\u001b[0m\u001b[0muser_requested\u001b[0m \u001b[0;32mand\u001b[0m \u001b[0mconversion\u001b[0m\u001b[0;34m.\u001b[0m\u001b[0mis_allowlisted\u001b[0m\u001b[0;34m(\u001b[0m\u001b[0mf\u001b[0m\u001b[0;34m)\u001b[0m\u001b[0;34m:\u001b[0m\u001b[0;34m\u001b[0m\u001b[0;34m\u001b[0m\u001b[0m\n\u001b[0;32m--> 377\u001b[0;31m     \u001b[0;32mreturn\u001b[0m \u001b[0m_call_unconverted\u001b[0m\u001b[0;34m(\u001b[0m\u001b[0mf\u001b[0m\u001b[0;34m,\u001b[0m \u001b[0margs\u001b[0m\u001b[0;34m,\u001b[0m \u001b[0mkwargs\u001b[0m\u001b[0;34m,\u001b[0m \u001b[0moptions\u001b[0m\u001b[0;34m)\u001b[0m\u001b[0;34m\u001b[0m\u001b[0;34m\u001b[0m\u001b[0m\n\u001b[0m\u001b[1;32m    378\u001b[0m \u001b[0;34m\u001b[0m\u001b[0m\n\u001b[1;32m    379\u001b[0m   \u001b[0;31m# internal_convert_user_code is for example turned off when issuing a dynamic\u001b[0m\u001b[0;34m\u001b[0m\u001b[0;34m\u001b[0m\u001b[0m\n",
            "\u001b[0;32m/usr/local/lib/python3.10/dist-packages/tensorflow/python/autograph/impl/api.py\u001b[0m in \u001b[0;36m_call_unconverted\u001b[0;34m(f, args, kwargs, options, update_cache)\u001b[0m\n\u001b[1;32m    456\u001b[0m \u001b[0;34m\u001b[0m\u001b[0m\n\u001b[1;32m    457\u001b[0m   \u001b[0;32mif\u001b[0m \u001b[0mkwargs\u001b[0m \u001b[0;32mis\u001b[0m \u001b[0;32mnot\u001b[0m \u001b[0;32mNone\u001b[0m\u001b[0;34m:\u001b[0m\u001b[0;34m\u001b[0m\u001b[0;34m\u001b[0m\u001b[0m\n\u001b[0;32m--> 458\u001b[0;31m     \u001b[0;32mreturn\u001b[0m \u001b[0mf\u001b[0m\u001b[0;34m(\u001b[0m\u001b[0;34m*\u001b[0m\u001b[0margs\u001b[0m\u001b[0;34m,\u001b[0m \u001b[0;34m**\u001b[0m\u001b[0mkwargs\u001b[0m\u001b[0;34m)\u001b[0m\u001b[0;34m\u001b[0m\u001b[0;34m\u001b[0m\u001b[0m\n\u001b[0m\u001b[1;32m    459\u001b[0m   \u001b[0;32mreturn\u001b[0m \u001b[0mf\u001b[0m\u001b[0;34m(\u001b[0m\u001b[0;34m*\u001b[0m\u001b[0margs\u001b[0m\u001b[0;34m)\u001b[0m\u001b[0;34m\u001b[0m\u001b[0;34m\u001b[0m\u001b[0m\n\u001b[1;32m    460\u001b[0m \u001b[0;34m\u001b[0m\u001b[0m\n",
            "\u001b[0;32m/usr/local/lib/python3.10/dist-packages/keras/engine/training.py\u001b[0m in \u001b[0;36mrun_step\u001b[0;34m(data)\u001b[0m\n\u001b[1;32m   1247\u001b[0m \u001b[0;34m\u001b[0m\u001b[0m\n\u001b[1;32m   1248\u001b[0m             \u001b[0;32mdef\u001b[0m \u001b[0mrun_step\u001b[0m\u001b[0;34m(\u001b[0m\u001b[0mdata\u001b[0m\u001b[0;34m)\u001b[0m\u001b[0;34m:\u001b[0m\u001b[0;34m\u001b[0m\u001b[0;34m\u001b[0m\u001b[0m\n\u001b[0;32m-> 1249\u001b[0;31m                 \u001b[0moutputs\u001b[0m \u001b[0;34m=\u001b[0m \u001b[0mmodel\u001b[0m\u001b[0;34m.\u001b[0m\u001b[0mtrain_step\u001b[0m\u001b[0;34m(\u001b[0m\u001b[0mdata\u001b[0m\u001b[0;34m)\u001b[0m\u001b[0;34m\u001b[0m\u001b[0;34m\u001b[0m\u001b[0m\n\u001b[0m\u001b[1;32m   1250\u001b[0m                 \u001b[0;31m# Ensure counter is updated only if `train_step` succeeds.\u001b[0m\u001b[0;34m\u001b[0m\u001b[0;34m\u001b[0m\u001b[0m\n\u001b[1;32m   1251\u001b[0m                 \u001b[0;32mwith\u001b[0m \u001b[0mtf\u001b[0m\u001b[0;34m.\u001b[0m\u001b[0mcontrol_dependencies\u001b[0m\u001b[0;34m(\u001b[0m\u001b[0m_minimum_control_deps\u001b[0m\u001b[0;34m(\u001b[0m\u001b[0moutputs\u001b[0m\u001b[0;34m)\u001b[0m\u001b[0;34m)\u001b[0m\u001b[0;34m:\u001b[0m\u001b[0;34m\u001b[0m\u001b[0;34m\u001b[0m\u001b[0m\n",
            "\u001b[0;32m/usr/local/lib/python3.10/dist-packages/keras/engine/training.py\u001b[0m in \u001b[0;36mtrain_step\u001b[0;34m(self, data)\u001b[0m\n\u001b[1;32m   1048\u001b[0m         \u001b[0;31m# Run forward pass.\u001b[0m\u001b[0;34m\u001b[0m\u001b[0;34m\u001b[0m\u001b[0m\n\u001b[1;32m   1049\u001b[0m         \u001b[0;32mwith\u001b[0m \u001b[0mtf\u001b[0m\u001b[0;34m.\u001b[0m\u001b[0mGradientTape\u001b[0m\u001b[0;34m(\u001b[0m\u001b[0;34m)\u001b[0m \u001b[0;32mas\u001b[0m \u001b[0mtape\u001b[0m\u001b[0;34m:\u001b[0m\u001b[0;34m\u001b[0m\u001b[0;34m\u001b[0m\u001b[0m\n\u001b[0;32m-> 1050\u001b[0;31m             \u001b[0my_pred\u001b[0m \u001b[0;34m=\u001b[0m \u001b[0mself\u001b[0m\u001b[0;34m(\u001b[0m\u001b[0mx\u001b[0m\u001b[0;34m,\u001b[0m \u001b[0mtraining\u001b[0m\u001b[0;34m=\u001b[0m\u001b[0;32mTrue\u001b[0m\u001b[0;34m)\u001b[0m\u001b[0;34m\u001b[0m\u001b[0;34m\u001b[0m\u001b[0m\n\u001b[0m\u001b[1;32m   1051\u001b[0m             \u001b[0mloss\u001b[0m \u001b[0;34m=\u001b[0m \u001b[0mself\u001b[0m\u001b[0;34m.\u001b[0m\u001b[0mcompute_loss\u001b[0m\u001b[0;34m(\u001b[0m\u001b[0mx\u001b[0m\u001b[0;34m,\u001b[0m \u001b[0my\u001b[0m\u001b[0;34m,\u001b[0m \u001b[0my_pred\u001b[0m\u001b[0;34m,\u001b[0m \u001b[0msample_weight\u001b[0m\u001b[0;34m)\u001b[0m\u001b[0;34m\u001b[0m\u001b[0;34m\u001b[0m\u001b[0m\n\u001b[1;32m   1052\u001b[0m         \u001b[0mself\u001b[0m\u001b[0;34m.\u001b[0m\u001b[0m_validate_target_and_loss\u001b[0m\u001b[0;34m(\u001b[0m\u001b[0my\u001b[0m\u001b[0;34m,\u001b[0m \u001b[0mloss\u001b[0m\u001b[0;34m)\u001b[0m\u001b[0;34m\u001b[0m\u001b[0;34m\u001b[0m\u001b[0m\n",
            "\u001b[0;32m/usr/local/lib/python3.10/dist-packages/keras/utils/traceback_utils.py\u001b[0m in \u001b[0;36merror_handler\u001b[0;34m(*args, **kwargs)\u001b[0m\n\u001b[1;32m     63\u001b[0m         \u001b[0mfiltered_tb\u001b[0m \u001b[0;34m=\u001b[0m \u001b[0;32mNone\u001b[0m\u001b[0;34m\u001b[0m\u001b[0;34m\u001b[0m\u001b[0m\n\u001b[1;32m     64\u001b[0m         \u001b[0;32mtry\u001b[0m\u001b[0;34m:\u001b[0m\u001b[0;34m\u001b[0m\u001b[0;34m\u001b[0m\u001b[0m\n\u001b[0;32m---> 65\u001b[0;31m             \u001b[0;32mreturn\u001b[0m \u001b[0mfn\u001b[0m\u001b[0;34m(\u001b[0m\u001b[0;34m*\u001b[0m\u001b[0margs\u001b[0m\u001b[0;34m,\u001b[0m \u001b[0;34m**\u001b[0m\u001b[0mkwargs\u001b[0m\u001b[0;34m)\u001b[0m\u001b[0;34m\u001b[0m\u001b[0;34m\u001b[0m\u001b[0m\n\u001b[0m\u001b[1;32m     66\u001b[0m         \u001b[0;32mexcept\u001b[0m \u001b[0mException\u001b[0m \u001b[0;32mas\u001b[0m \u001b[0me\u001b[0m\u001b[0;34m:\u001b[0m\u001b[0;34m\u001b[0m\u001b[0;34m\u001b[0m\u001b[0m\n\u001b[1;32m     67\u001b[0m             \u001b[0mfiltered_tb\u001b[0m \u001b[0;34m=\u001b[0m \u001b[0m_process_traceback_frames\u001b[0m\u001b[0;34m(\u001b[0m\u001b[0me\u001b[0m\u001b[0;34m.\u001b[0m\u001b[0m__traceback__\u001b[0m\u001b[0;34m)\u001b[0m\u001b[0;34m\u001b[0m\u001b[0;34m\u001b[0m\u001b[0m\n",
            "\u001b[0;32m/usr/local/lib/python3.10/dist-packages/keras/engine/training.py\u001b[0m in \u001b[0;36m__call__\u001b[0;34m(self, *args, **kwargs)\u001b[0m\n\u001b[1;32m    556\u001b[0m             \u001b[0mlayout_map_lib\u001b[0m\u001b[0;34m.\u001b[0m\u001b[0m_map_subclass_model_variable\u001b[0m\u001b[0;34m(\u001b[0m\u001b[0mself\u001b[0m\u001b[0;34m,\u001b[0m \u001b[0mself\u001b[0m\u001b[0;34m.\u001b[0m\u001b[0m_layout_map\u001b[0m\u001b[0;34m)\u001b[0m\u001b[0;34m\u001b[0m\u001b[0;34m\u001b[0m\u001b[0m\n\u001b[1;32m    557\u001b[0m \u001b[0;34m\u001b[0m\u001b[0m\n\u001b[0;32m--> 558\u001b[0;31m         \u001b[0;32mreturn\u001b[0m \u001b[0msuper\u001b[0m\u001b[0;34m(\u001b[0m\u001b[0;34m)\u001b[0m\u001b[0;34m.\u001b[0m\u001b[0m__call__\u001b[0m\u001b[0;34m(\u001b[0m\u001b[0;34m*\u001b[0m\u001b[0margs\u001b[0m\u001b[0;34m,\u001b[0m \u001b[0;34m**\u001b[0m\u001b[0mkwargs\u001b[0m\u001b[0;34m)\u001b[0m\u001b[0;34m\u001b[0m\u001b[0;34m\u001b[0m\u001b[0m\n\u001b[0m\u001b[1;32m    559\u001b[0m \u001b[0;34m\u001b[0m\u001b[0m\n\u001b[1;32m    560\u001b[0m     \u001b[0;34m@\u001b[0m\u001b[0mdoc_controls\u001b[0m\u001b[0;34m.\u001b[0m\u001b[0mdoc_in_current_and_subclasses\u001b[0m\u001b[0;34m\u001b[0m\u001b[0;34m\u001b[0m\u001b[0m\n",
            "\u001b[0;32m/usr/local/lib/python3.10/dist-packages/keras/utils/traceback_utils.py\u001b[0m in \u001b[0;36merror_handler\u001b[0;34m(*args, **kwargs)\u001b[0m\n\u001b[1;32m     63\u001b[0m         \u001b[0mfiltered_tb\u001b[0m \u001b[0;34m=\u001b[0m \u001b[0;32mNone\u001b[0m\u001b[0;34m\u001b[0m\u001b[0;34m\u001b[0m\u001b[0m\n\u001b[1;32m     64\u001b[0m         \u001b[0;32mtry\u001b[0m\u001b[0;34m:\u001b[0m\u001b[0;34m\u001b[0m\u001b[0;34m\u001b[0m\u001b[0m\n\u001b[0;32m---> 65\u001b[0;31m             \u001b[0;32mreturn\u001b[0m \u001b[0mfn\u001b[0m\u001b[0;34m(\u001b[0m\u001b[0;34m*\u001b[0m\u001b[0margs\u001b[0m\u001b[0;34m,\u001b[0m \u001b[0;34m**\u001b[0m\u001b[0mkwargs\u001b[0m\u001b[0;34m)\u001b[0m\u001b[0;34m\u001b[0m\u001b[0;34m\u001b[0m\u001b[0m\n\u001b[0m\u001b[1;32m     66\u001b[0m         \u001b[0;32mexcept\u001b[0m \u001b[0mException\u001b[0m \u001b[0;32mas\u001b[0m \u001b[0me\u001b[0m\u001b[0;34m:\u001b[0m\u001b[0;34m\u001b[0m\u001b[0;34m\u001b[0m\u001b[0m\n\u001b[1;32m     67\u001b[0m             \u001b[0mfiltered_tb\u001b[0m \u001b[0;34m=\u001b[0m \u001b[0m_process_traceback_frames\u001b[0m\u001b[0;34m(\u001b[0m\u001b[0me\u001b[0m\u001b[0;34m.\u001b[0m\u001b[0m__traceback__\u001b[0m\u001b[0;34m)\u001b[0m\u001b[0;34m\u001b[0m\u001b[0;34m\u001b[0m\u001b[0m\n",
            "\u001b[0;32m/usr/local/lib/python3.10/dist-packages/keras/engine/base_layer.py\u001b[0m in \u001b[0;36m__call__\u001b[0;34m(self, *args, **kwargs)\u001b[0m\n\u001b[1;32m   1143\u001b[0m                     \u001b[0mself\u001b[0m\u001b[0;34m.\u001b[0m\u001b[0m_compute_dtype_object\u001b[0m\u001b[0;34m\u001b[0m\u001b[0;34m\u001b[0m\u001b[0m\n\u001b[1;32m   1144\u001b[0m                 ):\n\u001b[0;32m-> 1145\u001b[0;31m                     \u001b[0moutputs\u001b[0m \u001b[0;34m=\u001b[0m \u001b[0mcall_fn\u001b[0m\u001b[0;34m(\u001b[0m\u001b[0minputs\u001b[0m\u001b[0;34m,\u001b[0m \u001b[0;34m*\u001b[0m\u001b[0margs\u001b[0m\u001b[0;34m,\u001b[0m \u001b[0;34m**\u001b[0m\u001b[0mkwargs\u001b[0m\u001b[0;34m)\u001b[0m\u001b[0;34m\u001b[0m\u001b[0;34m\u001b[0m\u001b[0m\n\u001b[0m\u001b[1;32m   1146\u001b[0m \u001b[0;34m\u001b[0m\u001b[0m\n\u001b[1;32m   1147\u001b[0m                 \u001b[0;32mif\u001b[0m \u001b[0mself\u001b[0m\u001b[0;34m.\u001b[0m\u001b[0m_activity_regularizer\u001b[0m\u001b[0;34m:\u001b[0m\u001b[0;34m\u001b[0m\u001b[0;34m\u001b[0m\u001b[0m\n",
            "\u001b[0;32m/usr/local/lib/python3.10/dist-packages/keras/utils/traceback_utils.py\u001b[0m in \u001b[0;36merror_handler\u001b[0;34m(*args, **kwargs)\u001b[0m\n\u001b[1;32m     94\u001b[0m         \u001b[0mbound_signature\u001b[0m \u001b[0;34m=\u001b[0m \u001b[0;32mNone\u001b[0m\u001b[0;34m\u001b[0m\u001b[0;34m\u001b[0m\u001b[0m\n\u001b[1;32m     95\u001b[0m         \u001b[0;32mtry\u001b[0m\u001b[0;34m:\u001b[0m\u001b[0;34m\u001b[0m\u001b[0;34m\u001b[0m\u001b[0m\n\u001b[0;32m---> 96\u001b[0;31m             \u001b[0;32mreturn\u001b[0m \u001b[0mfn\u001b[0m\u001b[0;34m(\u001b[0m\u001b[0;34m*\u001b[0m\u001b[0margs\u001b[0m\u001b[0;34m,\u001b[0m \u001b[0;34m**\u001b[0m\u001b[0mkwargs\u001b[0m\u001b[0;34m)\u001b[0m\u001b[0;34m\u001b[0m\u001b[0;34m\u001b[0m\u001b[0m\n\u001b[0m\u001b[1;32m     97\u001b[0m         \u001b[0;32mexcept\u001b[0m \u001b[0mException\u001b[0m \u001b[0;32mas\u001b[0m \u001b[0me\u001b[0m\u001b[0;34m:\u001b[0m\u001b[0;34m\u001b[0m\u001b[0;34m\u001b[0m\u001b[0m\n\u001b[1;32m     98\u001b[0m             \u001b[0;32mif\u001b[0m \u001b[0mhasattr\u001b[0m\u001b[0;34m(\u001b[0m\u001b[0me\u001b[0m\u001b[0;34m,\u001b[0m \u001b[0;34m\"_keras_call_info_injected\"\u001b[0m\u001b[0;34m)\u001b[0m\u001b[0;34m:\u001b[0m\u001b[0;34m\u001b[0m\u001b[0;34m\u001b[0m\u001b[0m\n",
            "\u001b[0;32m/usr/local/lib/python3.10/dist-packages/keras/engine/sequential.py\u001b[0m in \u001b[0;36mcall\u001b[0;34m(self, inputs, training, mask)\u001b[0m\n\u001b[1;32m    410\u001b[0m             \u001b[0;32mif\u001b[0m \u001b[0;32mnot\u001b[0m \u001b[0mself\u001b[0m\u001b[0;34m.\u001b[0m\u001b[0mbuilt\u001b[0m\u001b[0;34m:\u001b[0m\u001b[0;34m\u001b[0m\u001b[0;34m\u001b[0m\u001b[0m\n\u001b[1;32m    411\u001b[0m                 \u001b[0mself\u001b[0m\u001b[0;34m.\u001b[0m\u001b[0m_init_graph_network\u001b[0m\u001b[0;34m(\u001b[0m\u001b[0mself\u001b[0m\u001b[0;34m.\u001b[0m\u001b[0minputs\u001b[0m\u001b[0;34m,\u001b[0m \u001b[0mself\u001b[0m\u001b[0;34m.\u001b[0m\u001b[0moutputs\u001b[0m\u001b[0;34m)\u001b[0m\u001b[0;34m\u001b[0m\u001b[0;34m\u001b[0m\u001b[0m\n\u001b[0;32m--> 412\u001b[0;31m             \u001b[0;32mreturn\u001b[0m \u001b[0msuper\u001b[0m\u001b[0;34m(\u001b[0m\u001b[0;34m)\u001b[0m\u001b[0;34m.\u001b[0m\u001b[0mcall\u001b[0m\u001b[0;34m(\u001b[0m\u001b[0minputs\u001b[0m\u001b[0;34m,\u001b[0m \u001b[0mtraining\u001b[0m\u001b[0;34m=\u001b[0m\u001b[0mtraining\u001b[0m\u001b[0;34m,\u001b[0m \u001b[0mmask\u001b[0m\u001b[0;34m=\u001b[0m\u001b[0mmask\u001b[0m\u001b[0;34m)\u001b[0m\u001b[0;34m\u001b[0m\u001b[0;34m\u001b[0m\u001b[0m\n\u001b[0m\u001b[1;32m    413\u001b[0m \u001b[0;34m\u001b[0m\u001b[0m\n\u001b[1;32m    414\u001b[0m         \u001b[0moutputs\u001b[0m \u001b[0;34m=\u001b[0m \u001b[0minputs\u001b[0m  \u001b[0;31m# handle the corner case where self.layers is empty\u001b[0m\u001b[0;34m\u001b[0m\u001b[0;34m\u001b[0m\u001b[0m\n",
            "\u001b[0;32m/usr/local/lib/python3.10/dist-packages/keras/engine/functional.py\u001b[0m in \u001b[0;36mcall\u001b[0;34m(self, inputs, training, mask)\u001b[0m\n\u001b[1;32m    510\u001b[0m             \u001b[0ma\u001b[0m \u001b[0mlist\u001b[0m \u001b[0mof\u001b[0m \u001b[0mtensors\u001b[0m \u001b[0;32mif\u001b[0m \u001b[0mthere\u001b[0m \u001b[0mare\u001b[0m \u001b[0mmore\u001b[0m \u001b[0mthan\u001b[0m \u001b[0mone\u001b[0m \u001b[0moutputs\u001b[0m\u001b[0;34m.\u001b[0m\u001b[0;34m\u001b[0m\u001b[0;34m\u001b[0m\u001b[0m\n\u001b[1;32m    511\u001b[0m         \"\"\"\n\u001b[0;32m--> 512\u001b[0;31m         \u001b[0;32mreturn\u001b[0m \u001b[0mself\u001b[0m\u001b[0;34m.\u001b[0m\u001b[0m_run_internal_graph\u001b[0m\u001b[0;34m(\u001b[0m\u001b[0minputs\u001b[0m\u001b[0;34m,\u001b[0m \u001b[0mtraining\u001b[0m\u001b[0;34m=\u001b[0m\u001b[0mtraining\u001b[0m\u001b[0;34m,\u001b[0m \u001b[0mmask\u001b[0m\u001b[0;34m=\u001b[0m\u001b[0mmask\u001b[0m\u001b[0;34m)\u001b[0m\u001b[0;34m\u001b[0m\u001b[0;34m\u001b[0m\u001b[0m\n\u001b[0m\u001b[1;32m    513\u001b[0m \u001b[0;34m\u001b[0m\u001b[0m\n\u001b[1;32m    514\u001b[0m     \u001b[0;32mdef\u001b[0m \u001b[0mcompute_output_shape\u001b[0m\u001b[0;34m(\u001b[0m\u001b[0mself\u001b[0m\u001b[0;34m,\u001b[0m \u001b[0minput_shape\u001b[0m\u001b[0;34m)\u001b[0m\u001b[0;34m:\u001b[0m\u001b[0;34m\u001b[0m\u001b[0;34m\u001b[0m\u001b[0m\n",
            "\u001b[0;32m/usr/local/lib/python3.10/dist-packages/keras/engine/functional.py\u001b[0m in \u001b[0;36m_run_internal_graph\u001b[0;34m(self, inputs, training, mask)\u001b[0m\n\u001b[1;32m    667\u001b[0m \u001b[0;34m\u001b[0m\u001b[0m\n\u001b[1;32m    668\u001b[0m                 \u001b[0margs\u001b[0m\u001b[0;34m,\u001b[0m \u001b[0mkwargs\u001b[0m \u001b[0;34m=\u001b[0m \u001b[0mnode\u001b[0m\u001b[0;34m.\u001b[0m\u001b[0mmap_arguments\u001b[0m\u001b[0;34m(\u001b[0m\u001b[0mtensor_dict\u001b[0m\u001b[0;34m)\u001b[0m\u001b[0;34m\u001b[0m\u001b[0;34m\u001b[0m\u001b[0m\n\u001b[0;32m--> 669\u001b[0;31m                 \u001b[0moutputs\u001b[0m \u001b[0;34m=\u001b[0m \u001b[0mnode\u001b[0m\u001b[0;34m.\u001b[0m\u001b[0mlayer\u001b[0m\u001b[0;34m(\u001b[0m\u001b[0;34m*\u001b[0m\u001b[0margs\u001b[0m\u001b[0;34m,\u001b[0m \u001b[0;34m**\u001b[0m\u001b[0mkwargs\u001b[0m\u001b[0;34m)\u001b[0m\u001b[0;34m\u001b[0m\u001b[0;34m\u001b[0m\u001b[0m\n\u001b[0m\u001b[1;32m    670\u001b[0m \u001b[0;34m\u001b[0m\u001b[0m\n\u001b[1;32m    671\u001b[0m                 \u001b[0;31m# Update tensor_dict.\u001b[0m\u001b[0;34m\u001b[0m\u001b[0;34m\u001b[0m\u001b[0m\n",
            "\u001b[0;32m/usr/local/lib/python3.10/dist-packages/keras/layers/rnn/base_rnn.py\u001b[0m in \u001b[0;36m__call__\u001b[0;34m(self, inputs, initial_state, constants, **kwargs)\u001b[0m\n\u001b[1;32m    554\u001b[0m \u001b[0;34m\u001b[0m\u001b[0m\n\u001b[1;32m    555\u001b[0m         \u001b[0;32mif\u001b[0m \u001b[0minitial_state\u001b[0m \u001b[0;32mis\u001b[0m \u001b[0;32mNone\u001b[0m \u001b[0;32mand\u001b[0m \u001b[0mconstants\u001b[0m \u001b[0;32mis\u001b[0m \u001b[0;32mNone\u001b[0m\u001b[0;34m:\u001b[0m\u001b[0;34m\u001b[0m\u001b[0;34m\u001b[0m\u001b[0m\n\u001b[0;32m--> 556\u001b[0;31m             \u001b[0;32mreturn\u001b[0m \u001b[0msuper\u001b[0m\u001b[0;34m(\u001b[0m\u001b[0;34m)\u001b[0m\u001b[0;34m.\u001b[0m\u001b[0m__call__\u001b[0m\u001b[0;34m(\u001b[0m\u001b[0minputs\u001b[0m\u001b[0;34m,\u001b[0m \u001b[0;34m**\u001b[0m\u001b[0mkwargs\u001b[0m\u001b[0;34m)\u001b[0m\u001b[0;34m\u001b[0m\u001b[0;34m\u001b[0m\u001b[0m\n\u001b[0m\u001b[1;32m    557\u001b[0m \u001b[0;34m\u001b[0m\u001b[0m\n\u001b[1;32m    558\u001b[0m         \u001b[0;31m# If any of `initial_state` or `constants` are specified and are Keras\u001b[0m\u001b[0;34m\u001b[0m\u001b[0;34m\u001b[0m\u001b[0m\n",
            "\u001b[0;32m/usr/local/lib/python3.10/dist-packages/keras/utils/traceback_utils.py\u001b[0m in \u001b[0;36merror_handler\u001b[0;34m(*args, **kwargs)\u001b[0m\n\u001b[1;32m     63\u001b[0m         \u001b[0mfiltered_tb\u001b[0m \u001b[0;34m=\u001b[0m \u001b[0;32mNone\u001b[0m\u001b[0;34m\u001b[0m\u001b[0;34m\u001b[0m\u001b[0m\n\u001b[1;32m     64\u001b[0m         \u001b[0;32mtry\u001b[0m\u001b[0;34m:\u001b[0m\u001b[0;34m\u001b[0m\u001b[0;34m\u001b[0m\u001b[0m\n\u001b[0;32m---> 65\u001b[0;31m             \u001b[0;32mreturn\u001b[0m \u001b[0mfn\u001b[0m\u001b[0;34m(\u001b[0m\u001b[0;34m*\u001b[0m\u001b[0margs\u001b[0m\u001b[0;34m,\u001b[0m \u001b[0;34m**\u001b[0m\u001b[0mkwargs\u001b[0m\u001b[0;34m)\u001b[0m\u001b[0;34m\u001b[0m\u001b[0;34m\u001b[0m\u001b[0m\n\u001b[0m\u001b[1;32m     66\u001b[0m         \u001b[0;32mexcept\u001b[0m \u001b[0mException\u001b[0m \u001b[0;32mas\u001b[0m \u001b[0me\u001b[0m\u001b[0;34m:\u001b[0m\u001b[0;34m\u001b[0m\u001b[0;34m\u001b[0m\u001b[0m\n\u001b[1;32m     67\u001b[0m             \u001b[0mfiltered_tb\u001b[0m \u001b[0;34m=\u001b[0m \u001b[0m_process_traceback_frames\u001b[0m\u001b[0;34m(\u001b[0m\u001b[0me\u001b[0m\u001b[0;34m.\u001b[0m\u001b[0m__traceback__\u001b[0m\u001b[0;34m)\u001b[0m\u001b[0;34m\u001b[0m\u001b[0;34m\u001b[0m\u001b[0m\n",
            "\u001b[0;32m/usr/local/lib/python3.10/dist-packages/keras/engine/base_layer.py\u001b[0m in \u001b[0;36m__call__\u001b[0;34m(self, *args, **kwargs)\u001b[0m\n\u001b[1;32m   1143\u001b[0m                     \u001b[0mself\u001b[0m\u001b[0;34m.\u001b[0m\u001b[0m_compute_dtype_object\u001b[0m\u001b[0;34m\u001b[0m\u001b[0;34m\u001b[0m\u001b[0m\n\u001b[1;32m   1144\u001b[0m                 ):\n\u001b[0;32m-> 1145\u001b[0;31m                     \u001b[0moutputs\u001b[0m \u001b[0;34m=\u001b[0m \u001b[0mcall_fn\u001b[0m\u001b[0;34m(\u001b[0m\u001b[0minputs\u001b[0m\u001b[0;34m,\u001b[0m \u001b[0;34m*\u001b[0m\u001b[0margs\u001b[0m\u001b[0;34m,\u001b[0m \u001b[0;34m**\u001b[0m\u001b[0mkwargs\u001b[0m\u001b[0;34m)\u001b[0m\u001b[0;34m\u001b[0m\u001b[0;34m\u001b[0m\u001b[0m\n\u001b[0m\u001b[1;32m   1146\u001b[0m \u001b[0;34m\u001b[0m\u001b[0m\n\u001b[1;32m   1147\u001b[0m                 \u001b[0;32mif\u001b[0m \u001b[0mself\u001b[0m\u001b[0;34m.\u001b[0m\u001b[0m_activity_regularizer\u001b[0m\u001b[0;34m:\u001b[0m\u001b[0;34m\u001b[0m\u001b[0;34m\u001b[0m\u001b[0m\n",
            "\u001b[0;32m/usr/local/lib/python3.10/dist-packages/keras/utils/traceback_utils.py\u001b[0m in \u001b[0;36merror_handler\u001b[0;34m(*args, **kwargs)\u001b[0m\n\u001b[1;32m     94\u001b[0m         \u001b[0mbound_signature\u001b[0m \u001b[0;34m=\u001b[0m \u001b[0;32mNone\u001b[0m\u001b[0;34m\u001b[0m\u001b[0;34m\u001b[0m\u001b[0m\n\u001b[1;32m     95\u001b[0m         \u001b[0;32mtry\u001b[0m\u001b[0;34m:\u001b[0m\u001b[0;34m\u001b[0m\u001b[0;34m\u001b[0m\u001b[0m\n\u001b[0;32m---> 96\u001b[0;31m             \u001b[0;32mreturn\u001b[0m \u001b[0mfn\u001b[0m\u001b[0;34m(\u001b[0m\u001b[0;34m*\u001b[0m\u001b[0margs\u001b[0m\u001b[0;34m,\u001b[0m \u001b[0;34m**\u001b[0m\u001b[0mkwargs\u001b[0m\u001b[0;34m)\u001b[0m\u001b[0;34m\u001b[0m\u001b[0;34m\u001b[0m\u001b[0m\n\u001b[0m\u001b[1;32m     97\u001b[0m         \u001b[0;32mexcept\u001b[0m \u001b[0mException\u001b[0m \u001b[0;32mas\u001b[0m \u001b[0me\u001b[0m\u001b[0;34m:\u001b[0m\u001b[0;34m\u001b[0m\u001b[0;34m\u001b[0m\u001b[0m\n\u001b[1;32m     98\u001b[0m             \u001b[0;32mif\u001b[0m \u001b[0mhasattr\u001b[0m\u001b[0;34m(\u001b[0m\u001b[0me\u001b[0m\u001b[0;34m,\u001b[0m \u001b[0;34m\"_keras_call_info_injected\"\u001b[0m\u001b[0;34m)\u001b[0m\u001b[0;34m:\u001b[0m\u001b[0;34m\u001b[0m\u001b[0;34m\u001b[0m\u001b[0m\n",
            "\u001b[0;32m/usr/local/lib/python3.10/dist-packages/keras/layers/rnn/lstm.py\u001b[0m in \u001b[0;36mcall\u001b[0;34m(self, inputs, mask, training, initial_state)\u001b[0m\n\u001b[1;32m    746\u001b[0m                         \u001b[0mnew_c\u001b[0m\u001b[0;34m,\u001b[0m\u001b[0;34m\u001b[0m\u001b[0;34m\u001b[0m\u001b[0m\n\u001b[1;32m    747\u001b[0m                         \u001b[0mruntime\u001b[0m\u001b[0;34m,\u001b[0m\u001b[0;34m\u001b[0m\u001b[0;34m\u001b[0m\u001b[0m\n\u001b[0;32m--> 748\u001b[0;31m                     ) = lstm_with_backend_selection(**normal_lstm_kwargs)\n\u001b[0m\u001b[1;32m    749\u001b[0m \u001b[0;34m\u001b[0m\u001b[0m\n\u001b[1;32m    750\u001b[0m             \u001b[0mstates\u001b[0m \u001b[0;34m=\u001b[0m \u001b[0;34m[\u001b[0m\u001b[0mnew_h\u001b[0m\u001b[0;34m,\u001b[0m \u001b[0mnew_c\u001b[0m\u001b[0;34m]\u001b[0m\u001b[0;34m\u001b[0m\u001b[0;34m\u001b[0m\u001b[0m\n",
            "\u001b[0;32m/usr/local/lib/python3.10/dist-packages/keras/layers/rnn/lstm.py\u001b[0m in \u001b[0;36mlstm_with_backend_selection\u001b[0;34m(inputs, init_h, init_c, kernel, recurrent_kernel, bias, mask, time_major, go_backwards, sequence_lengths, zero_output_for_mask, return_sequences)\u001b[0m\n\u001b[1;32m   1339\u001b[0m             \u001b[0;34m**\u001b[0m\u001b[0mparams\u001b[0m\u001b[0;34m\u001b[0m\u001b[0;34m\u001b[0m\u001b[0m\n\u001b[1;32m   1340\u001b[0m         )\n\u001b[0;32m-> 1341\u001b[0;31m         \u001b[0mgru_lstm_utils\u001b[0m\u001b[0;34m.\u001b[0m\u001b[0mfunction_register\u001b[0m\u001b[0;34m(\u001b[0m\u001b[0mdefun_gpu_lstm\u001b[0m\u001b[0;34m,\u001b[0m \u001b[0;34m**\u001b[0m\u001b[0mparams\u001b[0m\u001b[0;34m)\u001b[0m\u001b[0;34m\u001b[0m\u001b[0;34m\u001b[0m\u001b[0m\n\u001b[0m\u001b[1;32m   1342\u001b[0m \u001b[0;34m\u001b[0m\u001b[0m\n\u001b[1;32m   1343\u001b[0m     \u001b[0;32mreturn\u001b[0m \u001b[0mlast_output\u001b[0m\u001b[0;34m,\u001b[0m \u001b[0moutputs\u001b[0m\u001b[0;34m,\u001b[0m \u001b[0mnew_h\u001b[0m\u001b[0;34m,\u001b[0m \u001b[0mnew_c\u001b[0m\u001b[0;34m,\u001b[0m \u001b[0mruntime\u001b[0m\u001b[0;34m\u001b[0m\u001b[0;34m\u001b[0m\u001b[0m\n",
            "\u001b[0;32m/usr/local/lib/python3.10/dist-packages/keras/layers/rnn/gru_lstm_utils.py\u001b[0m in \u001b[0;36mfunction_register\u001b[0;34m(func, *args, **kwargs)\u001b[0m\n\u001b[1;32m    268\u001b[0m         \u001b[0mfunction\u001b[0m\u001b[0;34m.\u001b[0m\u001b[0;34m\u001b[0m\u001b[0;34m\u001b[0m\u001b[0m\n\u001b[1;32m    269\u001b[0m     \"\"\"\n\u001b[0;32m--> 270\u001b[0;31m     \u001b[0mconcrete_func\u001b[0m \u001b[0;34m=\u001b[0m \u001b[0mfunc\u001b[0m\u001b[0;34m.\u001b[0m\u001b[0mget_concrete_function\u001b[0m\u001b[0;34m(\u001b[0m\u001b[0;34m*\u001b[0m\u001b[0margs\u001b[0m\u001b[0;34m,\u001b[0m \u001b[0;34m**\u001b[0m\u001b[0mkwargs\u001b[0m\u001b[0;34m)\u001b[0m\u001b[0;34m\u001b[0m\u001b[0;34m\u001b[0m\u001b[0m\n\u001b[0m\u001b[1;32m    271\u001b[0m     \u001b[0mconcrete_func\u001b[0m\u001b[0;34m.\u001b[0m\u001b[0madd_to_graph\u001b[0m\u001b[0;34m(\u001b[0m\u001b[0;34m)\u001b[0m\u001b[0;34m\u001b[0m\u001b[0;34m\u001b[0m\u001b[0m\n\u001b[1;32m    272\u001b[0m     \u001b[0mconcrete_func\u001b[0m\u001b[0;34m.\u001b[0m\u001b[0madd_gradient_functions_to_graph\u001b[0m\u001b[0;34m(\u001b[0m\u001b[0;34m)\u001b[0m\u001b[0;34m\u001b[0m\u001b[0;34m\u001b[0m\u001b[0m\n",
            "\u001b[0;32m/usr/local/lib/python3.10/dist-packages/tensorflow/python/eager/polymorphic_function/tracing_compiler.py\u001b[0m in \u001b[0;36mget_concrete_function\u001b[0;34m(self, *args, **kwargs)\u001b[0m\n\u001b[1;32m    230\u001b[0m         \u001b[0;31m`\u001b[0m\u001b[0mtf\u001b[0m\u001b[0;34m.\u001b[0m\u001b[0mTensor\u001b[0m\u001b[0;31m`\u001b[0m \u001b[0;32mor\u001b[0m\u001b[0;31m \u001b[0m\u001b[0;31m`\u001b[0m\u001b[0mtf\u001b[0m\u001b[0;34m.\u001b[0m\u001b[0mTensorSpec\u001b[0m\u001b[0;31m`\u001b[0m\u001b[0;34m.\u001b[0m\u001b[0;34m\u001b[0m\u001b[0;34m\u001b[0m\u001b[0m\n\u001b[1;32m    231\u001b[0m     \"\"\"\n\u001b[0;32m--> 232\u001b[0;31m     concrete_function = self._get_concrete_function_garbage_collected(\n\u001b[0m\u001b[1;32m    233\u001b[0m         *args, **kwargs)\n\u001b[1;32m    234\u001b[0m     \u001b[0mconcrete_function\u001b[0m\u001b[0;34m.\u001b[0m\u001b[0m_garbage_collector\u001b[0m\u001b[0;34m.\u001b[0m\u001b[0mrelease\u001b[0m\u001b[0;34m(\u001b[0m\u001b[0;34m)\u001b[0m  \u001b[0;31m# pylint: disable=protected-access\u001b[0m\u001b[0;34m\u001b[0m\u001b[0;34m\u001b[0m\u001b[0m\n",
            "\u001b[0;32m/usr/local/lib/python3.10/dist-packages/tensorflow/python/eager/polymorphic_function/tracing_compiler.py\u001b[0m in \u001b[0;36m_get_concrete_function_garbage_collected\u001b[0;34m(self, *args, **kwargs)\u001b[0m\n\u001b[1;32m    200\u001b[0m \u001b[0;34m\u001b[0m\u001b[0m\n\u001b[1;32m    201\u001b[0m     \u001b[0;32mwith\u001b[0m \u001b[0mself\u001b[0m\u001b[0;34m.\u001b[0m\u001b[0m_lock\u001b[0m\u001b[0;34m:\u001b[0m\u001b[0;34m\u001b[0m\u001b[0;34m\u001b[0m\u001b[0m\n\u001b[0;32m--> 202\u001b[0;31m       \u001b[0mconcrete_function\u001b[0m\u001b[0;34m,\u001b[0m \u001b[0m_\u001b[0m \u001b[0;34m=\u001b[0m \u001b[0mself\u001b[0m\u001b[0;34m.\u001b[0m\u001b[0m_maybe_define_concrete_function\u001b[0m\u001b[0;34m(\u001b[0m\u001b[0margs\u001b[0m\u001b[0;34m,\u001b[0m \u001b[0mkwargs\u001b[0m\u001b[0;34m)\u001b[0m\u001b[0;34m\u001b[0m\u001b[0;34m\u001b[0m\u001b[0m\n\u001b[0m\u001b[1;32m    203\u001b[0m       \u001b[0mseen_names\u001b[0m \u001b[0;34m=\u001b[0m \u001b[0mset\u001b[0m\u001b[0;34m(\u001b[0m\u001b[0;34m)\u001b[0m\u001b[0;34m\u001b[0m\u001b[0;34m\u001b[0m\u001b[0m\n\u001b[1;32m    204\u001b[0m       \u001b[0mconcrete_function\u001b[0m\u001b[0;34m.\u001b[0m\u001b[0m_arg_keywords\u001b[0m \u001b[0;34m=\u001b[0m \u001b[0;34m[\u001b[0m\u001b[0;34m]\u001b[0m  \u001b[0;31m# pylint: disable=protected-access\u001b[0m\u001b[0;34m\u001b[0m\u001b[0;34m\u001b[0m\u001b[0m\n",
            "\u001b[0;32m/usr/local/lib/python3.10/dist-packages/tensorflow/python/eager/polymorphic_function/tracing_compiler.py\u001b[0m in \u001b[0;36m_maybe_define_concrete_function\u001b[0;34m(self, args, kwargs)\u001b[0m\n\u001b[1;32m    164\u001b[0m       \u001b[0mkwargs\u001b[0m \u001b[0;34m=\u001b[0m \u001b[0;34m{\u001b[0m\u001b[0;34m}\u001b[0m\u001b[0;34m\u001b[0m\u001b[0;34m\u001b[0m\u001b[0m\n\u001b[1;32m    165\u001b[0m \u001b[0;34m\u001b[0m\u001b[0m\n\u001b[0;32m--> 166\u001b[0;31m     \u001b[0;32mreturn\u001b[0m \u001b[0mself\u001b[0m\u001b[0;34m.\u001b[0m\u001b[0m_maybe_define_function\u001b[0m\u001b[0;34m(\u001b[0m\u001b[0margs\u001b[0m\u001b[0;34m,\u001b[0m \u001b[0mkwargs\u001b[0m\u001b[0;34m)\u001b[0m\u001b[0;34m\u001b[0m\u001b[0;34m\u001b[0m\u001b[0m\n\u001b[0m\u001b[1;32m    167\u001b[0m \u001b[0;34m\u001b[0m\u001b[0m\n\u001b[1;32m    168\u001b[0m   \u001b[0;32mdef\u001b[0m \u001b[0m_get_concrete_function_internal_garbage_collected\u001b[0m\u001b[0;34m(\u001b[0m\u001b[0mself\u001b[0m\u001b[0;34m,\u001b[0m \u001b[0;34m*\u001b[0m\u001b[0margs\u001b[0m\u001b[0;34m,\u001b[0m \u001b[0;34m**\u001b[0m\u001b[0mkwargs\u001b[0m\u001b[0;34m)\u001b[0m\u001b[0;34m:\u001b[0m\u001b[0;34m\u001b[0m\u001b[0;34m\u001b[0m\u001b[0m\n",
            "\u001b[0;32m/usr/local/lib/python3.10/dist-packages/tensorflow/python/eager/polymorphic_function/tracing_compiler.py\u001b[0m in \u001b[0;36m_maybe_define_function\u001b[0;34m(self, args, kwargs)\u001b[0m\n\u001b[1;32m    394\u001b[0m           \u001b[0mkwargs\u001b[0m \u001b[0;34m=\u001b[0m \u001b[0mplaceholder_bound_args\u001b[0m\u001b[0;34m.\u001b[0m\u001b[0mkwargs\u001b[0m\u001b[0;34m\u001b[0m\u001b[0;34m\u001b[0m\u001b[0m\n\u001b[1;32m    395\u001b[0m \u001b[0;34m\u001b[0m\u001b[0m\n\u001b[0;32m--> 396\u001b[0;31m           concrete_function = self._create_concrete_function(\n\u001b[0m\u001b[1;32m    397\u001b[0m               args, kwargs, func_graph)\n\u001b[1;32m    398\u001b[0m \u001b[0;34m\u001b[0m\u001b[0m\n",
            "\u001b[0;32m/usr/local/lib/python3.10/dist-packages/tensorflow/python/eager/polymorphic_function/tracing_compiler.py\u001b[0m in \u001b[0;36m_create_concrete_function\u001b[0;34m(self, args, kwargs, func_graph)\u001b[0m\n\u001b[1;32m    298\u001b[0m \u001b[0;34m\u001b[0m\u001b[0m\n\u001b[1;32m    299\u001b[0m     concrete_function = monomorphic_function.ConcreteFunction(\n\u001b[0;32m--> 300\u001b[0;31m         func_graph_module.func_graph_from_py_func(\n\u001b[0m\u001b[1;32m    301\u001b[0m             \u001b[0mself\u001b[0m\u001b[0;34m.\u001b[0m\u001b[0m_name\u001b[0m\u001b[0;34m,\u001b[0m\u001b[0;34m\u001b[0m\u001b[0;34m\u001b[0m\u001b[0m\n\u001b[1;32m    302\u001b[0m             \u001b[0mself\u001b[0m\u001b[0;34m.\u001b[0m\u001b[0m_python_function\u001b[0m\u001b[0;34m,\u001b[0m\u001b[0;34m\u001b[0m\u001b[0;34m\u001b[0m\u001b[0m\n",
            "\u001b[0;32m/usr/local/lib/python3.10/dist-packages/tensorflow/python/framework/func_graph.py\u001b[0m in \u001b[0;36mfunc_graph_from_py_func\u001b[0;34m(name, python_func, args, kwargs, signature, func_graph, autograph, autograph_options, add_control_dependencies, arg_names, op_return_value, collections, capture_by_value, create_placeholders, acd_record_initial_resource_uses)\u001b[0m\n\u001b[1;32m   1212\u001b[0m         \u001b[0m_\u001b[0m\u001b[0;34m,\u001b[0m \u001b[0moriginal_func\u001b[0m \u001b[0;34m=\u001b[0m \u001b[0mtf_decorator\u001b[0m\u001b[0;34m.\u001b[0m\u001b[0munwrap\u001b[0m\u001b[0;34m(\u001b[0m\u001b[0mpython_func\u001b[0m\u001b[0;34m)\u001b[0m\u001b[0;34m\u001b[0m\u001b[0;34m\u001b[0m\u001b[0m\n\u001b[1;32m   1213\u001b[0m \u001b[0;34m\u001b[0m\u001b[0m\n\u001b[0;32m-> 1214\u001b[0;31m       \u001b[0mfunc_outputs\u001b[0m \u001b[0;34m=\u001b[0m \u001b[0mpython_func\u001b[0m\u001b[0;34m(\u001b[0m\u001b[0;34m*\u001b[0m\u001b[0mfunc_args\u001b[0m\u001b[0;34m,\u001b[0m \u001b[0;34m**\u001b[0m\u001b[0mfunc_kwargs\u001b[0m\u001b[0;34m)\u001b[0m\u001b[0;34m\u001b[0m\u001b[0;34m\u001b[0m\u001b[0m\n\u001b[0m\u001b[1;32m   1215\u001b[0m \u001b[0;34m\u001b[0m\u001b[0m\n\u001b[1;32m   1216\u001b[0m       \u001b[0;31m# invariant: `func_outputs` contains only Tensors, CompositeTensors,\u001b[0m\u001b[0;34m\u001b[0m\u001b[0;34m\u001b[0m\u001b[0m\n",
            "\u001b[0;32m/usr/local/lib/python3.10/dist-packages/keras/layers/rnn/lstm.py\u001b[0m in \u001b[0;36mgpu_lstm_with_fallback\u001b[0;34m(inputs, init_h, init_c, kernel, recurrent_kernel, bias, mask, time_major, go_backwards, sequence_lengths, zero_output_for_mask, return_sequences)\u001b[0m\n\u001b[1;32m   1287\u001b[0m \u001b[0;34m\u001b[0m\u001b[0m\n\u001b[1;32m   1288\u001b[0m         return tf.__internal__.smart_cond.smart_cond(\n\u001b[0;32m-> 1289\u001b[0;31m             gru_lstm_utils.is_cudnn_supported_inputs(\n\u001b[0m\u001b[1;32m   1290\u001b[0m                 \u001b[0mmask\u001b[0m\u001b[0;34m,\u001b[0m \u001b[0mtime_major\u001b[0m\u001b[0;34m,\u001b[0m \u001b[0msequence_lengths\u001b[0m\u001b[0;34m\u001b[0m\u001b[0;34m\u001b[0m\u001b[0m\n\u001b[1;32m   1291\u001b[0m             ),\n",
            "\u001b[0;32m/usr/local/lib/python3.10/dist-packages/keras/layers/rnn/gru_lstm_utils.py\u001b[0m in \u001b[0;36mis_cudnn_supported_inputs\u001b[0;34m(mask, time_major, sequence_lengths)\u001b[0m\n\u001b[1;32m    187\u001b[0m \u001b[0;34m\u001b[0m\u001b[0m\n\u001b[1;32m    188\u001b[0m     return tf.logical_and(\n\u001b[0;32m--> 189\u001b[0;31m         \u001b[0mis_sequence_right_padded\u001b[0m\u001b[0;34m(\u001b[0m\u001b[0mmask\u001b[0m\u001b[0;34m)\u001b[0m\u001b[0;34m,\u001b[0m\u001b[0;34m\u001b[0m\u001b[0;34m\u001b[0m\u001b[0m\n\u001b[0m\u001b[1;32m    190\u001b[0m         \u001b[0mtf\u001b[0m\u001b[0;34m.\u001b[0m\u001b[0mlogical_not\u001b[0m\u001b[0;34m(\u001b[0m\u001b[0mhas_fully_masked_sequence\u001b[0m\u001b[0;34m(\u001b[0m\u001b[0mmask\u001b[0m\u001b[0;34m)\u001b[0m\u001b[0;34m)\u001b[0m\u001b[0;34m,\u001b[0m\u001b[0;34m\u001b[0m\u001b[0;34m\u001b[0m\u001b[0m\n\u001b[1;32m    191\u001b[0m     )\n",
            "\u001b[0;32m/usr/local/lib/python3.10/dist-packages/keras/layers/rnn/gru_lstm_utils.py\u001b[0m in \u001b[0;36mis_sequence_right_padded\u001b[0;34m(mask)\u001b[0m\n\u001b[1;32m    154\u001b[0m     \"\"\"\n\u001b[1;32m    155\u001b[0m     \u001b[0mmax_seq_length\u001b[0m \u001b[0;34m=\u001b[0m \u001b[0mtf\u001b[0m\u001b[0;34m.\u001b[0m\u001b[0mshape\u001b[0m\u001b[0;34m(\u001b[0m\u001b[0mmask\u001b[0m\u001b[0;34m)\u001b[0m\u001b[0;34m[\u001b[0m\u001b[0;36m1\u001b[0m\u001b[0;34m]\u001b[0m\u001b[0;34m\u001b[0m\u001b[0;34m\u001b[0m\u001b[0m\n\u001b[0;32m--> 156\u001b[0;31m     \u001b[0mcount_of_true\u001b[0m \u001b[0;34m=\u001b[0m \u001b[0mtf\u001b[0m\u001b[0;34m.\u001b[0m\u001b[0mreduce_sum\u001b[0m\u001b[0;34m(\u001b[0m\u001b[0mtf\u001b[0m\u001b[0;34m.\u001b[0m\u001b[0mcast\u001b[0m\u001b[0;34m(\u001b[0m\u001b[0mmask\u001b[0m\u001b[0;34m,\u001b[0m \u001b[0mtf\u001b[0m\u001b[0;34m.\u001b[0m\u001b[0mint32\u001b[0m\u001b[0;34m)\u001b[0m\u001b[0;34m,\u001b[0m \u001b[0maxis\u001b[0m\u001b[0;34m=\u001b[0m\u001b[0;36m1\u001b[0m\u001b[0;34m)\u001b[0m\u001b[0;34m\u001b[0m\u001b[0;34m\u001b[0m\u001b[0m\n\u001b[0m\u001b[1;32m    157\u001b[0m     \u001b[0mright_padded_mask\u001b[0m \u001b[0;34m=\u001b[0m \u001b[0mtf\u001b[0m\u001b[0;34m.\u001b[0m\u001b[0msequence_mask\u001b[0m\u001b[0;34m(\u001b[0m\u001b[0mcount_of_true\u001b[0m\u001b[0;34m,\u001b[0m \u001b[0mmaxlen\u001b[0m\u001b[0;34m=\u001b[0m\u001b[0mmax_seq_length\u001b[0m\u001b[0;34m)\u001b[0m\u001b[0;34m\u001b[0m\u001b[0;34m\u001b[0m\u001b[0m\n\u001b[1;32m    158\u001b[0m     \u001b[0;32mreturn\u001b[0m \u001b[0mtf\u001b[0m\u001b[0;34m.\u001b[0m\u001b[0mreduce_all\u001b[0m\u001b[0;34m(\u001b[0m\u001b[0mtf\u001b[0m\u001b[0;34m.\u001b[0m\u001b[0mequal\u001b[0m\u001b[0;34m(\u001b[0m\u001b[0mmask\u001b[0m\u001b[0;34m,\u001b[0m \u001b[0mright_padded_mask\u001b[0m\u001b[0;34m)\u001b[0m\u001b[0;34m)\u001b[0m\u001b[0;34m\u001b[0m\u001b[0;34m\u001b[0m\u001b[0m\n",
            "\u001b[0;32m/usr/local/lib/python3.10/dist-packages/tensorflow/python/util/traceback_utils.py\u001b[0m in \u001b[0;36merror_handler\u001b[0;34m(*args, **kwargs)\u001b[0m\n\u001b[1;32m    148\u001b[0m     \u001b[0mfiltered_tb\u001b[0m \u001b[0;34m=\u001b[0m \u001b[0;32mNone\u001b[0m\u001b[0;34m\u001b[0m\u001b[0;34m\u001b[0m\u001b[0m\n\u001b[1;32m    149\u001b[0m     \u001b[0;32mtry\u001b[0m\u001b[0;34m:\u001b[0m\u001b[0;34m\u001b[0m\u001b[0;34m\u001b[0m\u001b[0m\n\u001b[0;32m--> 150\u001b[0;31m       \u001b[0;32mreturn\u001b[0m \u001b[0mfn\u001b[0m\u001b[0;34m(\u001b[0m\u001b[0;34m*\u001b[0m\u001b[0margs\u001b[0m\u001b[0;34m,\u001b[0m \u001b[0;34m**\u001b[0m\u001b[0mkwargs\u001b[0m\u001b[0;34m)\u001b[0m\u001b[0;34m\u001b[0m\u001b[0;34m\u001b[0m\u001b[0m\n\u001b[0m\u001b[1;32m    151\u001b[0m     \u001b[0;32mexcept\u001b[0m \u001b[0mException\u001b[0m \u001b[0;32mas\u001b[0m \u001b[0me\u001b[0m\u001b[0;34m:\u001b[0m\u001b[0;34m\u001b[0m\u001b[0;34m\u001b[0m\u001b[0m\n\u001b[1;32m    152\u001b[0m       \u001b[0mfiltered_tb\u001b[0m \u001b[0;34m=\u001b[0m \u001b[0m_process_traceback_frames\u001b[0m\u001b[0;34m(\u001b[0m\u001b[0me\u001b[0m\u001b[0;34m.\u001b[0m\u001b[0m__traceback__\u001b[0m\u001b[0;34m)\u001b[0m\u001b[0;34m\u001b[0m\u001b[0;34m\u001b[0m\u001b[0m\n",
            "\u001b[0;32m/usr/local/lib/python3.10/dist-packages/tensorflow/python/util/dispatch.py\u001b[0m in \u001b[0;36mop_dispatch_handler\u001b[0;34m(*args, **kwargs)\u001b[0m\n\u001b[1;32m   1174\u001b[0m       \u001b[0;31m# Fallback dispatch system (dispatch v1):\u001b[0m\u001b[0;34m\u001b[0m\u001b[0;34m\u001b[0m\u001b[0m\n\u001b[1;32m   1175\u001b[0m       \u001b[0;32mtry\u001b[0m\u001b[0;34m:\u001b[0m\u001b[0;34m\u001b[0m\u001b[0;34m\u001b[0m\u001b[0m\n\u001b[0;32m-> 1176\u001b[0;31m         \u001b[0;32mreturn\u001b[0m \u001b[0mdispatch_target\u001b[0m\u001b[0;34m(\u001b[0m\u001b[0;34m*\u001b[0m\u001b[0margs\u001b[0m\u001b[0;34m,\u001b[0m \u001b[0;34m**\u001b[0m\u001b[0mkwargs\u001b[0m\u001b[0;34m)\u001b[0m\u001b[0;34m\u001b[0m\u001b[0;34m\u001b[0m\u001b[0m\n\u001b[0m\u001b[1;32m   1177\u001b[0m       \u001b[0;32mexcept\u001b[0m \u001b[0;34m(\u001b[0m\u001b[0mTypeError\u001b[0m\u001b[0;34m,\u001b[0m \u001b[0mValueError\u001b[0m\u001b[0;34m)\u001b[0m\u001b[0;34m:\u001b[0m\u001b[0;34m\u001b[0m\u001b[0;34m\u001b[0m\u001b[0m\n\u001b[1;32m   1178\u001b[0m         \u001b[0;31m# Note: convert_to_eager_tensor currently raises a ValueError, not a\u001b[0m\u001b[0;34m\u001b[0m\u001b[0;34m\u001b[0m\u001b[0m\n",
            "\u001b[0;32m/usr/local/lib/python3.10/dist-packages/tensorflow/python/ops/math_ops.py\u001b[0m in \u001b[0;36mreduce_sum\u001b[0;34m(input_tensor, axis, keepdims, name)\u001b[0m\n\u001b[1;32m   2362\u001b[0m   \"\"\"\n\u001b[1;32m   2363\u001b[0m \u001b[0;34m\u001b[0m\u001b[0m\n\u001b[0;32m-> 2364\u001b[0;31m   return reduce_sum_with_dims(input_tensor, axis, keepdims, name,\n\u001b[0m\u001b[1;32m   2365\u001b[0m                               _ReductionDims(input_tensor, axis))\n\u001b[1;32m   2366\u001b[0m \u001b[0;34m\u001b[0m\u001b[0m\n",
            "\u001b[0;32m/usr/local/lib/python3.10/dist-packages/tensorflow/python/ops/math_ops.py\u001b[0m in \u001b[0;36mreduce_sum_with_dims\u001b[0;34m(input_tensor, axis, keepdims, name, dims)\u001b[0m\n\u001b[1;32m   2374\u001b[0m   return _may_reduce_to_scalar(\n\u001b[1;32m   2375\u001b[0m       \u001b[0mkeepdims\u001b[0m\u001b[0;34m,\u001b[0m \u001b[0maxis\u001b[0m\u001b[0;34m,\u001b[0m\u001b[0;34m\u001b[0m\u001b[0;34m\u001b[0m\u001b[0m\n\u001b[0;32m-> 2376\u001b[0;31m       gen_math_ops._sum(input_tensor, dims, keepdims, name=name))\n\u001b[0m\u001b[1;32m   2377\u001b[0m \u001b[0;34m\u001b[0m\u001b[0m\n\u001b[1;32m   2378\u001b[0m \u001b[0;34m\u001b[0m\u001b[0m\n",
            "\u001b[0;32m/usr/local/lib/python3.10/dist-packages/tensorflow/python/ops/gen_math_ops.py\u001b[0m in \u001b[0;36m_sum\u001b[0;34m(input, axis, keep_dims, name)\u001b[0m\n\u001b[1;32m  11422\u001b[0m     \u001b[0mkeep_dims\u001b[0m \u001b[0;34m=\u001b[0m \u001b[0;32mFalse\u001b[0m\u001b[0;34m\u001b[0m\u001b[0;34m\u001b[0m\u001b[0m\n\u001b[1;32m  11423\u001b[0m   \u001b[0mkeep_dims\u001b[0m \u001b[0;34m=\u001b[0m \u001b[0m_execute\u001b[0m\u001b[0;34m.\u001b[0m\u001b[0mmake_bool\u001b[0m\u001b[0;34m(\u001b[0m\u001b[0mkeep_dims\u001b[0m\u001b[0;34m,\u001b[0m \u001b[0;34m\"keep_dims\"\u001b[0m\u001b[0;34m)\u001b[0m\u001b[0;34m\u001b[0m\u001b[0;34m\u001b[0m\u001b[0m\n\u001b[0;32m> 11424\u001b[0;31m   _, _, _op, _outputs = _op_def_library._apply_op_helper(\n\u001b[0m\u001b[1;32m  11425\u001b[0m         \u001b[0;34m\"Sum\"\u001b[0m\u001b[0;34m,\u001b[0m \u001b[0minput\u001b[0m\u001b[0;34m=\u001b[0m\u001b[0minput\u001b[0m\u001b[0;34m,\u001b[0m \u001b[0mreduction_indices\u001b[0m\u001b[0;34m=\u001b[0m\u001b[0maxis\u001b[0m\u001b[0;34m,\u001b[0m \u001b[0mkeep_dims\u001b[0m\u001b[0;34m=\u001b[0m\u001b[0mkeep_dims\u001b[0m\u001b[0;34m,\u001b[0m\u001b[0;34m\u001b[0m\u001b[0;34m\u001b[0m\u001b[0m\n\u001b[1;32m  11426\u001b[0m                name=name)\n",
            "\u001b[0;32m/usr/local/lib/python3.10/dist-packages/tensorflow/python/framework/op_def_library.py\u001b[0m in \u001b[0;36m_apply_op_helper\u001b[0;34m(op_type_name, name, **keywords)\u001b[0m\n\u001b[1;32m    793\u001b[0m       \u001b[0;31m# Add Op to graph\u001b[0m\u001b[0;34m\u001b[0m\u001b[0;34m\u001b[0m\u001b[0m\n\u001b[1;32m    794\u001b[0m       \u001b[0;31m# pylint: disable=protected-access\u001b[0m\u001b[0;34m\u001b[0m\u001b[0;34m\u001b[0m\u001b[0m\n\u001b[0;32m--> 795\u001b[0;31m       op = g._create_op_internal(op_type_name, inputs, dtypes=None,\n\u001b[0m\u001b[1;32m    796\u001b[0m                                  \u001b[0mname\u001b[0m\u001b[0;34m=\u001b[0m\u001b[0mscope\u001b[0m\u001b[0;34m,\u001b[0m \u001b[0minput_types\u001b[0m\u001b[0;34m=\u001b[0m\u001b[0minput_types\u001b[0m\u001b[0;34m,\u001b[0m\u001b[0;34m\u001b[0m\u001b[0;34m\u001b[0m\u001b[0m\n\u001b[1;32m    797\u001b[0m                                  attrs=attr_protos, op_def=op_def)\n",
            "\u001b[0;32m/usr/local/lib/python3.10/dist-packages/tensorflow/python/framework/func_graph.py\u001b[0m in \u001b[0;36m_create_op_internal\u001b[0;34m(self, op_type, inputs, dtypes, input_types, name, attrs, op_def, compute_device)\u001b[0m\n\u001b[1;32m    705\u001b[0m       \u001b[0minp\u001b[0m \u001b[0;34m=\u001b[0m \u001b[0mself\u001b[0m\u001b[0;34m.\u001b[0m\u001b[0mcapture\u001b[0m\u001b[0;34m(\u001b[0m\u001b[0minp\u001b[0m\u001b[0;34m)\u001b[0m\u001b[0;34m\u001b[0m\u001b[0;34m\u001b[0m\u001b[0m\n\u001b[1;32m    706\u001b[0m       \u001b[0mcaptured_inputs\u001b[0m\u001b[0;34m.\u001b[0m\u001b[0mappend\u001b[0m\u001b[0;34m(\u001b[0m\u001b[0minp\u001b[0m\u001b[0;34m)\u001b[0m\u001b[0;34m\u001b[0m\u001b[0;34m\u001b[0m\u001b[0m\n\u001b[0;32m--> 707\u001b[0;31m     return super()._create_op_internal(  # pylint: disable=protected-access\n\u001b[0m\u001b[1;32m    708\u001b[0m         \u001b[0mop_type\u001b[0m\u001b[0;34m,\u001b[0m \u001b[0mcaptured_inputs\u001b[0m\u001b[0;34m,\u001b[0m \u001b[0mdtypes\u001b[0m\u001b[0;34m,\u001b[0m \u001b[0minput_types\u001b[0m\u001b[0;34m,\u001b[0m \u001b[0mname\u001b[0m\u001b[0;34m,\u001b[0m \u001b[0mattrs\u001b[0m\u001b[0;34m,\u001b[0m \u001b[0mop_def\u001b[0m\u001b[0;34m,\u001b[0m\u001b[0;34m\u001b[0m\u001b[0;34m\u001b[0m\u001b[0m\n\u001b[1;32m    709\u001b[0m         compute_device)\n",
            "\u001b[0;32m/usr/local/lib/python3.10/dist-packages/tensorflow/python/framework/ops.py\u001b[0m in \u001b[0;36m_create_op_internal\u001b[0;34m(self, op_type, inputs, dtypes, input_types, name, attrs, op_def, compute_device)\u001b[0m\n\u001b[1;32m   3812\u001b[0m     \u001b[0;31m# Session.run call cannot occur between creating and mutating the op.\u001b[0m\u001b[0;34m\u001b[0m\u001b[0;34m\u001b[0m\u001b[0m\n\u001b[1;32m   3813\u001b[0m     \u001b[0;32mwith\u001b[0m \u001b[0mself\u001b[0m\u001b[0;34m.\u001b[0m\u001b[0m_mutation_lock\u001b[0m\u001b[0;34m(\u001b[0m\u001b[0;34m)\u001b[0m\u001b[0;34m:\u001b[0m\u001b[0;34m\u001b[0m\u001b[0;34m\u001b[0m\u001b[0m\n\u001b[0;32m-> 3814\u001b[0;31m       ret = Operation(\n\u001b[0m\u001b[1;32m   3815\u001b[0m           \u001b[0mnode_def\u001b[0m\u001b[0;34m,\u001b[0m\u001b[0;34m\u001b[0m\u001b[0;34m\u001b[0m\u001b[0m\n\u001b[1;32m   3816\u001b[0m           \u001b[0mself\u001b[0m\u001b[0;34m,\u001b[0m\u001b[0;34m\u001b[0m\u001b[0;34m\u001b[0m\u001b[0m\n",
            "\u001b[0;32m/usr/local/lib/python3.10/dist-packages/tensorflow/python/framework/ops.py\u001b[0m in \u001b[0;36m__init__\u001b[0;34m(***failed resolving arguments***)\u001b[0m\n\u001b[1;32m   2111\u001b[0m     \u001b[0;31m# Initialize c_op from node_def and other inputs\u001b[0m\u001b[0;34m\u001b[0m\u001b[0;34m\u001b[0m\u001b[0m\n\u001b[1;32m   2112\u001b[0m     \u001b[0mc_op\u001b[0m \u001b[0;34m=\u001b[0m \u001b[0m_create_c_op\u001b[0m\u001b[0;34m(\u001b[0m\u001b[0mg\u001b[0m\u001b[0;34m,\u001b[0m \u001b[0mnode_def\u001b[0m\u001b[0;34m,\u001b[0m \u001b[0minputs\u001b[0m\u001b[0;34m,\u001b[0m \u001b[0mcontrol_input_ops\u001b[0m\u001b[0;34m,\u001b[0m \u001b[0mop_def\u001b[0m\u001b[0;34m=\u001b[0m\u001b[0mop_def\u001b[0m\u001b[0;34m)\u001b[0m\u001b[0;34m\u001b[0m\u001b[0;34m\u001b[0m\u001b[0m\n\u001b[0;32m-> 2113\u001b[0;31m     \u001b[0mself\u001b[0m\u001b[0;34m.\u001b[0m\u001b[0m_init_from_c_op\u001b[0m\u001b[0;34m(\u001b[0m\u001b[0mc_op\u001b[0m\u001b[0;34m=\u001b[0m\u001b[0mc_op\u001b[0m\u001b[0;34m,\u001b[0m \u001b[0mg\u001b[0m\u001b[0;34m=\u001b[0m\u001b[0mg\u001b[0m\u001b[0;34m)\u001b[0m\u001b[0;34m\u001b[0m\u001b[0;34m\u001b[0m\u001b[0m\n\u001b[0m\u001b[1;32m   2114\u001b[0m \u001b[0;34m\u001b[0m\u001b[0m\n\u001b[1;32m   2115\u001b[0m     \u001b[0mself\u001b[0m\u001b[0;34m.\u001b[0m\u001b[0m_original_op\u001b[0m \u001b[0;34m=\u001b[0m \u001b[0moriginal_op\u001b[0m\u001b[0;34m\u001b[0m\u001b[0;34m\u001b[0m\u001b[0m\n",
            "\u001b[0;32m/usr/local/lib/python3.10/dist-packages/tensorflow/python/framework/ops.py\u001b[0m in \u001b[0;36m_init_from_c_op\u001b[0;34m(self, c_op, g)\u001b[0m\n\u001b[1;32m   2177\u001b[0m     \u001b[0mself\u001b[0m\u001b[0;34m.\u001b[0m\u001b[0m_gradient_function\u001b[0m \u001b[0;34m=\u001b[0m \u001b[0;32mNone\u001b[0m\u001b[0;34m\u001b[0m\u001b[0;34m\u001b[0m\u001b[0m\n\u001b[1;32m   2178\u001b[0m \u001b[0;34m\u001b[0m\u001b[0m\n\u001b[0;32m-> 2179\u001b[0;31m     \u001b[0mop_def\u001b[0m \u001b[0;34m=\u001b[0m \u001b[0mg\u001b[0m\u001b[0;34m.\u001b[0m\u001b[0m_get_op_def\u001b[0m\u001b[0;34m(\u001b[0m\u001b[0mpywrap_tf_session\u001b[0m\u001b[0;34m.\u001b[0m\u001b[0mTF_OperationOpType\u001b[0m\u001b[0;34m(\u001b[0m\u001b[0mc_op\u001b[0m\u001b[0;34m)\u001b[0m\u001b[0;34m)\u001b[0m  \u001b[0;31m# pylint: disable=protected-access\u001b[0m\u001b[0;34m\u001b[0m\u001b[0;34m\u001b[0m\u001b[0m\n\u001b[0m\u001b[1;32m   2180\u001b[0m \u001b[0;34m\u001b[0m\u001b[0m\n\u001b[1;32m   2181\u001b[0m     \u001b[0mself\u001b[0m\u001b[0;34m.\u001b[0m\u001b[0m_is_stateful\u001b[0m \u001b[0;34m=\u001b[0m \u001b[0mop_def\u001b[0m\u001b[0;34m.\u001b[0m\u001b[0mis_stateful\u001b[0m\u001b[0;34m\u001b[0m\u001b[0;34m\u001b[0m\u001b[0m\n",
            "\u001b[0;32m/usr/local/lib/python3.10/dist-packages/tensorflow/python/framework/ops.py\u001b[0m in \u001b[0;36m_get_op_def\u001b[0;34m(self, type)\u001b[0m\n\u001b[1;32m   4215\u001b[0m       \u001b[0;32mreturn\u001b[0m \u001b[0mself\u001b[0m\u001b[0;34m.\u001b[0m\u001b[0m_op_def_cache\u001b[0m\u001b[0;34m[\u001b[0m\u001b[0mtype\u001b[0m\u001b[0;34m]\u001b[0m\u001b[0;34m\u001b[0m\u001b[0;34m\u001b[0m\u001b[0m\n\u001b[1;32m   4216\u001b[0m     \u001b[0;32mexcept\u001b[0m \u001b[0mKeyError\u001b[0m\u001b[0;34m:\u001b[0m\u001b[0;34m\u001b[0m\u001b[0;34m\u001b[0m\u001b[0m\n\u001b[0;32m-> 4217\u001b[0;31m       \u001b[0;32mwith\u001b[0m \u001b[0mc_api_util\u001b[0m\u001b[0;34m.\u001b[0m\u001b[0mtf_buffer\u001b[0m\u001b[0;34m(\u001b[0m\u001b[0;34m)\u001b[0m \u001b[0;32mas\u001b[0m \u001b[0mbuf\u001b[0m\u001b[0;34m:\u001b[0m\u001b[0;34m\u001b[0m\u001b[0;34m\u001b[0m\u001b[0m\n\u001b[0m\u001b[1;32m   4218\u001b[0m         \u001b[0;32mwith\u001b[0m \u001b[0mself\u001b[0m\u001b[0;34m.\u001b[0m\u001b[0m_c_graph\u001b[0m\u001b[0;34m.\u001b[0m\u001b[0mget\u001b[0m\u001b[0;34m(\u001b[0m\u001b[0;34m)\u001b[0m \u001b[0;32mas\u001b[0m \u001b[0mc_graph\u001b[0m\u001b[0;34m:\u001b[0m\u001b[0;34m\u001b[0m\u001b[0;34m\u001b[0m\u001b[0m\n\u001b[1;32m   4219\u001b[0m           pywrap_tf_session.TF_GraphGetOpDef(c_graph, compat.as_bytes(type),\n",
            "\u001b[0;32m/usr/lib/python3.10/contextlib.py\u001b[0m in \u001b[0;36mhelper\u001b[0;34m(*args, **kwds)\u001b[0m\n\u001b[1;32m    279\u001b[0m     \u001b[0;34m@\u001b[0m\u001b[0mwraps\u001b[0m\u001b[0;34m(\u001b[0m\u001b[0mfunc\u001b[0m\u001b[0;34m)\u001b[0m\u001b[0;34m\u001b[0m\u001b[0;34m\u001b[0m\u001b[0m\n\u001b[1;32m    280\u001b[0m     \u001b[0;32mdef\u001b[0m \u001b[0mhelper\u001b[0m\u001b[0;34m(\u001b[0m\u001b[0;34m*\u001b[0m\u001b[0margs\u001b[0m\u001b[0;34m,\u001b[0m \u001b[0;34m**\u001b[0m\u001b[0mkwds\u001b[0m\u001b[0;34m)\u001b[0m\u001b[0;34m:\u001b[0m\u001b[0;34m\u001b[0m\u001b[0;34m\u001b[0m\u001b[0m\n\u001b[0;32m--> 281\u001b[0;31m         \u001b[0;32mreturn\u001b[0m \u001b[0m_GeneratorContextManager\u001b[0m\u001b[0;34m(\u001b[0m\u001b[0mfunc\u001b[0m\u001b[0;34m,\u001b[0m \u001b[0margs\u001b[0m\u001b[0;34m,\u001b[0m \u001b[0mkwds\u001b[0m\u001b[0;34m)\u001b[0m\u001b[0;34m\u001b[0m\u001b[0;34m\u001b[0m\u001b[0m\n\u001b[0m\u001b[1;32m    282\u001b[0m     \u001b[0;32mreturn\u001b[0m \u001b[0mhelper\u001b[0m\u001b[0;34m\u001b[0m\u001b[0;34m\u001b[0m\u001b[0m\n\u001b[1;32m    283\u001b[0m \u001b[0;34m\u001b[0m\u001b[0m\n",
            "\u001b[0;32m/usr/lib/python3.10/contextlib.py\u001b[0m in \u001b[0;36m__init__\u001b[0;34m(self, func, args, kwds)\u001b[0m\n\u001b[1;32m    104\u001b[0m         \u001b[0mself\u001b[0m\u001b[0;34m.\u001b[0m\u001b[0mfunc\u001b[0m\u001b[0;34m,\u001b[0m \u001b[0mself\u001b[0m\u001b[0;34m.\u001b[0m\u001b[0margs\u001b[0m\u001b[0;34m,\u001b[0m \u001b[0mself\u001b[0m\u001b[0;34m.\u001b[0m\u001b[0mkwds\u001b[0m \u001b[0;34m=\u001b[0m \u001b[0mfunc\u001b[0m\u001b[0;34m,\u001b[0m \u001b[0margs\u001b[0m\u001b[0;34m,\u001b[0m \u001b[0mkwds\u001b[0m\u001b[0;34m\u001b[0m\u001b[0;34m\u001b[0m\u001b[0m\n\u001b[1;32m    105\u001b[0m         \u001b[0;31m# Issue 19330: ensure context manager instances have good docstrings\u001b[0m\u001b[0;34m\u001b[0m\u001b[0;34m\u001b[0m\u001b[0m\n\u001b[0;32m--> 106\u001b[0;31m         \u001b[0mdoc\u001b[0m \u001b[0;34m=\u001b[0m \u001b[0mgetattr\u001b[0m\u001b[0;34m(\u001b[0m\u001b[0mfunc\u001b[0m\u001b[0;34m,\u001b[0m \u001b[0;34m\"__doc__\"\u001b[0m\u001b[0;34m,\u001b[0m \u001b[0;32mNone\u001b[0m\u001b[0;34m)\u001b[0m\u001b[0;34m\u001b[0m\u001b[0;34m\u001b[0m\u001b[0m\n\u001b[0m\u001b[1;32m    107\u001b[0m         \u001b[0;32mif\u001b[0m \u001b[0mdoc\u001b[0m \u001b[0;32mis\u001b[0m \u001b[0;32mNone\u001b[0m\u001b[0;34m:\u001b[0m\u001b[0;34m\u001b[0m\u001b[0;34m\u001b[0m\u001b[0m\n\u001b[1;32m    108\u001b[0m             \u001b[0mdoc\u001b[0m \u001b[0;34m=\u001b[0m \u001b[0mtype\u001b[0m\u001b[0;34m(\u001b[0m\u001b[0mself\u001b[0m\u001b[0;34m)\u001b[0m\u001b[0;34m.\u001b[0m\u001b[0m__doc__\u001b[0m\u001b[0;34m\u001b[0m\u001b[0;34m\u001b[0m\u001b[0m\n",
            "\u001b[0;31mKeyboardInterrupt\u001b[0m: "
          ]
        }
      ]
    },
    {
      "cell_type": "code",
      "source": [],
      "metadata": {
        "id": "iFLExz6G1CGw"
      },
      "execution_count": null,
      "outputs": []
    },
    {
      "cell_type": "code",
      "source": [
        "model.save('/content/my_model_reverse.h5')"
      ],
      "metadata": {
        "id": "OFwka0fteczJ"
      },
      "execution_count": null,
      "outputs": []
    },
    {
      "cell_type": "code",
      "source": [
        "!pip install hangul_utils"
      ],
      "metadata": {
        "colab": {
          "base_uri": "https://localhost:8080/"
        },
        "id": "tLd0PZXhbnD3",
        "outputId": "e1806189-8f24-46f3-f0c4-9176e3979864"
      },
      "execution_count": null,
      "outputs": [
        {
          "output_type": "stream",
          "name": "stdout",
          "text": [
            "Collecting hangul_utils\n",
            "  Downloading hangul_utils-0.4.5-py3-none-any.whl (20 kB)\n",
            "Requirement already satisfied: tqdm in /usr/local/lib/python3.10/dist-packages (from hangul_utils) (4.66.1)\n",
            "Requirement already satisfied: six in /usr/local/lib/python3.10/dist-packages (from hangul_utils) (1.16.0)\n",
            "INFO: pip is looking at multiple versions of hangul-utils to determine which version is compatible with other requirements. This could take a while.\n",
            "  Downloading hangul_utils-0.4.4-py3-none-any.whl (20 kB)\n",
            "  Downloading hangul_utils-0.4.3-py3-none-any.whl (20 kB)\n",
            "  Downloading hangul_utils-0.4.2-py3-none-any.whl (20 kB)\n",
            "  Downloading hangul_utils-0.4.1-py3-none-any.whl (20 kB)\n",
            "  Downloading hangul_utils-0.4-py3-none-any.whl (20 kB)\n",
            "  Downloading hangul-utils-0.3.0.tar.gz (4.3 kB)\n",
            "  \u001b[1;31merror\u001b[0m: \u001b[1msubprocess-exited-with-error\u001b[0m\n",
            "  \n",
            "  \u001b[31m×\u001b[0m \u001b[32mpython setup.py egg_info\u001b[0m did not run successfully.\n",
            "  \u001b[31m│\u001b[0m exit code: \u001b[1;36m1\u001b[0m\n",
            "  \u001b[31m╰─>\u001b[0m See above for output.\n",
            "  \n",
            "  \u001b[1;35mnote\u001b[0m: This error originates from a subprocess, and is likely not a problem with pip.\n",
            "  Preparing metadata (setup.py) ... \u001b[?25l\u001b[?25herror\n",
            "\u001b[1;31merror\u001b[0m: \u001b[1mmetadata-generation-failed\u001b[0m\n",
            "\n",
            "\u001b[31m×\u001b[0m Encountered error while generating package metadata.\n",
            "\u001b[31m╰─>\u001b[0m See above for output.\n",
            "\n",
            "\u001b[1;35mnote\u001b[0m: This is an issue with the package mentioned above, not pip.\n",
            "\u001b[1;36mhint\u001b[0m: See above for details.\n"
          ]
        }
      ]
    },
    {
      "cell_type": "code",
      "source": [
        "# 모델 로드\n",
        "model = tf.keras.models.load_model(\"/content/my_model_reverse.h5\")\n",
        "\n"
      ],
      "metadata": {
        "id": "DvpCKmfTezwn"
      },
      "execution_count": null,
      "outputs": []
    },
    {
      "cell_type": "code",
      "source": [
        "import numpy as np\n",
        "def eng2idx(str1):\n",
        "  str2idx = [char for char in str1]\n",
        "  str2idx1 = [english2idx[char] for char in str2idx]\n",
        "  while len(str2idx1) < max_len_src:\n",
        "    str2idx1.append(0)\n",
        "\n",
        "  return [str2idx1]\n",
        "\n",
        "from keras.models import load_model\n",
        "\n",
        "def one_hot2idx(model, str):\n",
        "  predic = model.predict(eng2idx(str))\n",
        "  predic_char = predic[0][0]\n",
        "  _idx2korean = []\n",
        "  for idx, val in enumerate(predic[0]):\n",
        "    max_index = np.argmax(val)\n",
        "    _idx2korean.append(max_index)\n",
        "\n",
        "  idx2korean_ = [idx2korean[idx] for idx in _idx2korean if idx != 0]\n",
        "\n",
        "  return idx2korean_\n",
        "print(one_hot2idx(model, \"twice\"))"
      ],
      "metadata": {
        "colab": {
          "base_uri": "https://localhost:8080/"
        },
        "id": "qc31--51btrx",
        "outputId": "7b3f14ea-3dca-4f35-c79b-068a97ee3fec"
      },
      "execution_count": null,
      "outputs": [
        {
          "output_type": "stream",
          "name": "stdout",
          "text": [
            "1/1 [==============================] - 0s 42ms/step\n",
            "['에', '키', '트']\n"
          ]
        }
      ]
    },
    {
      "cell_type": "code",
      "source": [
        "file_path = \"/content/eng_source_alpha.txt\"  # 실제 파일 경로로 바꿔주세요\n",
        "lines = []\n",
        "\n",
        "try:\n",
        "    with open(file_path, \"r\", encoding=\"utf-8\") as file:\n",
        "        lines = [line.strip() for line in file.readlines()]\n",
        "except FileNotFoundError:\n",
        "    print(\"파일을 찾을 수 없습니다.\")\n",
        "except Exception as e:\n",
        "    print(\"오류가 발생했습니다:\", e)\n",
        "\n",
        "print(lines)\n",
        "\n"
      ],
      "metadata": {
        "colab": {
          "base_uri": "https://localhost:8080/"
        },
        "id": "UL2AJZo-AKom",
        "outputId": "7fbe8d42-1b90-4e81-c8ae-579bd3081656"
      },
      "execution_count": null,
      "outputs": [
        {
          "output_type": "stream",
          "name": "stdout",
          "text": [
            "['G', 'IOT', 'N', 'S', 'PC', 'SNS', 'KT', 'PD', 'PD', 'A', 'C', 'SF', 'KT', 'MBCFM', 'LG', 'IQ', 'USB', 'USB', 'C', 'KT', 'b', 'KBN', 'KT', 'LG', 'UFO', 'MC', 'c', 'kt', 'kt', 'KT', 'A', 'KT', 'KT', 'KT', 'DJ', 'DC', 'G', 'KT', 'N', 'KT', 'KT', 'KT', 'MBCFM', 'CGV', 'Classic', 'SIGNAL', 'CCM', 'TT', 'MBC', 'FM', 'SHE', 'A', 'Artist', 'FM', 'NEVER', 'LOVE', 'Rookie', 'BOMB', 'FM', 'Ko', 'Ko', 'Bop', 'FIVE', 'Marry', 'Me', 'MBC', 'UFC', 'Hello', 'EDM', 'J', 'E', 'FUTURE', 'qt', 'UCC', 'CCTV', 'KT', 'UN', 'EC', 'A', 'X', 'Y', 'TF', 'WTO', 'RMD', 'EC', 'A', 'S', 'MLB', 'CEO', 'COO', 'FX', 'IFOEXA', 'BC', 'KBO', 'MBC', 'KBO', 'WCDMA', 'GM', 'SM', 'YG', 'XP', 'NPT', 'CSI', 'NPT', 'SK', 'FBI', 'CIA', 'SKLG', 'WTO', 'CJ', 'WTO', 'CIA', 'FTA', 'FTA', 'SK', 'FTA', 'CT', 'MRI', 'PC', 'RSA', 'DSVD', 'TCI', 'GM', 'PC', 'PC', 'MS', 'PC', 'TI', 'X', 'IQ', 'LA', 'NGO', 'FBI', 'IT', 'BJ', 'USB', 'CD', 'PC', 'MIT', 'OLAP', 'AMR', 'TPO', 'KTX', 'LA', 'H', 'K', 'L', 'LSI', 'Q', 'V', 'yui', 'GM', 'E', 'UA', 'UA', 'CDU', 'EU', 'M', 'SW', 'EU', 'PC', 'UCLA', 'NCC', 'GE', 'IQ', 'EQ', 'CEO', 'CEO', 'NGO', 'NGO', 'AP', 'C', 'EU', 'EU', 'EU', 'SK', 'ARS', 'ARS', 'M', 'EU', 'WTO', 'OCO', 'MBA', 'FDX', 'MI', 'CPUC', 'NGO', 'NGO', 'TDLAN', 'EU', 'CNN', 'EU', 'DJ', 'WBEE', 'LG', 'LG', 'CIA', 'SR', 'CR', 'FTC', 'AOL', 'ASEM', 'LG', 'IMF', 'eo', 'VIP', 'UPI', 'NATO', 'SK', 'A', 'MBN', 'MBC', 'H', 'OIC', 'NBC', 'NBC', 'KCC', 'SK', 'SUVURV', 'GMS', 'PCCW', 'PCCW', 'HKT', 'TTRS', 'TTRS', 'CLSA', 'UFJ', 'A', 'MBC', 'PHMG', 'A', 'SK', 'KT', 'KT', 'SKTLG', 'NC', 'GPI', 'SK', 'EU', 'EU', 'EU', 'NLL', 'NHK', 'EU', 'FC', 'FC', 'CFETS', 'B', 'EU', 'EJ', 'FARC', 'SDI', 'MVP', 'PR', 'PR', 'NAO', 'OIT', 'OIT', 'CIA', 'MOU', 'UFO', 'LG', 'OST', 'EDM', 'MC', 'SBS', 'NH', 'A', 'AC', 'SBS', 'TF', 'UNWTO', 'MOU', 'ADL', 'A', 'S', 'SK', 'SK', 'ISU', 'N', 'S', 'OST', 'KCNA', 'SK', 'MVRDV', 'ISS', 'EU', 'NH', 'NHL', 'CEO', 'DKSH', 'C', 'C', 'KBS', 'NC', 'FC', 'PSD', 'FA', 'US', 'SCI', 'A', 'BMW', 'IBM', 'K', 'A', 'CEO', 'K', 'IBM', 'B', 'IC', 'KBS', 'A', 'LTE', 'A', 'PC', 'A', 'CEO', 'E', 'SBS', 'KT', 'MMORPG', 'YWCA', 'SUV', 'MBC', 'T', 'VR', 'FBI', 'UN', 'UN', 'AI', 'SK', 'USA', 'SBSFM', 'FM', 'FC', 'A', 'MBC', 'A', 'KBO', 'OCN', 'A', 'MBC', 'FC', 'A', 'MBC', 'Q', 'YNB', 'UN', 'IS', 'BMW', 'DB', 'AI', 'A', 'A', 'GMT', 'VVT', 'EPA', 'USFWS', 'YTN', 'AAIB', 'AP', 'A', 'C', 'A', 'A', 'A', 'A', 'B', 'B', 'A', 'A', 'CJ', 'FT', 'KTX', 'SRT', 'K', 'LG', 'MBC', 'MBC', 'PD', 'PD', 'NPR', 'NYT', 'NYT', 'PC', 'SCMP', 'SK', 'SNS', 'SNS', 'UEFA', 'WTO', 'YS', 'CBS', 'BBC', 'PC', 'C', 'MBC', 'TV', 'KTX', 'SRT', 'KREMAP', 'B', 'PC', 'A', 'IMF', 'A', 'A', 'A', 'NYT', 'D', 'PC', 'IRB', 'A', 'DB', 'XX', 'XX', 'ACP', 'KB', 'MBC', 'A', 'A', 'CBS', 'A', 'SK', 'TV', 'VOC', 'MBC', 'A', 'USCG', 'WTO', 'A', 'B', 'AI', 'PC', 'C', 'IOC', 'A', 'WTO', 'WTO', 'WM', 'TV', 'SPA', 'or', 'A', 'B', 'IRB', 'SBS', 'A', 'A', 'B', 'JTBC', 'Joy', 'LG', 'PE', 'PC', 'PC', 'AI', 'KIST', 'TV', 'PK', 'T', 'KTX', 'KPOP', 'PE', 'KTXSRT', 'LPGA', 'AI', 'KPOP', 'B', 'A', 'A', 'AB', 'TV', 'CCTV', 'A', 'A', 'PC', 'PC', 'PC', 'PC', 'TV', 'RCEP', 'AFP', 'A', 'A', 'A', 'A', 'KIST', 'A', 'B', 'B', 'A', 'A', 'A', 'B', 'C', 'A', 'CCTV', 'CCTV', 'A', 'A', 'B', 'C', 'C', 'A', 'A', 'C', 'DHC', 'DHC', 'FP', 'KIST', 'KT', 'K', 'LA', 'NYT', 'NYT', 'SNS', 'TV', 'TV', 'WSJ', 'X', 'X', 'EU', 'CEACR', 'LPG', 'IT', 'LPG', 'FRB', 'YMCA', 'LPG', 'UMC', 'UTA', 'EU', 'EU', 'BBB', 'MCI', 'IT', 'CPU', 'CE', 'CE', 'CF', 'SK', 'KFC', 'IMIT', 'IMF', 'LPG', 'EU', 'GM', 'CNN', 'MP', 'CBO', 'PC', 'EU', 'M', 'DJ', 'LG', 'IMF', 'IMF', 'AV', 'BBC', 'FCC', 'AT', 'T', 'TWE', 'CD', 'DVD', 'PC', 'RW', 'ERC', 'OECD', 'GE', 'CT', 'DTQ', 'CFO', 'CIO', 'COO', 'CTO', 'CMO', 'CBO', 'CCO', 'CEO', 'MBC', 'LG', 'ED', 'AIG', 'GE', 'OIC', 'OIC', 'P', 'TBJ', 'DMB', 'UN', 'LCD', 'PDP', 'F', 'F', 'F', 'KT', 'NTT', 'LG', 'PGA', 'WCD', 'PC', 'DNA', 'FBI', 'CIA', 'IQ', 'P', 'VR', 'Tip', 'recipe', 'youtube', 'X', 'step', 'OK', 'SNS', 'SNS', 'Ok', 'A', 'OK', 'up', 'C', 'se', 'TV', 'get', 'step', 'SNS', 'B', 'custard', 'custard', 'o', 'Andrew', 'com', 'opp', 'TIP', 'etc', 'CGV', 'tip', 'OK', 'cooking', 'LA', 'UP', 'B', 'OK', 'go', 'go', 'LA', 'T', 'Tip', 'IoT', 'TV', 'TV', 'TV', 'TV', 'TV', 'TV', 'TV', 'TV', 'IoT', 'TV', 'TV', 'HDMI', 'K', 'TV', 'TV', 'TV', 'TV', 'TV', 'UHD', 'OTV', 'UHD', 'TSC', 'IT', 'TV', 'TV', 'TV', 'TV', 'IoT', 'TV', 'TV', 'TV', 'TV', 'TV', 'APIToken', 'TV', 'ID', 'ID', 'SBS', 'FM', 'SBS', 'FM', 'FEBC', 'MBC', 'MBC', 'KBS', 'FM', 'KBS', 'FM', 'BBS', 'USB', 'USB', 'USB', 'KBS', 'BBS', 'BTN', 'TV', 'TV', 'TV', 'TV', 'G', 'ID', 'ID', 'ID', 'ID', 'ID', 'ID', 'TV', 'TV', 'TV', 'G', 'TV', 'AP', 'KBS', 'TBSFM', 'URL', 'TV', 'FN', 'IOT', 'TV', 'G', 'LG', 'YTN', 'CBS', 'TV', 'TV', 'TV', 'TV', 'BBS', 'TV', 'TV', 'TV', 'QR', 'URL', 'PC', 'PC', 'PC', 'CMA', 'ISA', 'VOD', 'VOD', 'PC', 'VOD', 'QR', 'TV', 'TV', 'TV', 'TV', 'TV', 'TV', 'K', 'A', 'TV', 'VOD', 'TV', 'SBS', 'FM', 'TV', 'ufc', 'FFVD', 'FFVD', 'TV', 'PK', 'SK', 'FBI', 'CSI', 'A', 'A', 'FC', 'FC', 'WSJ', 'SUV', 'FC', 'SK', 'CNN', 'A', 'CBS', 'MRLS', 'A', 'FFVD', 'VR', 'BMW', 'HUS', 'FT', 'WP', 'MB', 'LG', 'SK', 'DJ', 'CJ', 'A', 'AR', 'AR', 'ICBM', 'BMW', 'YG', 'YG', 'YG', 'YG', 'SNS', 'MB', 'TV', 'SKY', 'A', 'YG', 'CCTV', 'A', 'A', 'AP', 'MBC', 'A', 'B', 'AI', 'JTBC', 'B', 'UAE', 'XXXX', 'X', 'XX', 'JTBC', 'CP', 'AI', 'UAE', 'FA', 'CCTV', 'CGTN', 'K', 'SRF', 'SNS', 'PB', 'B', 'A', 'B', 'UAE', 'K', 'A', 'B', 'LPGA', 'BBC', 'DJ', 'PD', 'PD', 'BBC', 'MBCTV', 'SRF', 'C', 'A', 'A', 'A', 'A', 'ICBM', 'ICBM', 'TV', 'A', 'LG', 'A', 'B', 'A', 'B', 'C', 'WHO', 'SB', 'SNS', 'FA', 'GTX', 'NXC', 'NXC', 'NXC', 'H', 'A', 'WHO', 'KB', 'WM', 'CD', 'A', 'B', 'CCTV', 'A', 'A', 'A', 'WHO', 'YG', 'MBC', 'YG', 'YG', 'XXX', 'VIP', 'UAE', 'UAE', 'UAE', 'SNS', 'JTBC', 'IT', 'H', 'H', 'H', 'B', 'BBC', 'A', 'A', 'A', 'B', 'A', 'A', 'AI', 'TV', 'USB', 'DMZ', 'SK', 'LG', 'JSA', 'CCTV', 'TVB', 'A', 'A', 'DMZ', 'CIA', 'CIA', 'CIA', 'WFP', 'WFP', 'TV', 'SCI', 'A', 'A', 'KPS', 'D', 'YG', 'DMZ', 'TV', 'UAE', 'UAE', 'LTMSA', 'MSA', 'AP', 'D', 'SC', 'YG', 'KT', 'KT', 'KT', 'KT', 'KT', 'DNA', 'VFF', 'MBC', 'B', 'CEO', 'BMW', 'BMW', 'KT', 'MBC', 'A', 'A', 'A', 'SNS', 'YG', 'MOU', 'WFP', 'YG', 'YG', 'A', 'YG', 'OS', 'TV', 'TV', 'DNA', 'YG', 'YG', 'B', 'A', 'LCC', 'B', 'C', 'NLL', 'MBC', 'UC', 'A', 'X', 'A', 'TF', 'None', 'LG', 'LNG', 'MBC', 'C', 'K', 'NSC', 'YG', 'PSV', 'YG', 'B', 'LG', 'TV', 'SNS', 'DNA', 'YG', 'MBC', 'KST', 'B', 'YG', 'A', 'A', 'A', 'LSD', 'YG', 'A', 'Fed', 'WWDC', 'WP', 'MC', 'LCC', 'KT', 'KT', 'KFC', 'EITC', 'EITC', 'EITC', 'A', 'A', 'A', 'B', 'B', 'A', 'A', 'A', 'A', 'A', 'D', 'D', 'X', 'SNS', 'US', 'DJ', 'D', 'A', 'A', 'TV', 'A', 'B', 'A', 'A', 'SNS', 'SNS', 'KADIZ', 'TV', 'KBO', 'A', 'SK', 'SOC', 'A', 'A', 'A', 'A', 'B', 'A', 'B', 'A', 'A', 'A', 'A', 'VIP', 'B', 'A', 'A', 'A', 'A', 'TV', 'A', 'KT', 'DNA', 'A', 'A', 'A', 'AI', 'TV', 'FC', 'K', 'WFP', 'A', 'NSC', 'NSC', 'SUV', 'SUV', 'SUV', 'X', 'A', 'MB', 'MRI', 'KT', 'KAI', 'KT', 'KAL', 'WTO', 'WTO', 'AI', 'FNN', 'CCF', 'A', 'A', 'IT', 'no', 'O', 'TV', 'DJ', 'FBI', 'A', 'A', 'KT', 'KT', 'OOO', 'XXX', 'UN', 'SNS', 'A', 'A', 'A', 'TV', 'NSC', 'SK', 'A', 'B', 'A', 'A', 'A', 'DJ', 'TV', 'TV', 'NSC', 'KT', 'FTA', 'A', 'MC', 'A', 'A', 'B', 'MBC', 'SNS', 'A', 'A', 'A', 'A', 'B', 'A', 'A', 'SK', 'GS', 'YG', 'YG', 'MBC', 'YG', 'YG', 'UN', 'TF', 'SNS', 'SNS', 'RCEP', 'MC', 'MC', 'MC', 'LA', 'SNS', 'no', 'IMF', 'OECD', 'GTX', 'GDP', 'CNN', 'CICI', 'CCTV', 'B', 'A', 'A', 'A', 'A', 'A', 'A', 'A', 'AI', 'KOREA', 'JTBC', 'TPO', 'TPO', 'SBS', 'TV', 'A', 'A', 'D', 'D', 'MB', 'MBC', 'AI', 'D', 'SNS', 'SNS', 'DHC', 'DHCTV', 'A', 'SK', 'SK', 'DHC', 'no', 'X', 'NSC', 'A', 'B', 'CCTV', 'D', 'A', 'SNS', 'X', 'X', 'SNS', 'DHCTV', 'DHCTV', 'A', 'SKLG', 'OTT', 'no', 'JTBC', 'MBC', 'CJ', 'SK', 'A', 'LSI', 'TV', 'DHC', 'BJ', 'SCI', 'V', 'SNS', 'ZG', 'A', 'A', 'ACC', 'ACC', 'LG', 'LG', 'SK', 'LG', 'TEPS', 'TVBJ', 'BJ', 'BJ', 'BJ', 'BJ', 'K', 'B', 'A', 'B', 'A', 'B', 'MLB', 'B', 'SK', 'SBS', 'LG', 'K', 'D', 'D', 'DJ', 'DHC', 'DHCTV', 'CNBC', 'B', 'C', 'A', 'A', 'A', 'A', 'A', 'A', 'A', 'A', 'DHC', 'DHC', 'X', 'SNS', 'CCTV', 'B', 'PFA', 'PC', 'STOP', 'GKH', 'TV', 'LG', 'PK', 'A', 'BBC', 'DJ', 'SK', 'MBC', 'A', 'A', 'F', 'SK', 'A', 'A', 'A', 'CNBC', 'KDI', 'TV', 'KDI', 'DJ', 'A', 'A', 'SMC', 'C', 'DJ', 'B', 'YG', 'YG', 'B', 'D', 'A', 'A', 'A', 'A', 'A', 'KCC', 'B', 'A', 'B', 'LPG', 'B', 'B', 'A', 'B', 'SNS', 'A', 'A', 'A', 'PK', 'XX', 'A', 'SNS', 'A', 'DJ', 'OECD', 'BT', 'CEO', 'FC', 'IMF', 'CCTV', 'A', 'TF', 'A', 'A', 'A', 'WP', 'WHO', 'WHO', 'TV', 'LPG', 'LPG', 'LPG', 'LA', 'KCC', 'JSA', 'JSA', 'ISD', 'A', 'D', 'BBC', 'A', 'B', 'A', 'B', 'KT', 'TV', 'LTE', 'A', 'B', 'LTE', 'A', 'A', 'TV', 'YG', 'XX', 'XX', 'LG', 'ILO', 'A', 'TV', 'BTS', 'GPS', 'KPS', 'pH', 'SBS', 'YG', 'YG', 'SNS', 'A', 'B', 'B', 'CJENM', 'A', 'FA', 'CCTV', 'H', 'KFC', 'A', 'BTS', 'GIO', 'USB', 'DNA', 'FNC', 'FT', 'kia', 'TV', 'TV', 'TV', 'LNG', 'BTS', 'MaaSGlobal', 'ILO', 'A', 'KT', 'KB', 'LPG', 'LPG', 'SUV', 'SPA', 'A', 'A', 'TV', 'A', 'A', 'MBC', 'WHO', 'VOD', 'UAE', 'T', 'SI', 'NC', 'MLB', 'KFC', 'KFC', 'ESPN', 'ESPN', 'CNN', 'CJENM', 'B', 'A', 'A', 'B', 'C', 'A', 'A', 'A', 'A', 'A', 'A', 'A', 'A', 'B', 'A', 'B', 'SNS', 'TV', 'IR', 'SNS', 'A', 'VIP', 'B', 'B', 'LG', 'KADIZ', 'JADIZ', 'SNS', 'SK', 'KADIZ', 'JADIZ', 'A', 'm', 'WTO', 'KFX', 'A', 'WTO', 'WTO', 'WTO', 'SK', 'SK', 'A', 'WTO', 'WTO', 'A', 'B', 'TV', 'TV', 'N', 'SPA', 'SKLG', 'MBC', 'A', 'MBC', 'A', 'MBC', 'TOK', 'EITC', 'WTO', 'LPGA', 'A', 'A', 'B', 'A', 'B', 'What', 'the', 'hell', 'is', 'that', 'WTO', 'SOS', 'SOS', 'OB', 'NC', 'NC', 'NBA', 'MBN', 'MBC', 'MBC', 'SNS', 'LG', 'GmbH', 'TMW', 'DJ', 'CCTV', 'A', 'A', 'A', 'A', 'MBC', 'A', 'A', 'ANA', 'LTE', 'SK', 'KT', 'LTE', 'LTE', 'SK', 'KT', 'LTE', 'A', 'TKTS', 'O', 'A', 'A', 'A', 'A', 'O', 'SDI', 'A', 'SR', 'NSC', 'A', 'PK', 'YG', 'DHC', 'DHC', 'WTO', 'DHC', 'CBS', 'TV', 'AB', 'No', 'No', 'A', 'e', 'KOC', 'KOC', 'MBC', 'NGO', 'A', 'C', 'IT', 'no', 'BOYCOTTJAPAN', 'PK', 'EMP', 'A', 'YS', 'A', 'TV', 'A', 'A', 'A', 'INF', 'M', 'A', 'B', 'CJE', 'M', 'ILO', 'WHO', 'SK', 'NSC', 'LCC', 'DHC', 'CCTV', 'A', 'B', 'B', 'A', 'AB', 'CD', 'ARF', 'IMF', 'TV', 'B', 'X', 'PM', 'SCFDA', 'VIP', 'MD', 'NC', 'VIPVVIP', 'VIP', 'MD', 'VIP', 'CVC', 'B', 'NC', 'kia', 'WTO', 'WP', 'WP', 'VVIP', 'SNS', 'OLEDTV', 'NC', 'LH', 'CJENM', 'CCTV', 'AFP', 'PFA', 'WHO', 'MBC', 'YG', 'EITC', 'DNA', 'IBM', 'e', 'SOS', 'GBK', 'CCTV', 'CD', 'PF', 'NC', 'KBO', 'PF', 'PF', 'WHO', 'G', 'A', 'B', 'A', 'BTS', 'KB', 'A', 'A', 'A', 'FAO', 'H', 'MBA', 'A', 'YG', 'A', 'YG', 'B', 'A', 'A', 'SKY', 'OO', 'XXX', 'A', 'TF', 'TV', 'KB', 'SKT', 'A', 'A', 'B', 'C', 'A', 'A', 'YG', 'YG', 'SNS', 'SKD', 'D', 'OECD', 'L', 'LA', 'LA', 'AP', 'KT', 'SKT', 'SK', 'YG', 'SKY', 'YG', 'CCTV', 'JTBC', 'YG', 'SNS', 'CCF', 'CCF', 'CCF', 'SUV', 'SUV', 'DMZ', 'DMZ', 'CICI', 'DMZ', 'SK', 'XIOTData', 'PK', 'PK', 'FGI', 'PK', 'WSJ', 'e', 'e', 'YG', 'e', 'MLB', 'DMZ', 'e', 'MBC', 'MTI', 'YG', 'S', 'SUV', 'SUV', 'YG', 'DMZ', 'TV', 'TV', 'A', 'B', 'A', 'YG', 'VCNC', 'SK', 'T', 'PK', 'KDI', 'GM', 'CCF', 'e', 'CU', 'A', 'A', 'B', 'A', 'DY', 'A', 'SNS', 'A', 'LNG', 'K', 'B', 'A', 'B', 'A', 'A', 'LCC', 'NSC', 'TV', 'A', 'LG', 'GS', 'TV', 'WMD', 'TV', 'CBS', 'CEO', 'DT', 'A', 'B', 'A', 'B', 'C', 'SNSDM', 'A', 'A', 'LG', 'DY', 'A', 'X', 'A', 'TV', 'SNS', 'LG', 'LA', 'DY', 'DJ', 'C', 'A', 'B', 'B', 'BJ', 'A', 'A', 'B', 'A', 'A', 'A', 'A', 'A', 'A', 'A', 'A', 'A', 'A', 'SK', 'SK', 'CIA', 'A', 'A', 'NXC', 'A', 'B', 'DHC', 'S', 'A', 'SNS', 'SNS', 'MVP', 'R', 'D', 'ICBM', 'IRB', 'A', 'SNS', 'A', 'IRB', 'DHC', 'DHC', 'SNS', 'A', 'A', 'A', 'FBI', 'BS', 'A', 'M', 'PC', 'R', 'D', 'R', 'D', 'DHC', 'SNS', 'SNS', 'TK', 'SNS', 'LIHKG', 'sandstill', 'agreement', 'A', 'B', 'A', 'IRB', 'A', 'NH', 'WHO', 'IVI', 'LPGA', 'R', 'D', 'DHC', 'AS', 'DHCTV', 'DHC', 'A', 'SNS', 'IVI', 'IBM', 'DHC', 'DHCTV', 'DHC', 'CBS', 'A', 'B', 'A', 'A', 'B', 'A', 'B', 'A', 'X', 'X', 'X', 'R', 'D', 'DHC', 'USB', 'USB', 'USB', 'USB', 'USB', 'USB', 'USB', 'TV', 'TV', 'TV', 'TV', 'TV', 'TV', 'VOD', 'VOD', 'VOD', 'USB', 'USB', 'USB', 'USB', 'TV', 'TV', 'DJ', 'TV', 'USB', 'USB', 'TV', 'TV', 'TV', 'TV', 'TV', 'TV', 'GiGA', 'ID', 'VOD', 'TV', 'TV', 'G', 'TV', 'ID', 'VOD', 'TV', 'MBC', 'Her', 'USB', 'TV', 'S', 'Good', 'night', 'TV', 'TV', 'Hi', 'TV', 'IoT', 'TV', 'TV', 'ID', 'ID', 'WPS', 'TV', 'TV', 'GiGA', 'ID', 'TBSFM', 'BBS', 'VOD', 'VOD', 'TV', 'TV', 'TV', 'TV', 'TV', 'OST', 'GOOGLE', 'TV', 'TV', 'UHD', 'TV', 'TV', 'TV', 'TV', 'TV', 'TV', 'TV', 'TV', 'TV', 'TV', 'TV', 'USB', 'USB', 'USB', 'TV', 'twice', 'twice', 'twice', 'twice', 'twice', 'gee', 'TV', 'TV', 'queen', 'queen', 'TV', 'TV', 'TV', 'TV', 'twice', 'twice', 'VOD', 'TV', 'TV', 'MBC', 'FM', 'TV', 'ASMR', 'ASMR', 'ASMR', 'JTBC', 'SNS', 'A', 'PSG', 'FBI', 'KTB', 'TV', 'FC', 'TotsSomBarcelona', 'CBS', 'LG', 'X', 'IDT', 'MBC', 'A', 'A', 'X', 'EOD', 'CCTV', 'LG', 'LG', 'FBI', 'DMZ', 'BTS', 'A', 'A', 'B', 'A', 'A', 'B', 'B', 'VIP', 'CCTV', 'LPG', 'LPG', 'KCGI', 'SNS', 'FOD', 'YG', 'CCTV', 'MBC', 'NB', 'YG', 'KTX', 'A', 'SDS', 'CPM', 'CPC', 'LPG', 'CCTV', 'DNA', 'A', 'KTX', 'LPG', 'LPG', 'A', 'A', 'SDS', 'SDS', 'DC', 'YG', 'YG', 'WHO', 'SA', 'PC', 'CCTV', 'B', 'A', 'BDA', 'A', 'A', 'A', 'A', 'SNS', 'KPS', 'TV', 'A', 'B', 'LNG', 'Fed', 'FOMC', 'TNR', 'UFJ', 'MLB', 'A', 'TV', 'A', 'A', 'CCTV', 'VIP', 'A', 'A', 'YG', 'YG', 'BBS', 'CNBC', 'ATT', 'FOMC', 'MLB', 'MLB', 'A', 'YG', 'SNS', 'J', 'A', 'A', 'LSD', 'KT', 'MC', 'YG', 'NS', 'NS', 'BJ', 'VIP', 'YG', 'K', 'TV', 'SCMP', 'NYT', 'NHK', 'LNG', 'LNG', 'K', 'K', 'K', 'IMF', 'B', 'A', 'A', 'A', 'A', 'AT', 'T', 'AT', 'T', 'A', 'FC', 'A', 'A', 'A', 'SBS', 'SNS', 'A', 'R', 'D', 'SK', 'A', 'GM', 'SNS', 'CSIS', 'CEO', 'FC', 'CNN', 'A', 'NSC', 'DMZ', 'A', 'PSG', 'D', 'A', 'GS', 'GS', 'GS', 'A', 'A', 'A', 'A', 'DNA', 'SNS', 'SNS', 'NASH', 'KB', 'A', 'A', 'YGX', 'A', 'A', 'A', 'A', 'AP', 'A', 'YG', 'EV', 'DHCTV', 'DHC', 'DHCTV', 'NSC', 'SBS', 'stop', 'STOP', 'A', 'A', 'YG', 'SK', 'KT', 'LTE', 'VIP', 'K', 'KT', 'MLB', 'A', 'LTE', 'LTE', 'KBO', 'ESTA', 'DHCTV', 'B', 'A', 'A', 'A', 'A', 'B', 'A', 'A', 'B', 'A', 'A', 'PM', 'IPCC', 'LG']\n"
          ]
        }
      ]
    },
    {
      "cell_type": "code",
      "source": [
        "import numpy as np\n",
        "def eng2idx(str1):\n",
        "  str2idx = [char for char in str1]\n",
        "  str2idx1 = [english2idx[char] for char in str2idx]\n",
        "  str2idx2 = str2idx1[::-1]\n",
        "  while len(str2idx2) < max_len_src:\n",
        "    str2idx2.append(0)\n",
        "  return [str2idx2]\n",
        "\n",
        "from keras.models import load_model\n",
        "\n",
        "def one_hot2idx(model, str):\n",
        "  predic = model.predict(eng2idx(str))\n",
        "  predic_char = predic[0][0]\n",
        "  _idx2korean = []\n",
        "  for idx, val in enumerate(predic[0]):\n",
        "    max_index = np.argmax(val)\n",
        "    _idx2korean.append(max_index)\n",
        "\n",
        "  idx2korean_ = [idx2korean[idx] for idx in _idx2korean if idx != 0]\n",
        "\n",
        "  return ''.join(idx2korean_)\n",
        "\n",
        "# with open('/content/eng_source_result.txt', 'w') as file:\n",
        "#     for item in lines:\n",
        "#         result = one_hot2idx(model, item)\n",
        "#         file.write(result + '\\n')  # Write the result to the file\n",
        "\n",
        "# print(\"Results saved to 'output.txt'\")\n",
        "\n",
        "print(one_hot2idx(model, \"b\"))\n",
        "print(one_hot2idx(model, \"ifoexa\"))\n",
        "print(one_hot2idx(model, \"IFOEXA\"))\n",
        "\n",
        "# print(one_hot2idx(model, \"jonna\"))\n",
        "# print(one_hot2idx(model, \"fuck\"))\n",
        "# print(one_hot2idx(model, \"you\"))\n",
        "# print(one_hot2idx(model, \"bitch\"))\n",
        "# print(one_hot2idx(model, \"mega\"))\n",
        "# print(one_hot2idx(model, \"samsung\"))\n",
        "# print(one_hot2idx(model, \"hyundai\"))\n",
        "# print(one_hot2idx(model, \"homerunball\"))\n",
        "# print(one_hot2idx(model, \"control\"))\n",
        "# print(one_hot2idx(model, \"wori\"))\n",
        "# print(one_hot2idx(model, \"once\"))\n",
        "# print(one_hot2idx(model, \"twice\"))\n",
        "# print(one_hot2idx(model, \"sexily\"))\n",
        "# print(one_hot2idx(model, \"halabozi\"))\n",
        "# print(one_hot2idx(model, \"multiheadattention\"))\n",
        "# print(one_hot2idx(model, \"whitecotton\"))\n",
        "# print(one_hot2idx(model, \"youmotherboom\"))\n",
        "# print(one_hot2idx(model, \"sequencediagram\"))\n",
        "# print(one_hot2idx(model, \"natural\"))\n",
        "# print(one_hot2idx(model, \"language\"))\n",
        "# print(one_hot2idx(model, \"processing\"))\n",
        "# print(one_hot2idx(model, \"IRB\"))\n",
        "# print(one_hot2idx(model, \"G\"))\n",
        "# print(one_hot2idx(model, \"SNS\"))\n",
        "# print(one_hot2idx(model, \"LOVE\"))\n",
        "# print(one_hot2idx(model, \"MS\"))\n",
        "# print(one_hot2idx(model, \"RMD\"))\n",
        "# print(one_hot2idx(model, \"K\"))\n",
        "# print(one_hot2idx(model, \"REMAP\"))\n",
        "# print(one_hot2idx(model, \"K\"))\n",
        "# print(one_hot2idx(model, \"POP\"))\n",
        "# print(one_hot2idx(model, \"K POP\"))\n",
        "# print(one_hot2idx(model, \"P\"))\n",
        "# print(one_hot2idx(model, \"SIGNAL\"))"
      ],
      "metadata": {
        "colab": {
          "base_uri": "https://localhost:8080/"
        },
        "id": "zxCzbQnJ71ZE",
        "outputId": "7fa42876-0300-4ef6-8d21-b9a829026aa5"
      },
      "execution_count": null,
      "outputs": [
        {
          "output_type": "stream",
          "name": "stdout",
          "text": [
            "1/1 [==============================] - 0s 37ms/step\n",
            "더이유\n",
            "1/1 [==============================] - 0s 34ms/step\n",
            "아이피세\n",
            "1/1 [==============================] - 0s 37ms/step\n",
            "아이에프아이에에에에이\n"
          ]
        }
      ]
    },
    {
      "cell_type": "markdown",
      "source": [],
      "metadata": {
        "id": "Kq-NZDMmbrsQ"
      }
    },
    {
      "cell_type": "code",
      "source": [
        "!pip install eng-to-ipa"
      ],
      "metadata": {
        "id": "MLFq4H9aH-Sr",
        "colab": {
          "base_uri": "https://localhost:8080/"
        },
        "outputId": "a4432178-2039-4e91-f6a5-2c04ab04fe7f"
      },
      "execution_count": null,
      "outputs": [
        {
          "output_type": "stream",
          "name": "stdout",
          "text": [
            "Collecting eng-to-ipa\n",
            "  Downloading eng_to_ipa-0.0.2.tar.gz (2.8 MB)\n",
            "\u001b[2K     \u001b[90m━━━━━━━━━━━━━━━━━━━━━━━━━━━━━━━━━━━━━━━━\u001b[0m \u001b[32m2.8/2.8 MB\u001b[0m \u001b[31m14.8 MB/s\u001b[0m eta \u001b[36m0:00:00\u001b[0m\n",
            "\u001b[?25h  Preparing metadata (setup.py) ... \u001b[?25l\u001b[?25hdone\n",
            "Building wheels for collected packages: eng-to-ipa\n",
            "  Building wheel for eng-to-ipa (setup.py) ... \u001b[?25l\u001b[?25hdone\n",
            "  Created wheel for eng-to-ipa: filename=eng_to_ipa-0.0.2-py3-none-any.whl size=2822607 sha256=1bb0a4043643737509dbe3b0051ebb5fb627792588378c6f4881d7566a2eaba3\n",
            "  Stored in directory: /root/.cache/pip/wheels/5b/ab/07/fe6722f710d8ef8bd0ccb4eb689ef96f5552f3fc0c80c1aa9c\n",
            "Successfully built eng-to-ipa\n",
            "Installing collected packages: eng-to-ipa\n",
            "Successfully installed eng-to-ipa-0.0.2\n"
          ]
        }
      ]
    },
    {
      "cell_type": "code",
      "source": [
        "import eng_to_ipa as ipa\n",
        "\n",
        "apple = ipa.convert(\"\")\n",
        "print(apple)"
      ],
      "metadata": {
        "colab": {
          "base_uri": "https://localhost:8080/"
        },
        "id": "sAXLN7UDRuz6",
        "outputId": "ec2dd220-7d03-4346-c70e-a7276ca01a41"
      },
      "execution_count": null,
      "outputs": [
        {
          "output_type": "stream",
          "name": "stdout",
          "text": [
            "kaiti*\n"
          ]
        }
      ]
    }
  ]
}